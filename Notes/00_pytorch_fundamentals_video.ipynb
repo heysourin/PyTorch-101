{
  "nbformat": 4,
  "nbformat_minor": 0,
  "metadata": {
    "colab": {
      "provenance": [],
      "gpuType": "T4",
      "authorship_tag": "ABX9TyP5AvI1aV194yACnPAxVWah",
      "include_colab_link": true
    },
    "kernelspec": {
      "name": "python3",
      "display_name": "Python 3"
    },
    "language_info": {
      "name": "python"
    },
    "accelerator": "GPU"
  },
  "cells": [
    {
      "cell_type": "markdown",
      "metadata": {
        "id": "view-in-github",
        "colab_type": "text"
      },
      "source": [
        "<a href=\"https://colab.research.google.com/github/heysourin/PyTorch-101/blob/main/Notes/00_pytorch_fundamentals_video.ipynb\" target=\"_parent\"><img src=\"https://colab.research.google.com/assets/colab-badge.svg\" alt=\"Open In Colab\"/></a>"
      ]
    },
    {
      "cell_type": "code",
      "execution_count": null,
      "metadata": {
        "colab": {
          "base_uri": "https://localhost:8080/"
        },
        "id": "LaD0ol42cTg2",
        "outputId": "7e75455e-f95e-4e5f-bc49-0794d0fe4b4b"
      },
      "outputs": [
        {
          "output_type": "stream",
          "name": "stdout",
          "text": [
            "Hello world\n"
          ]
        }
      ],
      "source": [
        "print(\"Hello world\")"
      ]
    },
    {
      "cell_type": "code",
      "source": [
        "!nvidia-smi"
      ],
      "metadata": {
        "colab": {
          "base_uri": "https://localhost:8080/"
        },
        "id": "FIAsHY-QccIo",
        "outputId": "debddd95-88bd-4b85-9089-9b34ecdc66ac"
      },
      "execution_count": null,
      "outputs": [
        {
          "output_type": "stream",
          "name": "stdout",
          "text": [
            "/bin/bash: line 1: nvidia-smi: command not found\n"
          ]
        }
      ]
    },
    {
      "cell_type": "code",
      "source": [
        "import torch\n",
        "import pandas as pd\n",
        "import numpy as np\n",
        "import matplotlib.pyplot as plt"
      ],
      "metadata": {
        "id": "11p52AZedN_K"
      },
      "execution_count": null,
      "outputs": []
    },
    {
      "cell_type": "code",
      "source": [
        "print(torch.__version__)"
      ],
      "metadata": {
        "colab": {
          "base_uri": "https://localhost:8080/"
        },
        "id": "AArorTmWdioy",
        "outputId": "f53eaced-422a-45e3-8ab1-4fb13a6edcf5"
      },
      "execution_count": null,
      "outputs": [
        {
          "output_type": "stream",
          "name": "stdout",
          "text": [
            "2.3.0+cu121\n"
          ]
        }
      ]
    },
    {
      "cell_type": "code",
      "source": [
        "scalar = torch.tensor(7)\n",
        "print(scalar)\n",
        "print(scalar.ndim)\n",
        "print(scalar.shape)\n",
        "print(scalar.item())"
      ],
      "metadata": {
        "colab": {
          "base_uri": "https://localhost:8080/"
        },
        "id": "l6NRDfOHfrbn",
        "outputId": "6dd45362-c875-4b90-cf69-b4e34c37f31c"
      },
      "execution_count": null,
      "outputs": [
        {
          "output_type": "stream",
          "name": "stdout",
          "text": [
            "tensor(7)\n",
            "0\n",
            "torch.Size([])\n",
            "7\n"
          ]
        }
      ]
    },
    {
      "cell_type": "code",
      "source": [
        "vector = torch.tensor([7,9,7])\n",
        "print(vector)\n",
        "print(vector.ndim)\n",
        "# print(vector.item()) # Error"
      ],
      "metadata": {
        "colab": {
          "base_uri": "https://localhost:8080/"
        },
        "id": "72pM240eduLc",
        "outputId": "e9d42eba-6e46-4b4d-e03d-552000f3fe13"
      },
      "execution_count": null,
      "outputs": [
        {
          "output_type": "stream",
          "name": "stdout",
          "text": [
            "tensor([7, 9, 7])\n",
            "1\n"
          ]
        }
      ]
    },
    {
      "cell_type": "code",
      "source": [
        "vector.shape"
      ],
      "metadata": {
        "colab": {
          "base_uri": "https://localhost:8080/"
        },
        "id": "Jfgvhni-geil",
        "outputId": "687e620f-c04a-4aea-b973-2e149328d25e"
      },
      "execution_count": null,
      "outputs": [
        {
          "output_type": "execute_result",
          "data": {
            "text/plain": [
              "torch.Size([3])"
            ]
          },
          "metadata": {},
          "execution_count": 9
        }
      ]
    },
    {
      "cell_type": "code",
      "source": [
        "arr = np.array([7,7])\n",
        "arr"
      ],
      "metadata": {
        "colab": {
          "base_uri": "https://localhost:8080/"
        },
        "id": "ajiiFt50fk9G",
        "outputId": "b342403a-c5c1-4a49-c0e8-2ad93ea1eadb"
      },
      "execution_count": null,
      "outputs": [
        {
          "output_type": "execute_result",
          "data": {
            "text/plain": [
              "array([7, 7])"
            ]
          },
          "metadata": {},
          "execution_count": 8
        }
      ]
    },
    {
      "cell_type": "code",
      "source": [
        "arr2 = np.array([2,3])\n",
        "arr.shape"
      ],
      "metadata": {
        "colab": {
          "base_uri": "https://localhost:8080/"
        },
        "id": "33oljChQf4Wj",
        "outputId": "a7506d03-e4d2-4da1-e61a-0cd170579654"
      },
      "execution_count": null,
      "outputs": [
        {
          "output_type": "execute_result",
          "data": {
            "text/plain": [
              "(2,)"
            ]
          },
          "metadata": {},
          "execution_count": 9
        }
      ]
    },
    {
      "cell_type": "code",
      "source": [
        "# MATRIX\n",
        "MATRIX = torch.tensor([[7,8,12],\n",
        "                      [9,10,11]])\n",
        "print(MATRIX)\n",
        "print(MATRIX.ndim)\n",
        "print(MATRIX.shape)"
      ],
      "metadata": {
        "colab": {
          "base_uri": "https://localhost:8080/"
        },
        "id": "SqM1qEs5gnts",
        "outputId": "f0cedf16-0c6f-498a-f207-0bea548b027f"
      },
      "execution_count": null,
      "outputs": [
        {
          "output_type": "stream",
          "name": "stdout",
          "text": [
            "tensor([[ 7,  8, 12],\n",
            "        [ 9, 10, 11]])\n",
            "2\n",
            "torch.Size([2, 3])\n"
          ]
        }
      ]
    },
    {
      "cell_type": "code",
      "source": [
        "#TENSOR\n",
        "TENSOR = torch.tensor([[[1,2,3],\n",
        "                        [2,5,6],\n",
        "                        [11,12,13]],\n",
        "\n",
        "                       [[1,2,3],\n",
        "                        [2,5,6],\n",
        "                        [11,12,13]]\n",
        "                       ])\n",
        "print(TENSOR)\n",
        "print(TENSOR.ndim)\n",
        "print(TENSOR.shape)"
      ],
      "metadata": {
        "colab": {
          "base_uri": "https://localhost:8080/"
        },
        "id": "9yONlkS8gxSP",
        "outputId": "cd674950-e546-4d07-a518-037bebf919bb"
      },
      "execution_count": null,
      "outputs": [
        {
          "output_type": "stream",
          "name": "stdout",
          "text": [
            "tensor([[[ 1,  2,  3],\n",
            "         [ 2,  5,  6],\n",
            "         [11, 12, 13]],\n",
            "\n",
            "        [[ 1,  2,  3],\n",
            "         [ 2,  5,  6],\n",
            "         [11, 12, 13]]])\n",
            "3\n",
            "torch.Size([2, 3, 3])\n"
          ]
        }
      ]
    },
    {
      "cell_type": "code",
      "source": [
        "TENSOR[0][1]"
      ],
      "metadata": {
        "colab": {
          "base_uri": "https://localhost:8080/"
        },
        "id": "GbQfx-JejaLn",
        "outputId": "3b6135fa-8dbd-49a7-f0f6-e063f2e5aaec"
      },
      "execution_count": null,
      "outputs": [
        {
          "output_type": "execute_result",
          "data": {
            "text/plain": [
              "tensor([2, 5, 6])"
            ]
          },
          "metadata": {},
          "execution_count": 12
        }
      ]
    },
    {
      "cell_type": "code",
      "source": [
        "np.array([[[1,0,0,0],[1,0,0,0]],\n",
        "          [[1,0,0,0],[1,0,0,0]],\n",
        "          [[1,0,0,0],[1,0,0,0]]\n",
        "          ]).shape"
      ],
      "metadata": {
        "colab": {
          "base_uri": "https://localhost:8080/"
        },
        "id": "W28om7SUhehw",
        "outputId": "07f12c9d-d2ae-4a4f-b08b-1ec9302ba8e4"
      },
      "execution_count": null,
      "outputs": [
        {
          "output_type": "execute_result",
          "data": {
            "text/plain": [
              "(3, 2, 4)"
            ]
          },
          "metadata": {},
          "execution_count": 13
        }
      ]
    },
    {
      "cell_type": "markdown",
      "source": [
        "# **Random tensors**\n",
        "## Why random tensors?\n",
        "- Random tensors are important because the way many neural networks learn is that they start with tensors full of random numbers and then adjust those random numbers to better represent the data.\n",
        "- Start with random numbers -> look at data →> update random numbers →> look at data →> update random numbers"
      ],
      "metadata": {
        "id": "qY44cU5zlrTh"
      }
    },
    {
      "cell_type": "code",
      "source": [
        "random_tensor = torch.rand(3,4) # create a random tensor of size (3,4)\n",
        "print(random_tensor)\n",
        "print(random_tensor.ndim)"
      ],
      "metadata": {
        "colab": {
          "base_uri": "https://localhost:8080/"
        },
        "id": "TgB6dfR4lTic",
        "outputId": "80be0861-13ec-4dde-9731-895afbcea531"
      },
      "execution_count": null,
      "outputs": [
        {
          "output_type": "stream",
          "name": "stdout",
          "text": [
            "tensor([[0.7356, 0.3132, 0.7558, 0.6355],\n",
            "        [0.5755, 0.6528, 0.9537, 0.4694],\n",
            "        [0.4598, 0.5162, 0.4201, 0.5489]])\n",
            "2\n"
          ]
        }
      ]
    },
    {
      "cell_type": "code",
      "source": [
        "random_tensor = torch.rand(10,10,10) # create a random tensor of size (\n",
        "print(random_tensor)\n",
        "print(random_tensor.ndim)"
      ],
      "metadata": {
        "colab": {
          "base_uri": "https://localhost:8080/"
        },
        "id": "0cg0NP4TmAGJ",
        "outputId": "e9d97818-2579-4bad-aa9f-bf883fc22592"
      },
      "execution_count": null,
      "outputs": [
        {
          "output_type": "stream",
          "name": "stdout",
          "text": [
            "tensor([[[0.5858, 0.7995, 0.7208, 0.0316, 0.2184, 0.7463, 0.6232, 0.3345,\n",
            "          0.5255, 0.7983],\n",
            "         [0.9634, 0.0712, 0.0277, 0.1645, 0.6840, 0.3484, 0.3502, 0.8025,\n",
            "          0.9994, 0.2342],\n",
            "         [0.2941, 0.5866, 0.4923, 0.8699, 0.1117, 0.6298, 0.3252, 0.9629,\n",
            "          0.2007, 0.2894],\n",
            "         [0.7087, 0.9337, 0.1392, 0.1331, 0.8504, 0.1092, 0.7501, 0.6327,\n",
            "          0.3005, 0.4227],\n",
            "         [0.9186, 0.7888, 0.7166, 0.4009, 0.1483, 0.3571, 0.8018, 0.5967,\n",
            "          0.6023, 0.2313],\n",
            "         [0.3085, 0.0563, 0.1244, 0.5836, 0.2693, 0.7856, 0.3966, 0.5378,\n",
            "          0.2410, 0.3187],\n",
            "         [0.5318, 0.7776, 0.2480, 0.8972, 0.2246, 0.0899, 0.8813, 0.0564,\n",
            "          0.5883, 0.5914],\n",
            "         [0.5360, 0.5633, 0.1041, 0.2339, 0.9654, 0.2464, 0.1870, 0.8983,\n",
            "          0.8230, 0.9354],\n",
            "         [0.2505, 0.2192, 0.0873, 0.1198, 0.7971, 0.7359, 0.4942, 0.2915,\n",
            "          0.0025, 0.5361],\n",
            "         [0.2789, 0.5206, 0.9872, 0.0940, 0.2159, 0.2761, 0.1338, 0.2128,\n",
            "          0.7086, 0.4514]],\n",
            "\n",
            "        [[0.2713, 0.2826, 0.2482, 0.6738, 0.1872, 0.9976, 0.4976, 0.4748,\n",
            "          0.3386, 0.0762],\n",
            "         [0.6879, 0.8539, 0.4448, 0.2263, 0.4393, 0.1328, 0.0803, 0.9270,\n",
            "          0.7761, 0.6213],\n",
            "         [0.1540, 0.1774, 0.2262, 0.2556, 0.0883, 0.6693, 0.7743, 0.8464,\n",
            "          0.1352, 0.2790],\n",
            "         [0.7079, 0.9751, 0.7185, 0.0345, 0.9168, 0.7856, 0.6685, 0.5540,\n",
            "          0.4733, 0.5427],\n",
            "         [0.7247, 0.8865, 0.8807, 0.8528, 0.9261, 0.8257, 0.5249, 0.7581,\n",
            "          0.9880, 0.5539],\n",
            "         [0.5542, 0.0339, 0.1185, 0.7161, 0.3318, 0.4031, 0.3855, 0.1168,\n",
            "          0.0087, 0.9278],\n",
            "         [0.1213, 0.5154, 0.9600, 0.9175, 0.6573, 0.8596, 0.9258, 0.3458,\n",
            "          0.8240, 0.6498],\n",
            "         [0.4674, 0.1815, 0.3468, 0.9839, 0.5036, 0.2637, 0.0795, 0.3215,\n",
            "          0.1921, 0.0319],\n",
            "         [0.6885, 0.0570, 0.1974, 0.2893, 0.5495, 0.1869, 0.2081, 0.4295,\n",
            "          0.9985, 0.4413],\n",
            "         [0.0198, 0.4549, 0.9470, 0.5081, 0.3965, 0.9050, 0.5523, 0.9880,\n",
            "          0.0521, 0.9830]],\n",
            "\n",
            "        [[0.4043, 0.0613, 0.2924, 0.4515, 0.6863, 0.8055, 0.9386, 0.3232,\n",
            "          0.1236, 0.1341],\n",
            "         [0.2887, 0.2068, 0.9956, 0.1458, 0.7424, 0.7104, 0.8032, 0.4240,\n",
            "          0.5207, 0.4260],\n",
            "         [0.3988, 0.9604, 0.2535, 0.0558, 0.4207, 0.1075, 0.8404, 0.5101,\n",
            "          0.3624, 0.4617],\n",
            "         [0.5686, 0.1767, 0.5554, 0.5849, 0.7522, 0.2435, 0.6825, 0.7953,\n",
            "          0.4577, 0.7108],\n",
            "         [0.1461, 0.2323, 0.4149, 0.3413, 0.3291, 0.2638, 0.9583, 0.0893,\n",
            "          0.9146, 0.5835],\n",
            "         [0.3935, 0.8977, 0.6511, 0.8630, 0.3080, 0.1137, 0.1715, 0.9907,\n",
            "          0.4054, 0.0440],\n",
            "         [0.5043, 0.8033, 0.1944, 0.7325, 0.6018, 0.1056, 0.9917, 0.0220,\n",
            "          0.6655, 0.4335],\n",
            "         [0.8118, 0.5306, 0.0198, 0.1826, 0.2887, 0.1454, 0.6713, 0.6561,\n",
            "          0.9968, 0.4043],\n",
            "         [0.8382, 0.1530, 0.0629, 0.8687, 0.5598, 0.3361, 0.5068, 0.9766,\n",
            "          0.5966, 0.6920],\n",
            "         [0.9655, 0.9897, 0.6764, 0.8381, 0.6119, 0.0640, 0.9033, 0.4716,\n",
            "          0.0698, 0.3752]],\n",
            "\n",
            "        [[0.2095, 0.8649, 0.0917, 0.1579, 0.6390, 0.8860, 0.4509, 0.1836,\n",
            "          0.4763, 0.7416],\n",
            "         [0.7974, 0.4922, 0.2930, 0.8231, 0.2495, 0.7627, 0.1243, 0.4473,\n",
            "          0.4441, 0.7056],\n",
            "         [0.2619, 0.9101, 0.5797, 0.1661, 0.9772, 0.3450, 0.8512, 0.0626,\n",
            "          0.9205, 0.7954],\n",
            "         [0.1271, 0.2259, 0.5536, 0.5075, 0.3563, 0.8228, 0.0289, 0.5526,\n",
            "          0.2559, 0.0061],\n",
            "         [0.2241, 0.3155, 0.3869, 0.7715, 0.3932, 0.6283, 0.1666, 0.8021,\n",
            "          0.7286, 0.0605],\n",
            "         [0.0773, 0.6082, 0.1011, 0.6097, 0.2916, 0.0986, 0.6024, 0.7661,\n",
            "          0.1833, 0.9116],\n",
            "         [0.3852, 0.8963, 0.3967, 0.7603, 0.6071, 0.6371, 0.0672, 0.2735,\n",
            "          0.2823, 0.3302],\n",
            "         [0.7405, 0.1029, 0.4081, 0.9747, 0.4793, 0.0705, 0.8443, 0.4818,\n",
            "          0.4515, 0.9522],\n",
            "         [0.9944, 0.7442, 0.8886, 0.9823, 0.2193, 0.8585, 0.5440, 0.8599,\n",
            "          0.6516, 0.4631],\n",
            "         [0.1757, 0.0744, 0.4801, 0.4986, 0.2156, 0.1876, 0.8316, 0.9025,\n",
            "          0.1225, 0.0046]],\n",
            "\n",
            "        [[0.8048, 0.8115, 0.1346, 0.4379, 0.2134, 0.3788, 0.7184, 0.4436,\n",
            "          0.2237, 0.6895],\n",
            "         [0.0817, 0.2200, 0.2107, 0.2327, 0.1065, 0.7124, 0.8893, 0.8550,\n",
            "          0.6825, 0.5507],\n",
            "         [0.6664, 0.8194, 0.4523, 0.5628, 0.0772, 0.9317, 0.2029, 0.9054,\n",
            "          0.3227, 0.1712],\n",
            "         [0.1433, 0.4637, 0.8723, 0.4792, 0.9536, 0.0176, 0.3701, 0.9340,\n",
            "          0.7291, 0.7680],\n",
            "         [0.9570, 0.7550, 0.2332, 0.9735, 0.5531, 0.8213, 0.4657, 0.2530,\n",
            "          0.4068, 0.7941],\n",
            "         [0.1895, 0.3734, 0.0668, 0.5702, 0.9980, 0.0831, 0.5117, 0.9861,\n",
            "          0.3843, 0.2774],\n",
            "         [0.0128, 0.2667, 0.3965, 0.8918, 0.9966, 0.2397, 0.8692, 0.3531,\n",
            "          0.2945, 0.1560],\n",
            "         [0.8726, 0.0803, 0.0682, 0.5663, 0.6331, 0.5799, 0.3918, 0.1863,\n",
            "          0.9830, 0.3591],\n",
            "         [0.9017, 0.8162, 0.3347, 0.6925, 0.3427, 0.5908, 0.8725, 0.9199,\n",
            "          0.5675, 0.0171],\n",
            "         [0.0377, 0.1580, 0.5393, 0.2004, 0.2475, 0.5111, 0.9360, 0.2715,\n",
            "          0.0502, 0.5774]],\n",
            "\n",
            "        [[0.0809, 0.2344, 0.7546, 0.8558, 0.8745, 0.2478, 0.1398, 0.7653,\n",
            "          0.7142, 0.4451],\n",
            "         [0.6392, 0.4324, 0.4168, 0.7037, 0.3750, 0.8166, 0.2813, 0.9030,\n",
            "          0.7814, 0.1318],\n",
            "         [0.1178, 0.8358, 0.1649, 0.7691, 0.1825, 0.6912, 0.4550, 0.9436,\n",
            "          0.0800, 0.2805],\n",
            "         [0.5916, 0.0253, 0.9123, 0.2889, 0.7248, 0.7382, 0.0133, 0.8408,\n",
            "          0.0642, 0.0902],\n",
            "         [0.3213, 0.8176, 0.5605, 0.6519, 0.6176, 0.1404, 0.6729, 0.3894,\n",
            "          0.1450, 0.1280],\n",
            "         [0.9202, 0.6568, 0.2938, 0.5456, 0.2426, 0.2892, 0.5703, 0.5353,\n",
            "          0.4207, 0.8619],\n",
            "         [0.0280, 0.4408, 0.8182, 0.5358, 0.3973, 0.5006, 0.6884, 0.3760,\n",
            "          0.6346, 0.9604],\n",
            "         [0.9165, 0.6822, 0.9028, 0.6674, 0.9092, 0.5650, 0.0232, 0.5336,\n",
            "          0.4758, 0.4180],\n",
            "         [0.1847, 0.1412, 0.6565, 0.0178, 0.8866, 0.8772, 0.2229, 0.2682,\n",
            "          0.9963, 0.7571],\n",
            "         [0.5187, 0.5583, 0.2184, 0.0326, 0.6600, 0.7449, 0.6809, 0.9927,\n",
            "          0.7085, 0.2375]],\n",
            "\n",
            "        [[0.5751, 0.5872, 0.0045, 0.2089, 0.6827, 0.1401, 0.0133, 0.8005,\n",
            "          0.5169, 0.5659],\n",
            "         [0.2387, 0.8011, 0.9007, 0.9371, 0.8661, 0.3856, 0.1420, 0.0747,\n",
            "          0.0580, 0.0894],\n",
            "         [0.3519, 0.9834, 0.0616, 0.4247, 0.2946, 0.2452, 0.1993, 0.6621,\n",
            "          0.2041, 0.4386],\n",
            "         [0.9022, 0.9610, 0.5367, 0.1545, 0.0845, 0.9679, 0.8775, 0.5947,\n",
            "          0.8289, 0.4768],\n",
            "         [0.0499, 0.9512, 0.7989, 0.0241, 0.2515, 0.4351, 0.0088, 0.5250,\n",
            "          0.6397, 0.1386],\n",
            "         [0.8754, 0.4398, 0.2744, 0.7033, 0.1025, 0.3696, 0.7451, 0.5891,\n",
            "          0.1802, 0.3452],\n",
            "         [0.9211, 0.6950, 0.0865, 0.4227, 0.3318, 0.1236, 0.0808, 0.3889,\n",
            "          0.9955, 0.8140],\n",
            "         [0.8028, 0.4847, 0.3505, 0.7872, 0.1272, 0.5637, 0.4563, 0.4484,\n",
            "          0.1427, 0.3548],\n",
            "         [0.9154, 0.3446, 0.6784, 0.1459, 0.4411, 0.6630, 0.7203, 0.1877,\n",
            "          0.7065, 0.0993],\n",
            "         [0.1764, 0.9679, 0.8460, 0.7477, 0.7466, 0.8226, 0.9847, 0.2220,\n",
            "          0.2730, 0.6206]],\n",
            "\n",
            "        [[0.9135, 0.0878, 0.3312, 0.3995, 0.8226, 0.4183, 0.2972, 0.1999,\n",
            "          0.7236, 0.2147],\n",
            "         [0.1833, 0.8223, 0.3027, 0.4556, 0.2414, 0.4274, 0.0863, 0.4293,\n",
            "          0.4618, 0.7308],\n",
            "         [0.1474, 0.2950, 0.2043, 0.2855, 0.3887, 0.8342, 0.4593, 0.8854,\n",
            "          0.7096, 0.6106],\n",
            "         [0.1075, 0.6623, 0.4266, 0.0396, 0.2908, 0.9296, 0.0538, 0.6810,\n",
            "          0.6096, 0.6384],\n",
            "         [0.9599, 0.9972, 0.2488, 0.5749, 0.4739, 0.5443, 0.3076, 0.9286,\n",
            "          0.2244, 0.8976],\n",
            "         [0.5108, 0.3775, 0.8108, 0.0206, 0.6482, 0.9897, 0.4277, 0.7274,\n",
            "          0.6841, 0.7333],\n",
            "         [0.0477, 0.5402, 0.6236, 0.4132, 0.7492, 0.0940, 0.1575, 0.3472,\n",
            "          0.0846, 0.2735],\n",
            "         [0.5394, 0.9914, 0.3000, 0.0639, 0.2056, 0.7966, 0.0433, 0.3966,\n",
            "          0.9366, 0.4140],\n",
            "         [0.8292, 0.6125, 0.5603, 0.3914, 0.8858, 0.6651, 0.8989, 0.4255,\n",
            "          0.5625, 0.9544],\n",
            "         [0.8299, 0.0226, 0.7493, 0.6090, 0.5928, 0.5397, 0.9564, 0.1316,\n",
            "          0.5452, 0.2299]],\n",
            "\n",
            "        [[0.3467, 0.6977, 0.3462, 0.2693, 0.6735, 0.0385, 0.4341, 0.1422,\n",
            "          0.0749, 0.3665],\n",
            "         [0.2984, 0.4113, 0.0761, 0.7361, 0.2294, 0.1652, 0.2897, 0.0716,\n",
            "          0.6035, 0.1562],\n",
            "         [0.3789, 0.5007, 0.4919, 0.2181, 0.6868, 0.6926, 0.9526, 0.3003,\n",
            "          0.8018, 0.1282],\n",
            "         [0.8070, 0.3857, 0.4661, 0.6261, 0.4454, 0.5213, 0.0258, 0.0090,\n",
            "          0.7797, 0.2086],\n",
            "         [0.6085, 0.5636, 0.3866, 0.8063, 0.0075, 0.9446, 0.4381, 0.7782,\n",
            "          0.7601, 0.0773],\n",
            "         [0.9673, 0.5572, 0.4504, 0.6338, 0.6736, 0.0051, 0.4529, 0.4686,\n",
            "          0.0985, 0.4922],\n",
            "         [0.6551, 0.2248, 0.8601, 0.9859, 0.1298, 0.9731, 0.4273, 0.9044,\n",
            "          0.1845, 0.7059],\n",
            "         [0.8943, 0.6400, 0.2853, 0.4004, 0.4108, 0.7651, 0.4407, 0.1654,\n",
            "          0.8121, 0.5976],\n",
            "         [0.8576, 0.5727, 0.3874, 0.2548, 0.9199, 0.2409, 0.7572, 0.7800,\n",
            "          0.7777, 0.5089],\n",
            "         [0.4217, 0.0756, 0.9696, 0.5960, 0.9293, 0.6087, 0.4704, 0.1263,\n",
            "          0.7923, 0.9519]],\n",
            "\n",
            "        [[0.1777, 0.4313, 0.8746, 0.0997, 0.5325, 0.2332, 0.1618, 0.3713,\n",
            "          0.7136, 0.0054],\n",
            "         [0.5656, 0.7970, 0.3384, 0.9633, 0.8110, 0.9030, 0.9040, 0.0545,\n",
            "          0.2068, 0.8501],\n",
            "         [0.7810, 0.0019, 0.0921, 0.0658, 0.6828, 0.9753, 0.1038, 0.2178,\n",
            "          0.5184, 0.5617],\n",
            "         [0.1868, 0.6080, 0.1646, 0.3715, 0.3425, 0.6636, 0.2961, 0.6704,\n",
            "          0.7390, 0.0029],\n",
            "         [0.2424, 0.0788, 0.9166, 0.1459, 0.0526, 0.3459, 0.6598, 0.3289,\n",
            "          0.0585, 0.5688],\n",
            "         [0.2600, 0.2203, 0.7214, 0.4279, 0.4393, 0.2159, 0.0396, 0.4091,\n",
            "          0.4259, 0.2457],\n",
            "         [0.9229, 0.3307, 0.5486, 0.2270, 0.7878, 0.7661, 0.2934, 0.9582,\n",
            "          0.6023, 0.1251],\n",
            "         [0.9260, 0.3150, 0.5325, 0.2258, 0.6553, 0.5796, 0.4748, 0.2783,\n",
            "          0.7118, 0.0912],\n",
            "         [0.5455, 0.4963, 0.4950, 0.6630, 0.5176, 0.9257, 0.6827, 0.7659,\n",
            "          0.1920, 0.1606],\n",
            "         [0.8236, 0.3645, 0.4481, 0.7880, 0.2333, 0.6487, 0.4202, 0.8606,\n",
            "          0.3665, 0.0429]]])\n",
            "3\n"
          ]
        }
      ]
    },
    {
      "cell_type": "code",
      "source": [
        "# Create a random tensor with similar shape to an image tensor\n",
        "random_image_size_tensor = torch.rand(size=(24, 224, 3)) # height, width, colour channel(R, G, B)\n",
        "print(random_image_size_tensor.shape)\n",
        "print(random_image_size_tensor.ndim)"
      ],
      "metadata": {
        "colab": {
          "base_uri": "https://localhost:8080/"
        },
        "id": "vzFIVi7JmXFz",
        "outputId": "4721447a-f1f9-4ba0-cf23-a0e64714885b"
      },
      "execution_count": null,
      "outputs": [
        {
          "output_type": "stream",
          "name": "stdout",
          "text": [
            "torch.Size([24, 224, 3])\n",
            "3\n"
          ]
        }
      ]
    },
    {
      "cell_type": "markdown",
      "source": [
        "# **Zeros and Ones**"
      ],
      "metadata": {
        "id": "NXnrFf2apN65"
      }
    },
    {
      "cell_type": "code",
      "source": [
        "## Zeros and Ones\n",
        "zero = torch.zeros(size = (3,4))\n",
        "zero"
      ],
      "metadata": {
        "colab": {
          "base_uri": "https://localhost:8080/"
        },
        "id": "b_AE_TEmoCBb",
        "outputId": "fb26d941-95d4-4e20-a8a7-80aa484732eb"
      },
      "execution_count": null,
      "outputs": [
        {
          "output_type": "execute_result",
          "data": {
            "text/plain": [
              "tensor([[0., 0., 0., 0.],\n",
              "        [0., 0., 0., 0.],\n",
              "        [0., 0., 0., 0.]])"
            ]
          },
          "metadata": {},
          "execution_count": 19
        }
      ]
    },
    {
      "cell_type": "code",
      "source": [
        "ones = torch.ones(size = (3,4))\n",
        "ones"
      ],
      "metadata": {
        "colab": {
          "base_uri": "https://localhost:8080/"
        },
        "id": "7z7HVB55o3vx",
        "outputId": "35f925b9-2355-4e2a-fa18-5307df27aa5e"
      },
      "execution_count": null,
      "outputs": [
        {
          "output_type": "execute_result",
          "data": {
            "text/plain": [
              "tensor([[1., 1., 1., 1.],\n",
              "        [1., 1., 1., 1.],\n",
              "        [1., 1., 1., 1.]])"
            ]
          },
          "metadata": {},
          "execution_count": 20
        }
      ]
    },
    {
      "cell_type": "markdown",
      "source": [
        "### **Creating a range of tensors and tensors-like**"
      ],
      "metadata": {
        "id": "249hlBhNpeAo"
      }
    },
    {
      "cell_type": "code",
      "source": [
        "# torch.range(0,10) ####deprecated\n"
      ],
      "metadata": {
        "id": "Lxm7yU0kpFI3"
      },
      "execution_count": null,
      "outputs": []
    },
    {
      "cell_type": "code",
      "source": [
        "torch.arange(0,10)"
      ],
      "metadata": {
        "colab": {
          "base_uri": "https://localhost:8080/"
        },
        "id": "OmM0r-jxpcd8",
        "outputId": "0b979e6e-6218-49e6-a472-e7e79be11b16"
      },
      "execution_count": null,
      "outputs": [
        {
          "output_type": "execute_result",
          "data": {
            "text/plain": [
              "tensor([0, 1, 2, 3, 4, 5, 6, 7, 8, 9])"
            ]
          },
          "metadata": {},
          "execution_count": 21
        }
      ]
    },
    {
      "cell_type": "markdown",
      "source": [],
      "metadata": {
        "id": "e4IvHrPrRd4M"
      }
    },
    {
      "cell_type": "markdown",
      "source": [
        "## **Creating a range and tensors like:**"
      ],
      "metadata": {
        "id": "0t14jQrcRccE"
      }
    },
    {
      "cell_type": "code",
      "source": [
        "one_to_ten = torch.arange(start=0,end=51, step=5)\n",
        "one_to_ten"
      ],
      "metadata": {
        "colab": {
          "base_uri": "https://localhost:8080/"
        },
        "id": "ZOnH7zw3psT1",
        "outputId": "d6bff5d3-73c4-4039-824d-97b862b0df03"
      },
      "execution_count": null,
      "outputs": [
        {
          "output_type": "execute_result",
          "data": {
            "text/plain": [
              "tensor([ 0,  5, 10, 15, 20, 25, 30, 35, 40, 45, 50])"
            ]
          },
          "metadata": {},
          "execution_count": 22
        }
      ]
    },
    {
      "cell_type": "code",
      "source": [
        "# Creating tesors like\n",
        "ten_zeros = torch.zeros_like(one_to_ten)\n",
        "ten_zeros"
      ],
      "metadata": {
        "colab": {
          "base_uri": "https://localhost:8080/"
        },
        "id": "_khcsEXDp-09",
        "outputId": "7790c8b2-34d6-42d0-f3cc-47b0dde32b4a"
      },
      "execution_count": null,
      "outputs": [
        {
          "output_type": "execute_result",
          "data": {
            "text/plain": [
              "tensor([0, 0, 0, 0, 0, 0, 0, 0, 0, 0, 0])"
            ]
          },
          "metadata": {},
          "execution_count": 23
        }
      ]
    },
    {
      "cell_type": "markdown",
      "source": [
        "# **Tensor Datatypes**\n",
        "\n",
        "- **Note:** Tensor datatypes is one of the 3 big errors you'll run into with PyTorch & deep learning:\n",
        "  1. Tensors not right datatype\n",
        "  2. Tensors not right shape\n",
        "  3. Tensors not on the right device\n",
        "\n",
        "\n",
        "---\n",
        "- **Points to note:**\n",
        "  1. Generally if you see torch.cuda anywhere, the tensor is being used for GPU (since Nvidia GPUs use a computing toolkit called CUDA).\n",
        "\n",
        "  2. The most common type (and generally the default) is torch.float32 or torch.float.\n",
        "\n",
        "  3. This is referred to as \"32-bit floating point\".\n",
        "\n",
        "  4. But there's also 16-bit floating point (torch.float16 or torch.half) and 64-bit floating point (torch.float64 or torch.double).\n",
        "\n"
      ],
      "metadata": {
        "id": "Dpb83JuLqrZB"
      }
    },
    {
      "cell_type": "code",
      "source": [
        "float_32_tensor = torch.tensor([3.0, 6.0, 9.0], dtype = None,\n",
        "                               device = None, #\"cpu\", \"cuda\"\n",
        "                               requires_grad = False) ## whether or not to track gradients with this tensors operations"
      ],
      "metadata": {
        "id": "JYqrBIGHqW_l"
      },
      "execution_count": null,
      "outputs": []
    },
    {
      "cell_type": "code",
      "source": [
        "float_32_tensor.shape, float_32_tensor.dtype, float_32_tensor.device"
      ],
      "metadata": {
        "colab": {
          "base_uri": "https://localhost:8080/"
        },
        "id": "NSlL429aq3FX",
        "outputId": "5e769f28-93b5-4c9a-8cad-5308bd271647"
      },
      "execution_count": null,
      "outputs": [
        {
          "output_type": "execute_result",
          "data": {
            "text/plain": [
              "(torch.Size([3]), torch.float32, device(type='cpu'))"
            ]
          },
          "metadata": {},
          "execution_count": 30
        }
      ]
    },
    {
      "cell_type": "markdown",
      "source": [
        "### ** Note:**\n",
        "  - For 1D array, shape of PyTorch array is :(torch.Size([3])\n",
        "  - For 1D array, shape of numpy array is (3, )\n",
        "\n",
        "  ---"
      ],
      "metadata": {
        "id": "9pvYgvNnIhB9"
      }
    },
    {
      "cell_type": "code",
      "source": [
        "float_16_tensor = torch.tensor([3.0, 6.0, 9.0],\n",
        "                               dtype=torch.float16) # torch.half would also work\n",
        "\n",
        "float_16_tensor.dtype"
      ],
      "metadata": {
        "id": "UYM7xq5NTMzu",
        "outputId": "56c721ad-b5f2-421f-fa5f-0e7582e0a8e1",
        "colab": {
          "base_uri": "https://localhost:8080/"
        }
      },
      "execution_count": null,
      "outputs": [
        {
          "output_type": "execute_result",
          "data": {
            "text/plain": [
              "torch.float16"
            ]
          },
          "metadata": {},
          "execution_count": 32
        }
      ]
    },
    {
      "cell_type": "code",
      "source": [
        "float_16_tensor = float_32_tensor.type(torch.float16)\n",
        "float_16_tensor"
      ],
      "metadata": {
        "colab": {
          "base_uri": "https://localhost:8080/"
        },
        "id": "VqwZgu7iq48w",
        "outputId": "ae3161b6-5086-4fe3-dd3a-f044aa1bf731"
      },
      "execution_count": null,
      "outputs": [
        {
          "output_type": "execute_result",
          "data": {
            "text/plain": [
              "tensor([3., 6., 9.], dtype=torch.float16)"
            ]
          },
          "metadata": {},
          "execution_count": 31
        }
      ]
    },
    {
      "cell_type": "markdown",
      "source": [
        "# Finding details about tensor"
      ],
      "metadata": {
        "id": "jn3ByLHlZ5N4"
      }
    },
    {
      "cell_type": "code",
      "source": [
        "some_tensor = torch.rand(3,4)\n",
        "some_tensor"
      ],
      "metadata": {
        "id": "PNUBy8rPuHue",
        "colab": {
          "base_uri": "https://localhost:8080/"
        },
        "outputId": "5bb5d06b-854f-4635-cba6-2a4cf3a5da85"
      },
      "execution_count": null,
      "outputs": [
        {
          "output_type": "execute_result",
          "data": {
            "text/plain": [
              "tensor([[0.8772, 0.7810, 0.1533, 0.2074],\n",
              "        [0.8330, 0.3928, 0.2145, 0.9265],\n",
              "        [0.3163, 0.1315, 0.7800, 0.4099]])"
            ]
          },
          "metadata": {},
          "execution_count": 26
        }
      ]
    },
    {
      "cell_type": "code",
      "source": [
        "# Attributes\n",
        "print(some_tensor.dtype)\n",
        "print(some_tensor.shape)\n",
        "print(some_tensor.device)\n",
        "\n",
        "# Methods\n",
        "print(some_tensor.size())"
      ],
      "metadata": {
        "colab": {
          "base_uri": "https://localhost:8080/"
        },
        "id": "IkGX_t9xaAHz",
        "outputId": "902b660a-6b3a-4a6e-e8ab-45cf7403c50b"
      },
      "execution_count": null,
      "outputs": [
        {
          "output_type": "stream",
          "name": "stdout",
          "text": [
            "torch.float32\n",
            "torch.Size([3, 4])\n",
            "cpu\n",
            "torch.Size([3, 4])\n"
          ]
        }
      ]
    },
    {
      "cell_type": "markdown",
      "source": [
        "# **Manipulating Tensors:** Tensor Operations\n",
        "\n",
        "### Includes:\n",
        "  - Addition\n",
        "  - Subtraction\n",
        "  - Multiplication (Element wise)\n",
        "  - Division\n",
        "  - Matrix multiplication\n",
        "\n",
        "**Notice:** There are two types of multiplications"
      ],
      "metadata": {
        "id": "XRBmsAuybHTw"
      }
    },
    {
      "cell_type": "code",
      "source": [
        "# Create a tensor\n",
        "tensor = torch.tensor([1,2,3])\n",
        "tensor"
      ],
      "metadata": {
        "colab": {
          "base_uri": "https://localhost:8080/"
        },
        "id": "uunL3_6naT_Q",
        "outputId": "3164d40d-ed19-48ea-827e-2322dec5137d"
      },
      "execution_count": null,
      "outputs": [
        {
          "output_type": "execute_result",
          "data": {
            "text/plain": [
              "tensor([1, 2, 3])"
            ]
          },
          "metadata": {},
          "execution_count": 3
        }
      ]
    },
    {
      "cell_type": "code",
      "source": [
        "tensor + 10"
      ],
      "metadata": {
        "colab": {
          "base_uri": "https://localhost:8080/"
        },
        "id": "uoUH8pugbq-C",
        "outputId": "9f9ccf1a-b774-4fe2-a3fa-32b00f81befd"
      },
      "execution_count": null,
      "outputs": [
        {
          "output_type": "execute_result",
          "data": {
            "text/plain": [
              "tensor([11, 12, 13])"
            ]
          },
          "metadata": {},
          "execution_count": 4
        }
      ]
    },
    {
      "cell_type": "code",
      "source": [
        "# Multiply\n",
        "tensor * 10"
      ],
      "metadata": {
        "colab": {
          "base_uri": "https://localhost:8080/"
        },
        "id": "srA5IlTgbsJL",
        "outputId": "f50c3ed5-05f0-46bf-8186-c2ec91c23dcb"
      },
      "execution_count": null,
      "outputs": [
        {
          "output_type": "execute_result",
          "data": {
            "text/plain": [
              "tensor([10, 20, 30])"
            ]
          },
          "metadata": {},
          "execution_count": 5
        }
      ]
    },
    {
      "cell_type": "code",
      "source": [
        "# Subtract\n",
        "tensor - 10"
      ],
      "metadata": {
        "colab": {
          "base_uri": "https://localhost:8080/"
        },
        "id": "kORaRe5mby7j",
        "outputId": "f0f9a876-ed1d-4a02-d13e-79f437763cb3"
      },
      "execution_count": null,
      "outputs": [
        {
          "output_type": "execute_result",
          "data": {
            "text/plain": [
              "tensor([-9, -8, -7])"
            ]
          },
          "metadata": {},
          "execution_count": 6
        }
      ]
    },
    {
      "cell_type": "code",
      "source": [
        "# Pytorch in built functions\n",
        "print(torch.mul(tensor, 10))\n",
        "print(torch.add(tensor, 10))\n",
        "print(torch.div(tensor, 1))\n",
        "print(torch.sub(tensor, 10))"
      ],
      "metadata": {
        "colab": {
          "base_uri": "https://localhost:8080/"
        },
        "id": "X5lxjUxwb6yA",
        "outputId": "87deb8bb-16c6-437b-c829-502a163ceb4e"
      },
      "execution_count": null,
      "outputs": [
        {
          "output_type": "stream",
          "name": "stdout",
          "text": [
            "tensor([10, 20, 30])\n",
            "tensor([11, 12, 13])\n",
            "tensor([1., 2., 3.])\n",
            "tensor([-9, -8, -7])\n"
          ]
        }
      ]
    },
    {
      "cell_type": "markdown",
      "source": [
        "### **Matrix Multiplications:**\n",
        "\n",
        "\n",
        "\n",
        "\n",
        "\n"
      ],
      "metadata": {
        "id": "kw4OWNQLcUUo"
      }
    },
    {
      "cell_type": "code",
      "source": [
        "tensor"
      ],
      "metadata": {
        "colab": {
          "base_uri": "https://localhost:8080/"
        },
        "id": "WMOVrTMEdrCk",
        "outputId": "640b246e-2d4b-49cb-ec61-7891e6d2b9a0"
      },
      "execution_count": null,
      "outputs": [
        {
          "output_type": "execute_result",
          "data": {
            "text/plain": [
              "tensor([1, 2, 3])"
            ]
          },
          "metadata": {},
          "execution_count": 8
        }
      ]
    },
    {
      "cell_type": "code",
      "source": [
        "tensor * tensor # Point wise multiplication"
      ],
      "metadata": {
        "colab": {
          "base_uri": "https://localhost:8080/"
        },
        "id": "oz-V6vQlcAki",
        "outputId": "0ceca35f-89dc-44db-c101-5becdfc4109b"
      },
      "execution_count": null,
      "outputs": [
        {
          "output_type": "execute_result",
          "data": {
            "text/plain": [
              "tensor([1, 4, 9])"
            ]
          },
          "metadata": {},
          "execution_count": 9
        }
      ]
    },
    {
      "cell_type": "code",
      "source": [
        "torch.matmul(tensor, tensor) # Dot product operation"
      ],
      "metadata": {
        "colab": {
          "base_uri": "https://localhost:8080/"
        },
        "id": "oTfHBX_LdqQD",
        "outputId": "f20d967f-8966-4c67-aace-36fc9907fbdf"
      },
      "execution_count": null,
      "outputs": [
        {
          "output_type": "execute_result",
          "data": {
            "text/plain": [
              "tensor(14)"
            ]
          },
          "metadata": {},
          "execution_count": 10
        }
      ]
    },
    {
      "cell_type": "code",
      "source": [
        "# Showing operations speed:\n",
        "%%time\n",
        "value =  0\n",
        "for i in range (len(tensor)):\n",
        "  value += tensor[i] * tensor[i]\n",
        "print (value)"
      ],
      "metadata": {
        "colab": {
          "base_uri": "https://localhost:8080/"
        },
        "id": "qJ5SQ0K2dwBi",
        "outputId": "74205f73-2982-4878-e003-1ce469fc8377"
      },
      "execution_count": null,
      "outputs": [
        {
          "output_type": "stream",
          "name": "stdout",
          "text": [
            "tensor(14)\n",
            "CPU times: user 1.74 ms, sys: 803 µs, total: 2.54 ms\n",
            "Wall time: 4.68 ms\n"
          ]
        }
      ]
    },
    {
      "cell_type": "code",
      "source": [
        "%%time\n",
        "torch.matmul(tensor, tensor)"
      ],
      "metadata": {
        "colab": {
          "base_uri": "https://localhost:8080/"
        },
        "id": "iXitU9YKfHQ7",
        "outputId": "fcf6407f-86dd-405d-c3e3-06c8f0035f71"
      },
      "execution_count": null,
      "outputs": [
        {
          "output_type": "stream",
          "name": "stdout",
          "text": [
            "CPU times: user 78 µs, sys: 13 µs, total: 91 µs\n",
            "Wall time: 94.9 µs\n"
          ]
        },
        {
          "output_type": "execute_result",
          "data": {
            "text/plain": [
              "tensor(14)"
            ]
          },
          "metadata": {},
          "execution_count": 12
        }
      ]
    },
    {
      "cell_type": "markdown",
      "source": [
        "## Matrix Multiplication Rules:\n",
        "1. The inner dimensions must match:\n",
        "  - (3, 2) @ (3, 2) won't work\n",
        "  - (2, 3) @ (3, 2) will work\n",
        "  - (3, 2) @ (2, 3) will work\n",
        "\n",
        "2. The resulting matrix has the shape of the outer dimensions:\n",
        "  - (2, 3) @ (3, 2) → (2, 2)\n",
        "  - (3. 2) @ (2. 3) → (3. 3)\n",
        "\n",
        "**Notice:** '@' works the same way, 'matmul' in `torch.matmul(tensor, tensor)`, the same way 'mm' works in `torch.mm(tensor, tensor)`."
      ],
      "metadata": {
        "id": "zldydeabjSpo"
      }
    },
    {
      "cell_type": "code",
      "source": [
        "# Shapes for matrix multiplication\n",
        "tensor_A = torch.tensor([[1, 2],\n",
        "                  [3, 4],\n",
        "                  [5, 6]])\n",
        "tensor_B = torch.tensor([[7, 10],\n",
        "                          [8, 11],\n",
        "                          [9, 12]])\n",
        "\n",
        "# torch.mm(tensor_A, tensor_B)"
      ],
      "metadata": {
        "id": "J2KDbWSjfLeb"
      },
      "execution_count": null,
      "outputs": []
    },
    {
      "cell_type": "markdown",
      "source": [
        "**To fix our tensor shape issues, we can manipulate the shape of one of our tensors using a transpose.\n",
        "A transpose switches the axes or dimensions of a given tensor.**"
      ],
      "metadata": {
        "id": "tHRSoc6elPpz"
      }
    },
    {
      "cell_type": "code",
      "source": [
        "tensor_B"
      ],
      "metadata": {
        "colab": {
          "base_uri": "https://localhost:8080/"
        },
        "id": "-ttjddzZlV8Q",
        "outputId": "1c036138-d9e6-45c6-8be4-8a414ecd0020"
      },
      "execution_count": null,
      "outputs": [
        {
          "output_type": "execute_result",
          "data": {
            "text/plain": [
              "tensor([[ 7, 10],\n",
              "        [ 8, 11],\n",
              "        [ 9, 12]])"
            ]
          },
          "metadata": {},
          "execution_count": 14
        }
      ]
    },
    {
      "cell_type": "code",
      "source": [
        "tensor_B.T"
      ],
      "metadata": {
        "colab": {
          "base_uri": "https://localhost:8080/"
        },
        "id": "ZROhNLcMlJmS",
        "outputId": "afe6a38a-2570-4c32-cdb0-4010118135c9"
      },
      "execution_count": null,
      "outputs": [
        {
          "output_type": "execute_result",
          "data": {
            "text/plain": [
              "tensor([[ 7,  8,  9],\n",
              "        [10, 11, 12]])"
            ]
          },
          "metadata": {},
          "execution_count": 15
        }
      ]
    },
    {
      "cell_type": "code",
      "source": [
        "torch.mm(tensor_A, tensor_B.T) # Works as the array transposed"
      ],
      "metadata": {
        "colab": {
          "base_uri": "https://localhost:8080/"
        },
        "id": "6GrlbYGtlULd",
        "outputId": "b76000c4-faea-48e8-dc2a-704f4381f243"
      },
      "execution_count": null,
      "outputs": [
        {
          "output_type": "execute_result",
          "data": {
            "text/plain": [
              "tensor([[ 27,  30,  33],\n",
              "        [ 61,  68,  75],\n",
              "        [ 95, 106, 117]])"
            ]
          },
          "metadata": {},
          "execution_count": 16
        }
      ]
    },
    {
      "cell_type": "markdown",
      "source": [
        "### Finding the min, max, mean, sum, etc (tensor aggregation)"
      ],
      "metadata": {
        "id": "ZtmcyweJ-WV2"
      }
    },
    {
      "cell_type": "code",
      "source": [
        "x = torch.arange(0, 101, 10)\n",
        "x"
      ],
      "metadata": {
        "id": "uvtpPY0Kl13U",
        "colab": {
          "base_uri": "https://localhost:8080/"
        },
        "outputId": "77ccaea6-6fe3-4ad7-e5f9-16030a1952e4"
      },
      "execution_count": null,
      "outputs": [
        {
          "output_type": "execute_result",
          "data": {
            "text/plain": [
              "tensor([  0,  10,  20,  30,  40,  50,  60,  70,  80,  90, 100])"
            ]
          },
          "metadata": {},
          "execution_count": 26
        }
      ]
    },
    {
      "cell_type": "code",
      "source": [
        "torch.min(x), x.min()"
      ],
      "metadata": {
        "colab": {
          "base_uri": "https://localhost:8080/"
        },
        "id": "dzAYa5jqKJRf",
        "outputId": "8f6e0b05-c401-49f6-c806-67b249062fc3"
      },
      "execution_count": null,
      "outputs": [
        {
          "output_type": "execute_result",
          "data": {
            "text/plain": [
              "(tensor(0), tensor(0))"
            ]
          },
          "metadata": {},
          "execution_count": 20
        }
      ]
    },
    {
      "cell_type": "code",
      "source": [
        "# Sum\n",
        "torch.sum(x), x.sum()"
      ],
      "metadata": {
        "colab": {
          "base_uri": "https://localhost:8080/"
        },
        "id": "_sPgo74CAdp4",
        "outputId": "50f5b264-e1b4-4cca-f9de-26347150062b"
      },
      "execution_count": null,
      "outputs": [
        {
          "output_type": "execute_result",
          "data": {
            "text/plain": [
              "(tensor(550), tensor(550))"
            ]
          },
          "metadata": {},
          "execution_count": 21
        }
      ]
    },
    {
      "cell_type": "code",
      "source": [
        "torch.max(x),x.max()"
      ],
      "metadata": {
        "colab": {
          "base_uri": "https://localhost:8080/"
        },
        "id": "vm_7kFcl-vZE",
        "outputId": "86253eba-7714-4b6d-b3eb-4465dbe4e77a"
      },
      "execution_count": null,
      "outputs": [
        {
          "output_type": "execute_result",
          "data": {
            "text/plain": [
              "(tensor(100), tensor(100))"
            ]
          },
          "metadata": {},
          "execution_count": 22
        }
      ]
    },
    {
      "cell_type": "code",
      "source": [
        "# torch.mean(x) # Error expected due to: Data type Long. To fix, change the data type before mean-ing"
      ],
      "metadata": {
        "id": "-tEfKv2W-1eY"
      },
      "execution_count": null,
      "outputs": []
    },
    {
      "cell_type": "code",
      "source": [
        "x.dtype # long() is equivalent to self.to(torch. int64) ."
      ],
      "metadata": {
        "colab": {
          "base_uri": "https://localhost:8080/"
        },
        "id": "NqP4QrBG-7Bi",
        "outputId": "a9de9bda-5a88-4d81-bbe4-e84c86dd0eed"
      },
      "execution_count": null,
      "outputs": [
        {
          "output_type": "execute_result",
          "data": {
            "text/plain": [
              "torch.int64"
            ]
          },
          "metadata": {},
          "execution_count": 23
        }
      ]
    },
    {
      "cell_type": "code",
      "source": [
        "torch.mean(x.type(torch.float32))\n",
        "# or,\n",
        "x.type(torch.float32).mean()"
      ],
      "metadata": {
        "colab": {
          "base_uri": "https://localhost:8080/"
        },
        "id": "7N5Fv2wU_NDz",
        "outputId": "f5f887b9-2807-4a75-d064-63db4866a6fb"
      },
      "execution_count": null,
      "outputs": [
        {
          "output_type": "execute_result",
          "data": {
            "text/plain": [
              "tensor(50.)"
            ]
          },
          "metadata": {},
          "execution_count": 24
        }
      ]
    },
    {
      "cell_type": "code",
      "source": [
        "x = torch.arange(0, 101, 10.0)\n",
        "x"
      ],
      "metadata": {
        "colab": {
          "base_uri": "https://localhost:8080/"
        },
        "id": "XUGNUA-QCRl3",
        "outputId": "6226e3ab-a780-4448-cc8f-4366ae703092"
      },
      "execution_count": null,
      "outputs": [
        {
          "output_type": "execute_result",
          "data": {
            "text/plain": [
              "tensor([  0.,  10.,  20.,  30.,  40.,  50.,  60.,  70.,  80.,  90., 100.])"
            ]
          },
          "metadata": {},
          "execution_count": 31
        }
      ]
    },
    {
      "cell_type": "code",
      "source": [
        "x[1]"
      ],
      "metadata": {
        "colab": {
          "base_uri": "https://localhost:8080/"
        },
        "id": "cPeopAqJBukF",
        "outputId": "dc2330e9-3fb9-4902-b7f3-309389fd44b3"
      },
      "execution_count": null,
      "outputs": [
        {
          "output_type": "execute_result",
          "data": {
            "text/plain": [
              "tensor(10.)"
            ]
          },
          "metadata": {},
          "execution_count": 32
        }
      ]
    },
    {
      "cell_type": "code",
      "source": [
        "x.argmin(), x.argmax(),"
      ],
      "metadata": {
        "id": "XT4HWpsnCR_-",
        "colab": {
          "base_uri": "https://localhost:8080/"
        },
        "outputId": "00a3a6b8-7e99-4073-f238-eca8a181ff15"
      },
      "execution_count": null,
      "outputs": [
        {
          "output_type": "execute_result",
          "data": {
            "text/plain": [
              "(tensor(0), tensor(10))"
            ]
          },
          "metadata": {},
          "execution_count": 34
        }
      ]
    },
    {
      "cell_type": "markdown",
      "source": [
        "# **Finding index of min and max element**\n",
        "- Note:\n",
        "  .argmin() and .argmax() returns tensor index."
      ],
      "metadata": {
        "id": "6rKPN-atCZ94"
      }
    },
    {
      "cell_type": "code",
      "source": [
        "y = torch.arange(50, 111, 5.0)\n",
        "y"
      ],
      "metadata": {
        "id": "1FdrEI_ECU3t",
        "colab": {
          "base_uri": "https://localhost:8080/"
        },
        "outputId": "3ebc94c4-1a1f-48da-bb9b-88ed487829f7"
      },
      "execution_count": null,
      "outputs": [
        {
          "output_type": "execute_result",
          "data": {
            "text/plain": [
              "tensor([ 50.,  55.,  60.,  65.,  70.,  75.,  80.,  85.,  90.,  95., 100., 105.,\n",
              "        110.])"
            ]
          },
          "metadata": {},
          "execution_count": 42
        }
      ]
    },
    {
      "cell_type": "code",
      "source": [
        "y.argmin(), y.argmax()"
      ],
      "metadata": {
        "colab": {
          "base_uri": "https://localhost:8080/"
        },
        "id": "WyxIiEO3xBvj",
        "outputId": "e69dddca-005e-4308-acfb-1930329b873a"
      },
      "execution_count": null,
      "outputs": [
        {
          "output_type": "execute_result",
          "data": {
            "text/plain": [
              "(tensor(0), tensor(12))"
            ]
          },
          "metadata": {},
          "execution_count": 43
        }
      ]
    },
    {
      "cell_type": "code",
      "source": [
        "z = torch.tensor([15, 2, 11, 19, 21, 17, 14])\n",
        "z"
      ],
      "metadata": {
        "colab": {
          "base_uri": "https://localhost:8080/"
        },
        "id": "OKUeJ-D1xCzL",
        "outputId": "33793b12-3fd3-4e43-ea1b-809efbc5b39e"
      },
      "execution_count": null,
      "outputs": [
        {
          "output_type": "execute_result",
          "data": {
            "text/plain": [
              "tensor([15,  2, 11, 19, 21, 17, 14])"
            ]
          },
          "metadata": {},
          "execution_count": 37
        }
      ]
    },
    {
      "cell_type": "code",
      "source": [
        "z.argmin(), z.argmax()"
      ],
      "metadata": {
        "colab": {
          "base_uri": "https://localhost:8080/"
        },
        "id": "ugqEkNy1xT6G",
        "outputId": "291b0b2c-5a10-4994-f856-d03c344705b4"
      },
      "execution_count": null,
      "outputs": [
        {
          "output_type": "execute_result",
          "data": {
            "text/plain": [
              "(tensor(1), tensor(4))"
            ]
          },
          "metadata": {},
          "execution_count": 38
        }
      ]
    },
    {
      "cell_type": "markdown",
      "source": [
        "# **Reshaping, stacking, squeezing and unsqueezing tensors**\n",
        "- Reshaping - reshapes an input tensor to a defined shape\n",
        "- View - Return a view of an input tensor of certain shape but keep the same memory as the original tensor\n",
        "- Stacking - combine multiple tensors on top of each other (vstack) or side by side (hstack)\n",
        "- Squeeze - removes all 1 dimensions from a tensor\n",
        "- Unsqueeze - add a 1 dimension to a target tensor\n",
        "- Permute - Return a view of the input with dimensions permuted (swapped) in a certain way"
      ],
      "metadata": {
        "id": "ST-p6Hbz1UC6"
      }
    },
    {
      "cell_type": "code",
      "source": [
        "import torch\n",
        "x = torch.arange(1.,8.)\n",
        "x, x.shape"
      ],
      "metadata": {
        "colab": {
          "base_uri": "https://localhost:8080/"
        },
        "id": "m-uRuOL51S1O",
        "outputId": "d40551d4-c3fa-479d-e3ae-f7a5605f7695"
      },
      "execution_count": null,
      "outputs": [
        {
          "output_type": "execute_result",
          "data": {
            "text/plain": [
              "(tensor([1., 2., 3., 4., 5., 6., 7.]), torch.Size([7]))"
            ]
          },
          "metadata": {},
          "execution_count": 62
        }
      ]
    },
    {
      "cell_type": "code",
      "source": [
        "# Add an extra dimension\n",
        "x_reshaped = x.reshape(1,7)\n",
        "x_reshaped"
      ],
      "metadata": {
        "colab": {
          "base_uri": "https://localhost:8080/"
        },
        "id": "eDRWrcsDxXim",
        "outputId": "4a639712-4a89-40dc-ac67-51b74b418a9c"
      },
      "execution_count": null,
      "outputs": [
        {
          "output_type": "execute_result",
          "data": {
            "text/plain": [
              "tensor([[1., 2., 3., 4., 5., 6., 7.]])"
            ]
          },
          "metadata": {},
          "execution_count": 64
        }
      ]
    },
    {
      "cell_type": "markdown",
      "source": [
        "---\n",
        "## **Changing Tensor Datatype:**"
      ],
      "metadata": {
        "id": "oyDBbtRsL9Fc"
      }
    },
    {
      "cell_type": "code",
      "source": [
        "tensor_emp = torch.arange(10., 100., 10.)\n",
        "print(tensor_emp)\n",
        "print(tensor_emp.dtype)"
      ],
      "metadata": {
        "id": "wWhpyZ2G2jAM",
        "colab": {
          "base_uri": "https://localhost:8080/"
        },
        "outputId": "ae192a38-6c44-45e5-e54d-19b88edb9e0b"
      },
      "execution_count": null,
      "outputs": [
        {
          "output_type": "stream",
          "name": "stdout",
          "text": [
            "tensor([10., 20., 30., 40., 50., 60., 70., 80., 90.])\n",
            "torch.float32\n"
          ]
        }
      ]
    },
    {
      "cell_type": "code",
      "source": [
        "# Changing\n",
        "tensor_float16 = tensor_emp.type(torch.float16)\n",
        "tensor_float16"
      ],
      "metadata": {
        "colab": {
          "base_uri": "https://localhost:8080/"
        },
        "id": "plSmhlQNMFKQ",
        "outputId": "c922e41f-66f8-449e-9f91-e34edea26df6"
      },
      "execution_count": null,
      "outputs": [
        {
          "output_type": "execute_result",
          "data": {
            "text/plain": [
              "tensor([10., 20., 30., 40., 50., 60., 70., 80., 90.], dtype=torch.float16)"
            ]
          },
          "metadata": {},
          "execution_count": 52
        }
      ]
    },
    {
      "cell_type": "code",
      "source": [
        "# Another same data, different datatype\n",
        "tensor_int8 = tensor_emp.type(torch.int8)\n",
        "tensor_int8"
      ],
      "metadata": {
        "colab": {
          "base_uri": "https://localhost:8080/"
        },
        "id": "pAvHn1ZgMJf8",
        "outputId": "ce0eaab1-6916-4a65-9042-155f999e750f"
      },
      "execution_count": null,
      "outputs": [
        {
          "output_type": "execute_result",
          "data": {
            "text/plain": [
              "tensor([10, 20, 30, 40, 50, 60, 70, 80, 90], dtype=torch.int8)"
            ]
          },
          "metadata": {},
          "execution_count": 53
        }
      ]
    },
    {
      "cell_type": "markdown",
      "source": [
        "---\n",
        "# **Reshaping, stacking, squeezing and unsqueezing**\n",
        "\n",
        "![image.png](data:image/png;base64,iVBORw0KGgoAAAANSUhEUgAAAwcAAAHeCAYAAADO9neBAAAABHNCSVQICAgIfAhkiAAAABl0RVh0U29mdHdhcmUAZ25vbWUtc2NyZWVuc2hvdO8Dvz4AAAAtdEVYdENyZWF0aW9uIFRpbWUAVHVlc2RheSAyOCBNYXkgMjAyNCAwODo0OTo0NSBBTf3Fi6EAACAASURBVHic7N1/WFR13vj/533jxWnpZshk2FacLXFKcEp0CnG8WcUfiZq/M6glcG9CWwJLZUukDNm6R6vF3ITcFdY7nWUVljsVTaVSqahpZcPQxrBFrGuk22Uo15nN7fB1Pn3/mEEGRAF/ofV6XJfXJTNnznmf95zzev8+82/ffffddwghhBBCCCF+8P69txMghBBCCCGEuDZI40AIIYQQQggBSONACCGEEEII4SWNAyGEEEIIIQQgjQMhhBBCCCGElzQOhBBCCCGEEMBlaBw4NqcQERZGWFgYYZPysLnbv69WLGTY7d73o7OodHe+n+5St6d5jtfJsS4bt5WcUWGEhQ0jq/IKHUOI64x6vJKi3DTm3BvNsDsjiLg7monxaZiLrTiu1L14vrR0jANuG3mTwggLiyBtu3p1E+PDviGRiLAwIuKLsPdaKs51ueOmdVk0YWFhRC+zXvrOhBBCXFMu78jBF5VUHvV9QaWmyorzogujegpmRBCRUorz0lMnhLhIzqo8EmekYN5QQc1RB6qiQVEd1P+1gqJliUz9rwJqevMm9dNwe0wccVPiuPsnvZiOa9VP7iZuShxxMbej8evhZ09YSLkzgjlr68++pAkfS9yUOMaGay5vOoUQQvS6PpdrRxqtFtVRz74qO+l36Dwvum3sq3KAVov2aweOnu708DZ2H1bhZ5crlUKIHjtZwbNPFVBzEjT3pPLCikziBingdmLbYiZreSm2qjwWvWRg+3Ox9E51Ucf0Z9YyvVeOfe1T7kll9T2pF/VZe8VurKfB4POaIXElaxMvT9qEEEJcWy7fyIHBiDFAxVZZ2dYIOLIP63HQGgzozmmGOKjZkEXipGiGRUQwbPQ00l6uxO4dZahZOZGwqQXY3KBWZjEsLIK0LT5dk31APVJOTuIYht0ZQfSkFPL2dGh+OGqwLEth2uhhRHiPkbKsCGvHzfbkkTY1mog7hzHm/oUU7e9xM0aI7y37lkIqTgB9Y8l+JdvTMADw02CYs5KX040ogH3LRnZ7b52KzGGEhUUwZ62N+i05JN47zHN/JedQ/kX7aT/2ygIWJk4k+s4IIu4ew5zMc+/RLnU2rehoAXMiwggbtpCK41YKMqYRPSyCiFHTSFtb0240Uj1aQV7GHMbcHUHEndFMTM6h9FAXQyGnbViyvZ+JnkjKynKOdzqj6cKxzrOJlaKnEpk4ahgRt0cwLHoiiU91zAcnts05pEwdw7AIzzE7btOW71Yqn59DdEQECys6m4ZVg3lsGGG3DyNrew2W7EQm3h1BxLAxzHmqFNtpADtF8RGMybWiolLz0kTCIuZQ9MV5phW57VSubTvPiLvHMCfN3D4fe/CdCCGE6B2XrXGgBtzNqCEKas0+9nkLq/p3rNS7NRijDB23pualFBJzS6lRDcQ/lsqkW5qoWJPGIy9ZUQHdyHjiY7SezW+NJWl+KmP1StsuztjIe+JZKr/VEnKjiuOzSgqeepbS1oLyZCU5SYnkFFdiDzAyY84MjAF2KovNpPw8h8rWUuizAtKeKKDisJOQIbHEDlbZlp3X9r4QP2hODlTbUAGNaSYzbjl3C/20GRgV4HQNH9R4aseKogAq9rdzeOz3dnQjYzFonNirLCx50kLrBBXnniwenpdHeS0YH84gNVZDfbmZtPSCS58br3jjhXqUwsU57PMzMjZKh3LCRsWqNMx7vDX546Us/HkaBRX1aGJTyXjYCDUWslIXUnr8/PlSsewxcjbXYHfrMI03oTmUT9Yf62nfPug61kE9Rb9MwVxmA8Mkkh5JYpIBasrMpPyyNR9UbGtTSMy2UHlcwThtBrG3nMJaZiblv/KoOe17yiqOt/PI2eJAd5cR3Y2dZo5nW7eTfSuy2O03iqTUeIyKnZqyLB5bUYmTIAz3JRF7q+cTWlM8qSkzMHY6NOSgfPHDpLxUivVkCKZZM4gzgK2iiKyHUsg7oPbsOxFCCNFrLtu0IvxCMJn08Nca9n3oJH7aKaxVNtQAE2NHBlH6is+2jm3kF9tQ/XQkmdeSbVLgkbthQgqlfyxk2yMm4mNTSf9sN9uqHDBwEplZ8WgA9XPvPo7a0KzYzjtzdPBFEYn3mbGetPJBtUr8FIX6P+ZR+pkKd6Sy/vVsjAGAcxJZM1IoPVpK/uZUYufrqCkt9RSsd6Xy6qZMDH6eCsu0X15LywmF6C1NNDV5/hdy6wCUzjb5iQ5dAFhVFccJJ6BF8c5rdxwfwNM7VjNdC+r4G5g4rxT7oX1YT6Siv8VO6e+3YXeD4dFXWbtAD8SjO30vWW9vpPDtVFbHdXrEblI86VXrUU1llC0yoGBHnzgRs9WBtaoGxpuo+WMRFQ5QYjJZn5eEFpgeMoeJz1dS9FoN8c8Yz921YzclFXbw0zL9uTJWT9OAu56ih6Zh9m1QdCfW9anhg8MqBMSSkbeS6RqAJMauK8d+ox5FBc5UkF9Ug9NPy3RzGaunaOC0lZwZKViOWCjcM4+10zQofp78sh/VkLutjCRvxV7dfv5cUqMyWPvcdDTAjFuaGJ1ZgX17CZVPxjJ9bgb2KguVX4AuJpXsND0AHZchq9Z88nbaQTGSaSkj/Q4AB+Vp97KwogbLq9tILoxH283vRAghRO+5jAuSFQyxJvR+TqyVVlSHlX21KsqISYy9ucOmR2qwfQP0GYQ+xInjhAOHcwB6vdKu9/GCbh5L8jTv2oYBsYwaBKDiOOkEHFirPT14+thJnoYBgMbEpCgtoGI7cAAnDmyfeWo+uqixGLwVGk3MWIZ32tsmxA+NT+W8Oz35HbobNCMnE+cdAFQMRgb1Ac44cToB5wE+OqyCn5ZBtymeOHAC9HfoUNwODlTbLs8p+OmZdJ/BeyY6jBEhADR97UTFju2QpyNAd4eOb084cJxwwK0GQvzAXm2lvrN91tuwqUAfA6NiNGePEzvW0L4B1Z1YF6BDdwtwuoJn709k4fMFWHY6GPJgOqmJcegDgIMfeRZ8K0bGtR4vwETuW5/S8LePWTutfXe+YprJjFu7kzkKRlPbOhFN1N3oFeCbo/zti+583psdH9Zgd4MyZBJxd7S+qiV2ogkFcNbUtB8JuuB3IoQQojddvpEDgKFjMf2kCEv1B1RWnaLmtIJxjAktFe02U53fep5g5K4k595ocjrsxnGiCdBd+Fh9tWhaU++neKcxeLmbcH6tAgqaIN9CU0Fz8w2e/zpPcYpTOL/xvt7PZ7s+GoI0IBNghQgi5CfAAbB/cRwnxnMXHP9fPfbTAAq6WzpUUjWatsqyckP7z50+5Y0DDsqfGEN5h902nTiOetxGyqQcrK01RmU6az9aTWxPTqGPBk2A79++scKJ85R3cs/6FMas7/DZE0043KDv+ISf06dQ3YDijRVeQZr2Ix3dinWKiexXcjn1TD4Vh6yUH7VSvh4I0BH76EpWLzChOL151UdB042OC01fTbcXhmt806y0fk7F+c9u7gBwOr3B8mYNIR32rQCqegqnb63/Qt+JEEKIXnV5Gwd+RsbGaLH82crGTadwKgZGxZxbyVc0N6DxA4diIj1vHnd3KBc0+pBzPtOzdISgudkz59l5qt2yQ5xfn/IeJIgggrwFbYftVCenpGEgBKBheJQRZacV1VrCtuPTSRrQfov67bup8SxKYJSxB5W8gCDPYzX9tMQ9+QIJd3R4v58Bhd2eEYuzvc6XuV/ZT4MmyBMr9HNyyZ7SIV710Z4dUWxHCfJMnXJ7Y0Vfz8unvD3frbnQ3Vin3JXE6m1JOI/bqKm28pF1N6Xba6h8JYt80ztkt+7njOrp0PDW/FWnE6cKyo0dKtt+3f8ePKOt3uEdp8PbJ6Kg+Y9u7wKNxpugr500tSUP50nvSMCNQWik/i+EENeFy/wLyQqmMSa01GP9qwMGjSX2tk42G2zEcCOgOiDERGxsLLGxRrSqE9WtoLmxQymiOjnVo3RoMUXpUYD6Sm/FBcBpZfeHTkDBOHI4GrToB3kKZ7t139lhb2flLqzf9OiAQnxv6aYnM2MA4LSSl55D+WfelrPbiW1LFosKalBR0M+ZR1zfHuxYM5y7h3geieroM8gbB2Ix/IeKU/VWOAckUfxpAw0N3n+frOWSliGce3YY7vI0CJpcCgZvGmIHKjhPq3BjSOfrLPR6z/SbMzY+qGrNj3oqKjtMQupOrDtuxbI2D/NmG8oAA7GzUsl8cT2ZMQq4m2hqUsEwCuONgFrD3tbjqTXkxw8jOjqatC0X+4Q1Fdue3Wd/sM3+zgee6VKaIdw5qP12zn+ev2GmH2lE5wfq4d0+v3XjYHdFjWcxe9QojD39fQUhhBC94vKOHACKaRymG8spd4I+xtR5r5t2BhkPWrCus1GUnoh9ipGgRivb3rah3pbE+v81oQeCtJ7eLHV/IYsy7YydlkF3n9StfziT+PI0LJ8VkRZvZ6wxiKaq3VQeB+WuVDIf8FQITLOnY9hcgO1QEY8l24m91UlN9XGCNOA4SffmWQvxfdY3juwX0qnPKKDmkIWFk0p5VquBbxw4vU/J0cZm8vKTxs4r0uelI/6RGVgOlFKz6mES6+MwUE9leSX1GMncZKKTpcCXnfHhVGK3ZFFZYSZxno3YW1Vsb27D+n8KpuXbiR3eyYdumURCbD7WnQ7KlyeiWo0o9ZUcdoaA728jdyfW9bGzr6iASmcpNdUzMA1QUP+vhooqFfrGeUZj+sYxb66ByjU2ypclolYZUep3U/EZKHckkTFNe9HnH3TMwiPJNky32Knc6XmCkn5WArEBAAohfTWAg/qyLNKcsUxOzaTj0RRTBplxu1m4s4a8pDl8Mt4ADZVUWJ3Q10TG49N76fcvhBBC9NRlHjkANLGMMingpyN2zPmKdgXjk+tZnxWP8UY7FcVFlNaoGKZnstaSi8lbimji5pExXoemjxNblZW/nexBOvrGkvun9WQ/aCLIYWXb5m3UnNERl7KSMktm2yLluzJ49cUkTLcqNNVWUlkfQvyKXOJ+AqDyrSrL44TQmDIp3lZM9tw4jIM04HSg9tGivyeOVHMZOwpTMVxEj74mbiV//F0m04eArbwIS7kNjPHkvrae9Luu0jyUAfGstawmNU6HWl1KUfFujvc1kbqimLWJ51v7pGX6c2vJnmJAq9ZTuceK05jNy48N8c6xVz1rEroT626JZ/VrK0mKDcFRaaHg1QIs7xxHG5vKastq4m/x7mdRMcU5SZi0TVRuKaXiiyCMD2az3pJ9Nmb2nMKQR1eSOqCeyjdraFL0mOau5tUnTd6GnoIpNYPpd2hQnPVYq2yc6jQkapmeV8b6RdM951lWSkW9gmFaOmtL15PaccqYEEKIa9a/fffdd9/1diKEEEJcRW4befdNo+AzhbjffszaabIgQAghhMflHzkQQgghhBBCXJekcSCEEEIIIYQAZFqREEIIIYQQwktGDoQQQgghhBCANA6EEEIIIYQQXtI4EEIIIYQQQgDSOBBCCCGEEEJ4SeNACCGEEEIIAUjjQAghhBBCCOEljQMhhBBCCCEEII0DIYQQQgghhJc0DoQQQgghhBCANA6EEEIIIYQQXtI4EEIIIYQQQgDSOBBCCCGEEEJ4SeNACCGEEEIIAUjjQAghhBBCCOEljQMhhBBCCCEEAH2++OKL3k6DEEIIIYQQ4iq59dZbz/vev3333XffXcW0CCGEEEIIIa5RMq1ICCGEEEIIAUjjQAghhBBCCOEljQMhhBBCCCEEII0DIYQQQgghhJc0DoQQQgghhBCANA6EEEIIIYQQXtI4EEIIIYQQQgDSOBBCCCGEEEJ4SeNACCGEEEIIAUjjQAghhBBCCOEljQMhhBBCCCEEII0DIYQQQgghhJc0DoQQQgghhBCANA6EEEIIIYQQXn0udQdut5vTp09z5syZy5EeIYSPPn36EBAQgJ+fX28nRfTADy0uXunrVPJTCCGunkseOfghBWwhrrYzZ85w+vTp3k6G6KEfWly80tep5KcQQlw9l9w4+CEFbCF6g9xj158f4nd2Jc9Z8lMIIa4eWXMghBBCCCGEAK5K46CZ6teLsLzTeOUP1QONxXOJHpXNXndvp+RiudiVGU10WgnNvZ2ULqnUrn6I0Qu2ct6rwF3NyrhoHlpbdzUT1i2NVRaK/lx9HeSzuO4cKeCh6Ams/LC3E9LRtRm3L8nhAmZHT2VldW8nRAghrm1XvnHgbqa2tJDCd49d8UOJa5R9KwWvq8xMnkzoeTfyJzgsjP7B/lcxYd3z5fsbKPzTfhqv24bkJfqsgGm3hxEW1uHfncMYMyMFc5kN52U+pHNLGhERKZSevMw7vtb4B9NfH0ZwQG8npAOJ29c8Z5WZadGJFBxWPfdoRDQ5Vd433fWUPjGN6DvDGJZiwdGrKb16HJtTiLgzjQrV83dFZgQRyRc+/+5sc5a7ntJ50Ux8quL7l6fuGsxjI5j2sq23UyKuAZf8tCIhLkyl+k8WanUzyYpSzr+ZXySpazddvWSJHlIwLVpPxj0+L512YKsoJH9pIjZnGcUp+l5L3XVrYAJ5xQm9nYor64si5vzCTubbuZjk4TuXh6OCZ7NL0T6+nfQhCjhjyXhOh3aw9/39Fgp2NmF8pozMWD3aXk3sleMsS2H0ewn85bdxKIAmKpnc5QpDrlTNxk9PvPnXfHD/syzZPIT1D+qu0IGE6F1XrnFwuIDZyUUca+1tPbKA4a97/x+SwLqdWUS1FhRqA7vWFrDxrWoamlUCdZFMSFhM+gPhBHbYbdVzo8m0JZC/JJid60p4r7YRV0AokfE5rJsfeXa75gMlFL22laqDDTjcgYSGj2B8YjrpY9r3XTttW8nNL2LPJw748QgSMnNIjwm+qFPuVtpcdWz9fSEl+7znOjCGKY8sJv3eUHyrzs3VFlYVbmH/J424CET70zCi7l9M1gPhtK9it3Bs9ypyi3ay/8sWtHdOIX1ZFpN17fdV9Oe32W87RmOzivLjMKLGJZP+6GTCfuTdyL2X7J8tpXH2Ykb831a2WBtwBYYRMzWdxY/FEOpbqHfzHAD4VzU733IQ/vNxhHWWaQdXMTvFcvY6CZ+/iU1p4e23cVeRG5dJ3YzlJKg72bh7P42ntYTfm8rS7JmEtx60eiVTM6qIejwB9c0Squoc+PePZMIjWSyaGtaWtsMFzP6vXYzI30FWVOsxaimYM58tI/N5e0mU95gL2PpV64eK+MU9RZ7/+oWTWryJ9NaC+AdCO8iIydT+GzaNN6Fx3UuWpZSaudkYpfLXLY0b5jJ79UFaAPz6kZD/NlkjO2zUep0+vZjAdwrZUt2Ayz+MmKQsls+NPBsbG9Y9xEOb+jPvMQ37LXuobQbt4PEkPbmYhCFtEbSxeC6zC0JZ8Z6Zca3fk93C3Dn5hD7/LuZ7lZ7F7W5SD35EvTukZx/qKbWBXWteZuO+WhqaVZSbQhl453jmLUknpuOh/1GN5Zl8St6tw9FJfvJlFUV/KOG9mk859ncXakAo4VHjmftYKuN0bdd/d/MdoLGqiIKNOz3xXNESOTqJ9EUJRN50USeL9VUzFX3nsb21cqoxEDfH0LbJ6VOc6qNn1Hgj+gEXc4zrg63WhurztzIolvhBV/ig2jgyH93ItJfzqIhbTVzfK3w8IXrBlZtWNDiZdTt3sOONNSQN8idwUg473tjBjjd28JYlnaFnCxgXe597nOzXvyT8YTP5+XlkxMDbL8wnc1NDp7tuObmHFf9dRfCMHNaVvM6mFclE+tygrqqVzP/lKqqIIXV5PuvyljPvPxVqPzzSLpDQsp+ivPcInZ5F3oqlTNHUUrR8FXtdF3/aF0ybWkfR4/PJ3e0i6hEz+b/LI2Oki53PPMrKd3wO2ryVFU+t4mDgFLJ/u451v11O+oxw1BPNnsqE7/H+VsKqN2D8ghXkZc+kf0MJK17c2m5+fHN9A07dBOZlmsn/3TrMj42Hd5YzP2dXh3n0LRz8s4WGkVls3vMubzw/Hte2TH61prYt37p7Dq1qq3jPpSVyeKdNAzDM81wn5WYm97vQlKIWGl7fyP5bU1lX9javvzgO3lrBiuIO14i7ka3/8x5hGa/xVuUb5P88kKrnHu88bRfiF8XiP73Fjjd2YL6vH/66BPLKPdfvjp1rSJZOci8txiE6cNhx+Dxcxb4nj7T7xzDszggioieSmG2hxnfu0fFK8jLmMObuCMIiIhg2dg4L11pxdJy69Xk55uSJDIuIICJ6GmlrrT5TmFTqt5tJmzGGYXeGEXFnNBMTs7AcatvCUZxIxN1ZlFuLWDgjmmEREQwbPYeFG9pPhVI/K8c8bxpjhkUQMSyaaSlmyj/zjRZObJtzSJwUzbCIMO82OZS226b7QuPzeOONHexYk8DAC1W23Q52Fr2B8uBv2FL+Ovk/D6R6zdMUHuhw3H/sZeOOQJIL3uDdna+RHlbLqseXs7Wphwnrdtzunvo104h4ogLncQuJt4cxbU295w2HlaKnEpkYHUFExDCiJyWSU1xz0dPTatf+iuXlTiIfMbOucB15S5L5Wb9mGs+Zlubg7TX5fHr7XLJeXEHGSJWqjvn59zoaCGfKo9nk/XYd+cuTGfHPXSxNf5mqjmGkG/ne/FY2j2YWUtdvFtmr1pG/LIFg2yoWPGWh4WKmKjq2UbjlFKakePSt34fPtCLby9MIm1eOU7WSMzqMiMQi7J3uyHP/pEz13hdj57BwnbXddBnnIQs5KROJHhbhvb8WUmRt28JZlkJEdBblf7Ww0Hu/D5uUQoHViaOqgLSpnteiZyzEctibx24rOaMimLO2kvLnE5l4t3ff88xUHPc9z9ZrZBgRt0cwbPQ00l6qxO4GcGBJjiCx2IG6PY2I28eQYz13WlG785wUTUREBNFT0yiwXmBSkLMGyzLvtXnnMMbMSCOvon0O6mYlE0sFhVs6z9nz6yrPu45prXlecaiUnETvd3NObOzEBfOz04zoOub1+D5WKc+IICKltP02VTlER0yj4LPWzeopfz6FaaM9ae2sDOk6ZotLceUaB36BBIeEEvrjYDR9gIBgQvuHEto/lOCQwLZeXPtWNrzlIPwX/03OQzFERcUwc2EemWOgetNWqju7cL9qYcSvfkP6pEjCdKGERc0k/QFvz7y7jpL8LTSGz+OVVenMHBNFZFQMk+fmsO5X4zr0bN9A1DwzqVNjiBozk0UZUwj9x0H2X8qa2AukrfmNAgoPaUh4fg2LZ8cQNbz1XJ3sLPZZrHusjtrToYx7OJVxUZGe9D+0GPOCmHNGUnAPJvm5xcwcE0XM1MUsjg9H/Wg/B//Vtkn4QzmYFyQxeVwMUcMjiZmUyvJHYnBV7aTqH+135z8ilaUPRBL8I4XgqFQWx4fRsK2E972FYrfPwavhyKe4GEjY+SrTrddJ/2A0XVU8jAmetN0USGjMPGZFQV11x4XC/oT/PIvUqGCUHwUT/sBSkowOdm7e2cMFxQqBIZ5rNjjQk85+3us3NCSYQOkh91I5+nkT3Kzz3OeAszKLhzMsOKOyKd79Lm8WpKI7aCYlw+KtpNixZC/EctJE9mtv8s5b21m/2MjxojSW/Nmn0D5zFMvLewma+zJl24pZPU3BuiqL/L963z+Qz2NPleIwZVO87R3efH01ScFWzOlmKlsfEe+ngHMfeYVNzCx4l48/+QvFj2qxrnwMc6W3pDlRzsKkJVQwidzSN3nzf1cTH1jBkl8sodybHNWax2O5lWiTVlP21l9480+rmRFQSc6jeVgvpjz6UTDB/UMJ1QaeO9rWwcD7F5MaFUrgTaFEJSYzPtBBdXX7tQAtfqHMzEgnRheIclMYkxdmMN5dRcnWzjtYzqu7cbub9POLKZuvR7klnvUffUrZfD2oNgpSU8g/oie1YDvv7itjdZIW6/MppBX3tLIF0EzdkUaInEXq7Bgih0YSNW4mqdk5JHQc3XO3oL13Kea544gZOY6kJRmMD+iQn8NTMS9LJ2HSOKKiIomKmUn60gTC/76TPTXtv+wu812tZuOaXTiMi1nzfBLjRkYSNS4J86+TCa3dgOUiLh5n1T6sZ4xMGtP5ZCHDY2V8/NvpaBQj2bs/5uPCVDqb/OKsWMIjT1WgTH+B4m1lrE3Xc/SVNNLWeRtwX1hI+4UZa98kVpe+ybtvrCUj7Cj589IoOOzdiZ8CTiuFm1SSi97h4/1lzOtnJW/JHBZu0ZDxp3f4+INi4vtUYP7NNm8lWEHpo1JvyWOvLpuy/Z/y8e4XiG2ysHBxEZ6jOyh/Ng1ztZak1WW8uW87xU+bcGxOY9GGekBL0u+2k21SUKas5i+1b5I9ovP8Uj+3kLdFIWFFMdtL15IcUkNexrNn7+123PUUpaVg/lBL0urtvLu7jNxJKqULHyGnyue7CohlcoyCbU/leRpenesyz7sd06zkvVLPKPN2/vLxx2xfNICaV3xi4zm6ys9O8q2rmHfZ7+M2tnWLWLITJv26mDffe5Ptqz1lSFpuhadR0Y2YLS5Nrz/KVK37lGPuUKLu8e1ZDiRqZDj+f6+l7stOPtQvhvHnm7/+91r2H4PIiZMJ61iB6/i3/2BGRLbtR7kllH5+Dpz/uITW53nTplL94X5a+o9jcrv3Axk6PBw++ZQjrYe9NZwIpZGda1dS8lY1DU3nT4//bcMY6jM0HXpLMLibcXzjs5Grjq2/yWTurAmMHh1N9KhoJjy3lxa3E1eHnrXQIeH4TqoKHxKO4qrj42M9PAevr058RUtg8GVYcOlPqN53mlkgwTcp4HThbNeADCRyiO+1FEz4kFBa6uqo+6EuKL5MVDfg80912qkpXkLeTieGWTO888ntbCvcRpMxk5VZcRgGaNHdE0/u8iSCqi1YDgDu49R/rqIbOYO4u3ToBugxTstm7ab1ZMZqfI74LYa5vyZ9vAH9HUbiFidjUpqw2bwFz+Bk/rBtO+ufjMMwSIfuDhNJqdPROax8cLh92k3JmcQOUMBPg+HBJXuiOAAAIABJREFUDOIHNbF7uxUVsG0qpPJMLJkvphN7hw7dIBNJz2UT565go7dn0NlQT5MynMmzTOgHaNENMZH64h8pW5WE4Uqu3PILJGKwz1TIPoEE3gSukx26sP0HE3Gnzz0ZOJiI26DBdpBLGAi9dIoGRVGgj4KiUVAUUK0WNn6mI35ZNvH36NHeoseU+GsyJ0LNplJsPb5PAwkfFErLRxtZtW4rVYcbcZ0vZPr1I3y4z7TFgH4E9+uYn83UblrJgrmzmTDWEy+jZ+VzsEWl+VSHsduu8v3z/VR/6c+Ie8e3n5o5eASRgS7qDvf8aVC2g4fhNgOGm8+zgaKgCQBQUAI0KJ3GXjulGys4NT6TF+bHYrjDgGlOLrmPxzLgm+M4AFuphZo+cWQ+l4TpDh3aW41MfyabGVobGzdZ23Z1RsH0cCrGvkCAgenjDSj/pzDq0SQMGkBjZEasHups1Ld+t36gDphB5lwDGj9QBsSSkRqLcmg3FUcBtMQ+Xcabm14gyaRHN0CPIS6T5BFgs3p7pgOCUPwAPwVNgOL5f2e+HsAMcyZxw/Xo74ol/el5GE9XsvWdc/u3VauFwv1BxOd4jqsdoCc27QUyTXZKN2zz6eFXGGIwgO0jDne7utB1nnc7pp0B09xM4m5VAAX99JkY/Xxi4zm6kZ8ddBXzLv993ErleH096McSH2tAd4sOvSme3N+VsfZRIwrdi9ni0vT6guSWf7lQ/QLRdOgSDwwMBLcLZyc/EunfN/DcHvRWrmZcbujfrzvrBpTzBM6Ld/60uXC6gC8tzB9V0uG9FlqI8byvACEzMf9WpeC1rVie28JKVwuBuihmLsxh8bgOz/u5wb99b96/+wMq/L/WFxopeWo+KxsiSU1fwVJDP/z/HfhrAQ/95kvU/+f7YX8ClQ5Te5RANDhxne7hOZx9+VvwU3rc49gZxa9D2voAbtpPtfK7Af8OBwu8UcFfdeJqAX6EuCgqFU9EEPZEh5c1emJTVpP7uHe+s3qYj2ygf8TYrrdSuWsUwwMs2A7YYbiBsTEhlP7+MVJOxTMz1oQpyoD2DmP7hZN99BiG+jQWFA1BCjhOe0vjAA1O20bynq/ksN3JKfVbcKs4zyio33bYj8HnovDTc/ttoH5upwkHtkP1YIjH5Dt3WGNi1FDIOXAAJzq0UWMxksezv8iifvZYTCYTxlt1GIZfZHZ22w3ndGoowLcdtvLvoxDo336rwP8A/uXCCeePl73A/qkNp98Q7r7L90bVMCRSD3vqOfoNnkpltylELvgNeTcWsfnNfDLXfUWLXz/Cx80jKzuByHYnfwOK0vHT7fOzbt0C5v9BJebReawYOZh+PwL+sZeVvyyEMyq+udllvjtdOGih7oX7iH6h/XFbWloIdfa06ebEcaIJQnToLmX0Uj3MJzbQPTqEtqxWMM5fjREAB/s+tcPgJIy+ZaRi4O5wKD1iw46JIIA+A9Df1rbJDQEaUBT0t/p87EYFVNVnWq9CiMHQLkZoBunRYcX+OTAINH0clBaYyTpwFMfX3/ItoDpVMKr0qPvutlEYfQPLbQb0GpWa+nrwnm0r+6EanMpwRhl9LxItxigDvFZDvTserTffQ0K1oDpocgDdWdfRZZ7Tg5g2AMNgnzQqCkE3+sTGTvQ0P7uKefWX/T72yZPYWDRP5ZHyRBPxcaMwmUzoBxjOXpvdidkXdWhxVq83Dvx/FIjibqRjjHS5XODn7+0B6egCVc1Az5QP11fNcIEHZ14550ubpwHkPziV/Ocn06/j2300aH3aM4HDE8gangCoNB9+n42rzVieW0WEMY/JPVnE9uVe9tSoxDxtJn16W6HWfKDj6gWAFlwdvgjV1YwTDYEBPT8HAP+bNPAvJ64znDtycyW4nbicKr7fg+trFy2KpkMhfi5VRhYuQMGUVUx264JktYbCx80cGJ/N6idj2wKxquJUVWyvziHi1fZ7UFUV/VdOQEfsc2WsNxSycZuFZzeYcSo6TA+kk/tkPPqAtmMqHSOUz9+OsoWkLK3B8Pivefk5IyEBQH0hiSnb2n/GT0PQje3PRVEUUE/hdH+L85+gHjAzOsLc/nNnVBjexClAc0cq60t1FBWVsPvlheRlg/auOJKffJr0mN5/FkyL6qLZBZyNDU6ancBNgW3fzb97vzvfe/HM1Z+j6zylwo03nJ2G1iooQANuJ6dOQ49LdiWMcWlmxqUBrkaqdxSwYvVKcn8ayesdH3BwIe469rzZQOCkPMwpMW1R5OheOvZ7QDfyXROI1i+QyCWvkX5OQ1JB6dvTh1+ofKsCyg2X1uGinsKpgibgfHvx3Bf0C+rwVWhQAhSwqzjdeBoHwA3nxHaly9qFounwJSs3oKBySlVBtZGXmkIRM8h9OhuTPogb+JZ9z04k55vO93fe4wRpOkxZ9Yw0nPrm3GvfeUpFPV3OwrsrOryjovppPSPy3mQr3vQ6u3sLdZnnPYhp3cjf9seu6Xl+dhHzrsh97KWdtZqyvhaKireR/1QBOaoGfWwSmc9kEndrN2P2xR1aeF35xoGfvyeiqi20r7J5KOERhPvtofqvDTC0dTpIM9Uf1tHy45mE9+/h8X4cyYiBUPjmLhoeTD13atHFslez9UAjii6GycMv5mlGClEjR6CsrqNRSSeq2+elEDxkHOkPvE3JM400n8SnIOoGVUVFITTIt2bcTPX7tbR00nhqrK6mwR3pzTeVg9UHcQUOZdjAizuHsFtD8VcbaWyCTie+XnYuqqsPoo6J8lxr7gaqDzjwDw8nvPVauElDME7v9DHvFflVHXXNnTWYwN/vBmhxnbMY/BzHdrHqj/txhc0kKzHysoyWXEu0AwwYzvYSGXh68T7uXWYmb4qJ3NZGg6KgURQMD67n5Qc6VpoVlJu9j47x02JKzMaUmA1OO9adReS9lMNjfnrefMZI1xzs21mJc0Q2uQvi2i6tL0A902FTt8q33wBnGx1O1NMqBASh8QtC8x+gmDIozok7p0BRbgw5u2/ljjjSX4wjHRXHoUpKXzWTn7EE7e71xN/SjSRfSe5P2V/jYuY4bwdAUzX7/wZhv2ibiqcJDPRMOTwFeL8GV30Dx1o66UbpIm5fCk2QAt98i7NDh8Gp007w0xJ0qaO5gaFExSczZdseNjb29KcLVdQWuKFv+/UVjR/up6EFzon8XeX7bSOI+vFGqhq+InR21GXIR4UbFED99tK+FyUIjQJHz1uzvQHNfwDfnMIJPiN63nsnSOl6jVgX1G86TGY5/S3OMwr6AAUO7ab8iIb4/8kl/uwT0hz0bMjA65/ODh9TcZ6GoBvPzT1NkAZFE0duaea5T17rE4TOJ0Co6reoKGi6+yV0mec9iGk9dZH5eaGYZ7yc9/E5nRQKuthUcmNTyVWd1Fu3kb/SzMLFN7D9f5O6HbPFxbsKaw5CCdcH4vpwC5Z36mg41kCjvbntmtTN5MF7tdQVPU1u8V6qq6vY+pts8t6BqISZPX5sHn7hJGTMIrSukMcXrmLr3mqqq6vYtWEl81/Ye1GxBcBVu5kVObms2HHxq5WD70sneVAtK9IzKXh9L9XV1VS9tRXLmmzmP7erbW5w1SrmZ67CUr6X6gO1VO+1kPuHPaAbQdRPe3jQn8YwQqfyXlkptf8A1GaqN+RSWHOe7e2bedpcQlV1NXs35LLidQcDZyTwn4E9PAevwOEjCOcYH9s6Hz53NTfT+GUjjV8243SD+k3b365/dfqRLvjjeGMFuRs811KJ+Wk2HtEy5cEpbQX7j6OIHKhS9WcL1U0u1KZaSl4u4XzfbFj4YJS/V7G5tJq6Yw002BtxdTbK8Pdadm7bys4Pj3XdkPge0M7KJsPYRGluHjWt0/+UIdw9FOz/5yRkkB792X8hBPUJQtdXAWc91p1W6ltvRo0O04O5ZIxXsH9m6+aPC33r6bHrG0TbkyqdVG6rOHeB4BkbNQd97nx3PZ/Uq2hu0xOCBsNderA3oQ7wTa+eEEUhSOspehyHKqk40JoyBe1dcaRnJWFQj2Lr8e+EqTQ3NXquc4cLFXD+w/t3U3Pn11YX/HFRtSabgh3VVFdtZdUzhVQrI0iY2tZrHmgcQaRfLVs3VtHoUmk+sotVf6w6T0zsIm73lE/lRneXAY37MB8d8t3AyYGaehh0J0N63OXXQMlT88ldV8Kud6qpPVDF1ldXsbleIWpkD0YNAPzCGRGlxfFWCVuPugCVxncKyP1TXadz2rvMdyWK5AXjafnzUuabLeyqqqb6w73s+nMRKzMXUHSwp+eqQXtLCDTZL/CUmW5QhnCnAeoP1LS732xrU5jzhIV6tBgidHDko7Z7G0C18ZENQu4wXGIFTKXpoK3dveo4YsPeR49+IPBPJ9/2CUFzs0/N+4ttbNuvetY89eRIX3zCYd+1dcdt1DthgP7cp2To7jIQoh7HcaZ9LNBpFIK02naNsaYTDlC0hHR34LDLPO9BTOupi8jPrmLexd3Hns4j/unklM+r9s/qfdY9OLHtqcDa+uQqxTNq8OtHTXDkbxxVuxezxaW5Co0DhZhHl5NqaGbz0rncP/t+pqYWcfDsBRnIuGWvYI4Ppm7jcjIyMsl/H362ZA15ied5/GUXAmOyWPe7xcRQTdHyDDIyl1NY6SRy5ODe7c1Vwkl9dR3Lx8D+15aTkZFB9m828vbnGkb859C2mayhEYT71bGzyEzmL+eT8VwJjQOTyXslva33u7v8wkl9aTkTzmxhQVw00ffNp7AhhqWLOnnyEf6EP5TJTHUnK5/IYKmljtCHVrBmgU8veHfPoZVuHBOGqNRWVZ9bsXDXUZJxL1Pvm8rU6dns+qqFY8ULPH/fdx+ZO3ra6wf4hTJrUTKa91eRmZFJQU0gU559hawxPinzCyf12cXEfLOZjGkTuO+xIhrHzGPmjzufdxQ4OZ2lD/Tn2B8yeGj2/dw/61ds7OQBD81Njbjc/oTf00k+fB/56Ul6eh764xZyft/6vHEdM+bOIOhNM0vWVWI77sBxtIby51O4d/ZCSo8D7sOU5KawKLcU62d2HCfs2CqLKPlQRXeXsZs/2KTDGBGCWr0Vy1/tOE7YqHh5IYVuE6Y+TuoP29oN99dsyKH0gB3HiXoqX8mj9HMdk6abUADDQ0nEni4lJ9uC9agDx/F6rMVZJE6aw7Nve4qsprfzWJi+hIKKGuqPO7AfraH8tW3YAoZwd08fa9u0lexpUz3X+YISjrV8xa6l3r+nLKDk8x7uDyBwPOmPDaTuD5lkZK5i7//3M7J+a2am7+he/5lkZU3Bf182s+PuZf7qWiLnJhPe6WXfVdzuPs2NCpy08YHVRv1xJ4opieQhdkpX5FB+yPOdWDc8S94ehdhfxNPzpwRrCYsMpfn9EvKWZzD/l9nkv68wYck6lk/t6SivQszC37D4nkaK/msC0aPvY0GZiynL5hHZWeztRr4H32vmtd/OJcy+hbzsDDIWmyn43/04deN73tkDGIYOgc9t2L7u+Wfb6JiRGIfmvTyWrKmg5rANa1kOOb+3QrgJPWB4KBXTmQrylpdS84UDxxc1lOaaKXUaSXrYdCkHB0A5sQ3zmkrqTziwHyjlv39vRYmaQdytQLgRg189FZsqqHc4qLdayFr2EbpYHXxpo+a4ExXvAvcjH1B5qB77+X5NXTnMxuXee/sLK0UrLdRo4pg5/txKpGJKIslop3BZDuV/bYtNC+MnkrjK6lOGqRw+aAPDnQxpLRwPF5EWn0jBeZ8Y1FWe9yym9Ui38rO9rmLexd7HgwwGOLyb0r96YqvzQBF5FQ6futkpajYsIW2xmfK/1mM/Ycd+qILCLTUQ6cnv7sRscWn+7bvvvvvuUnZw8uT57khxXWn9EbRHX2fD3Mu7VsO1O5NZL0Dmlh6ul+ip6pVMzdjPuMLXWTz0Ch6nUyp7n7mXzAPjWVOWQ8xlXvjct28v/tLOZwVMuy+fQb/9mNVTOjavVWqen0biZg0ZpWWkD/G8Zq/Ix7yuHOthO6qfFp1xEkmLMkka7imQnQcsmF+2sO+gHcc3oBlgwDRlHtmPx6FTwLkljehsldwP1hPfeuruSrJGpVH/i+2UpenhpJWC7BwK37OjavSYZmWQ+7iRw8sSWbLzFIbFxawOMDP6eYXcwlHUvFzE7sNNcLOBSY/lkvug4WyBpH5WTt5LhVRU12NXFXR3GIn7RTaZs/SebVQ7Fa+aKSy3YjvuhBu16IaOJWlR9tlz8nU146Lnx7jCyXs7h5hefsRup9fp8XIWpj5LxXEF/cOr2Z5l8jwf/aV8SvfUYD+toBlkZMYjPvndwbVYzlyNfO80Px2lpNxrhmfeYv0cb1P6swKmzdiIsfAv5MYAexYyLMNB5lvFJJ13saxK/ZY8zH/YhvWoE0VrIPahTJ5OM51toDsPlZL3UhG7a+w40aAztr/mW+/TF/6ynune28CxOYXRz2tYXbuaOG++2NfPYWKBnrX7VxJLDeYJiVinrCaDEvLLrNR/o0Fniif7uUxib2lNWw5ZL+/G9jWEDJlE6rJs4rGQkpqPLSCe1W/kYtxvJmWJBdsZHTPMZWSeXMjo5xVWf7SWOEWlImMYC9VsiqfUk/fqNmqOq2juiGPesl+Teo8nwRWZESx0ZPPuxiTPeZ+swfJSHpY9Ndi/BmWAAdP0eWQ/5olNAJyuJGtsGvWPvEnZfO8YijWHMcnbMP3uY1aOv8g870ZMW9s3r+vY2Olxu8jP8hl8MD0R6/Qyti8ydC/m9fA+9uSdDcuyHIr22GjyC0EfE0/2A2D+5W4mlW73lCEOKwUr89lWVYP9axVu1mOMmUHGk+mYvFM4u4zZ4pJI40B4XMHGAe46ipLn897419iQcnGjQd3Sm40DdzUrp2fS8PAm1j10+RfC92rj4Drmqai0Vhau3nGlcXB5XYvlTK81DlCxLptIyuF4tpemt/0Q2vXC7W0ctFZCr0OOzSnc+7KGF3b7/kKySuWyRD6YUUb2Pb2ZOiEuXa//zoH4AfALJ+nZpUwI/KqHP0R2HfGLIuuNd69Iw0AIIdoomB7PJs6xEfOf5ZnuV52jgv9+1YZxUaZPwwA4WcnWwwbG3tVrKRPispGRAyGuAzJycHF+CCMH15If0sjB1XCh/HRWmUnMtDHpf9aTPuQ6mkhxPY8cuO2U/vJhivpmU/xiXDfXRwlx/bnkxoHL5eLMmUt9zpYQ4nz69Onj+VFAcd34IcbFK3mdSn4KIcTVc8nTigICAujTp9d/S02I76U+ffoQEHCZf8ZbXHE/tLh4pa9TyU8hhLh6LnnkwO12c/r06R9cr86FtAZ2P7/rbaWYEOeSe1yI3iVlihDiarrkkQOpNJzrzJkznD59uusNhbgOyD0uRO+SMkUIcTVdcuNAKg2dk3wR3xdyLQvR++Q+FEJcLfIoUyGEEEIIIQRwLTQO3FXkTojmoXUNvZ2S81IPrmL22AWUfNnbKRHiWtRM9etFWN5p7O2EtNNYPJfoUdnsdV/ijuwW5kYPZ/jwC/ybvoraSz2O6Np1UF6c1bSVzAmzWVWtdvJmM1szJzD7N9V09q4QQvSmH87jHy6BMjSZ5KGzKfp9FVNyY5CHywnhw91MbWkhGw3hJI35Hv4IXMg4MlaE4vL+6fywkBWvu4hZsJj7dN4X/fsTJmtFxVkqVUVFVEeksjSqs98gCGby3Cls/GU+pfdvIGngVU+gEEKclzQOuiWYybPHk790I1tTY0jSdf0JIcT3hBJK1Li2Rk/zP7YAKmFR4xg3pPeSJa5hX25l4+5viVk+nuDzbKIMTWDW4BJK/lhF/LIYrqOfMRNCfM9d4caBi7rXC1j1p7eps7tQA7SE3j6UKfOWkhrVof/d/SVVawso2FpFg0tL+L2pLM2eSfjZiKlSV17Axh3VHGxowHFaQfvTSGLuTyX9gci23vzqlUzNqCLq8QTUN0uoqnPg3z+SCY9ksWhqWLsArB7bS9HaDeyqrsOhBhIaOYHkhYuYOfjcMK2MHM/PAjLZuauBpPlhlz+rhLjeHC5gdnIRx1qn0xxZwPDXvf8PSWDdziyizvame2JBwZ/eZr/dhRIcRuTYZBalTybsR+13W/XcaDJtCeQvCWbnuhLeq23EFRBKZHwO6+ZHnt2u+UAJRa9tpepgAw53IKHhIxifmE56h9ELp20ruflF7PnEAT8eQUJmDukx56uyXQauOrb+vpCSfdU0NKsEDoxhyiOLSb839Gz8aSyey+yCUBa/GEFtoSdO0b/ztDVXW1hVuIX9nzTiIhDtT8OIun8xWQ+E+8Szy5+/3WK3MHdOPsHLNnGfvYDCHdU0nATtT8eTviqHyf2951tVRMHGnZ5zULREjk4ifVECkTf57EttYNeal9m4r5aGZhXlplAG3jmeeUvSiQnpcNyuygt3A7teLWLnhwf51O7ARSChhp8xKyWdpKi2/G1Y9xAPberPvMc07LfsobYZtIPHk/TkYhKGtC+junUOrft9aye1fiNYYbrQOHMo4yaEk1+0k/cXxjBOhqSFENeIK9o4UN9ZRYb5PcIeziRvTH/8v/mKukPvcezvTmg3OaeFxh2r2PifCczLnYV6eAsFr65gxa1D2ZDSWhFv5tinzQT/ZwKLk0PpdyN8dXgnhWsWkNnyGusSfSrs7ka2/s97pK94jZw74diOFfzqucdRAzeRM8Z73GMl/GreSmpDZ5K+LIPwgGaq/1zAinQH/CmPmR0LIyWSEZGw0/o+jfPD+B5OnhCiZwYns27nTNQzxyh5PJOtty9l04IoAJQ+GgJ9ptk0vp7NfHMtAx9cTN6SUPh8DwVrspnfBJtfnHxO72rLyT2s+O9QxqfmsC47GE5Us+vztvddVSuZn7mFlpHJpC5fzMAAlS8P72HLh0dQx7RVwmnZT1GeyswHsshLbGbP+lUULV9FxBbzlamMqXUUPT6fAns4SY+ZWTwQGt/ZSP4zj+Ly94k/AC1VWIpDyVr+GksDm9n54q9Y2TFtzVtZ8dQqjhjTyf5tFP1w8WX9ft470UwLtDU2LnP+9kwLR157mmbDTNJfSmfgj1o48kEVeBuNzW9l8+gze/Afl0H2qqEEnj7IlldXseCpFl5bm3R2Olbt2l+xvDyQWQvNZOkDaWk+Ru2HtTSeBELaH6/L8qLlSz61a4i8P52E/v0J9HNx7J2N5D+xAOfvXiN9qE8H0D/2snFHEuaCN4gKdLB3za9Y/vhyFJ9yoLvn4P02qH6/DobOIqpDw6yj0OEjCD29hfdqVcbFyNiBEOLacEUbB8eO1OEKGMGDaZNpnXYZGTOu023V0FnkZCd4Kt0jw3FW38eq6mqaU8K8BVsok5eYmez7oeFD8W94j8w336chMYy25oE/4T/PItXbQxT+wFKS9t7Hqs07SR+TQDAu9v6hkComY87LYbK35IyMDKR5TiYbS+qYuSC8QwoDGagPo2XTpxz5F4R2EfSF+N7zCyQ4JBDcLjR9gIBgQvt30mx217H1T1WophzyfjXTcz9HRTGwpYHZr2xk69HJpA7q8JmvWhiR+xvSR3oDhy6U9Ki2/ZXkb6ExfB6bVqWerZhFRsUw+ZxFwTcQNc9MqrfiNTSgjqq0KvbXwbiojtteuuY3Cig8pCEhfw2LvWmPGh6J8uV9LC/eSuqYJJ+OhWDGpaUTM9Dz/4SHx1Hyzt72aTtWR+3pUKY8nMq44T7n6XvQy52/F8Fx80x+n5tw9txCB3rjp1rNxjW7cBizeP35BEL9ACKJusXJQ/+1AYs1npwYBWim7kgjRC4ldXaMN+ZHEjVuZqfH67K8+FEMi1+MafeZSGMwjR/OZdfeOtKHto2QtPiFkpCRToxOAQKZvDCD9/YupWRrAzPnh/XgHFoTd4y6v7UQOmNg1+vTBoYx0M9F3eFGiJERaSHEteGKPq0oVD+QwNNVFJot7PqwjkbX+bb0J/SuqHaFZmiIAk4XTp/CXj22l4Jn5jP7vgmMHhVNdPRoMrd9RctJB652lYJAIof4BtpgwoeE0lJXR50bcNexv/orAkdOYJxvl9qPoog0QOPhWpo7SWVwcCD+arOnJ0sI0T0n66i1+xN+T1S7HuzQkSMIczfw6aedBIZ+MYzvdCEn8Pda9h+DyImTz10E3PFv/8GMiGzbj3JLKP38HDj/cSWeEaNS/eF+WvqPY3K7tAcydHg4fPIpR3wP6z+QiNt9/u6rJZAOabs1nAilkZ1rV1LyVjUNTZ2k+3Lnb4/5Ezk2pvPR1M/3U/2lPyPuHe+tVHsNHkFkoLdSDEAg4YNCafloI6vWbaXqcCOu835F3SsvGquKyF3wEFMnjCZ6VDTRo+ZS9HkLzpMd8sN/MBF3+uRF4GAiboMG20HPIvRun4PXqUYaT/sTrO3G1DX/YLR9W3D8XR6FJ4S4dlzRkYPAcUvJf7aQwi0lrHhiFS63P/3umkLGM1nMHNS+YFIU/3NT5oaW1r+b95L7y0yq+ieweGk6Q0M9fTJHXnuc5Qc6HNjvBvw7lHuBNyr4q05cLcC/u3C4wLV7KaPf+v/Zu/u4qOq88f+vbbjmbPSd0bZBr4cztStcbTPaykwJwxbIrkKmYplYrrjeUKaUBqYXmIY3JWsFWd6k4U1CmpAlWgpWK9kq1ld0y6FWYdcd3DXwWnP2qmZ+kme+Ur8/ZlDAAQe8wer9fDx6PJI5N5/zPp9zzud9zudzTqt5G71wiwc3nPcoXtEogBt595wQHeDxoAJ6nb7l36/VodOAx9O6myFor9e1fdfV48LTCL1uCGbcgIIS2vEid44Htwc4voHJd2xq9ZsXL7G+38+emxRan/bO02MEi5aqrCh8iw0Lt/Ksx4vuxihGTJ/PjKZB0pc6vp2gu76NfeH2cBIvNc8Nw/5cy5+8Xi9Gd1NDXSHysedZfN1aXv/jS8xc/W+8mhswD3yYJ+aMJrJVYS90vVD3PctjM3eg3P0wM/Ki+EV3LXCct2Y/xqZGb4tdRSIAAAAgAElEQVRZtSEKuhaLU9D9H+Ab33VAF/Q2+DV9q+yaYJIvLVoNeOWaIoS4ilzmAck6zPfMYPE9M6DRQ+3eTbyYu4JnnjMTtXp0h/rte/aV8f5X/Zi29glGnH1bkMo/Gt14W0/c6MbjVqH5cL3/9eBV9P6LgI4wnRZj/DMsG/OL89alKGEBy+b2uAE9Ohk4JkTwdDoUmo6fZgePx+Nr5Ldu1AK09+4WncHX6P23C66q0T869DrQ3jKJl3KGcEPrn0P0BHMz+byl2kbzhG00oOI6/CHrlyxiw8IXsNy2mCHdufTx7QSlrde46nWEaXREzipkqu38MijNkwolnIGPLGLgI4CnngOlK3hmybM8dVMkWx5p3c2zfQd2llPfawSr540jsqlsjR5oOH9ar+rB5QHODix243ID3XXoO7oNADrfeJvj3wS6xdSaB48H9N3loiKEuHpcuY+gaXSEx09i/AAj/KseV0c/GPStl/Ma5t8coOJgoL5KHg4c+PTcDf7GWg4cPInWbMasATRmoqN0nPxrLdwUTnjvlv8ZewU+UR+vr8dr6I3x+g6WXYgfMo3W19ZUvYEfql1vJvJGLzV/3tuiu179nyuo1YRjsXSwYdQzkujeUPXHd6i9lB8e+/wAb217i3cOBupUGAyFqJholM9rqFfOP6+E32i4yLv1CoY+A5l6fzTaBheupu6Nlzq+Z3mo2fkWb23bS+03nVzEL6KJ6qlytPbfGFvHo7cRY/c2khSdkagHxjO0txZXfUf3hwqqF/RhLQbF89e97A3Ue6exmv2fNLuOfHGA/UcgvK/Zt786ug2hvTD29FL/z+MXfsh8wtcFqXf41ZTkCiF+7C7rk4Oq1Y+x1hXJoCgzRoOCevR91rxbT9jAaF8jvQN0tmgiNWvYuuEAsZOjMHhqeGvJC7zv0Ta749NEy8myZ3gqbBr39dFS++4K1v81jKGLh/rv4+gY+NDDRD/8AunT3IwbGUd4dxXPiXqqD+6l/r8eZ9GY1oPDaqk65EFns9JPPnYkRDNGzP+lw7N7Kxt292LgTVqUED2GGw2++9MaMyNSYtm0aAUzn1N4eKAR7993sGbVp+jiFzGi9WDZC9GYGT3tPnbMXEP6dDeT7ovDqFNxHd7L1n9Fs3zWwE7dF/dUvc4z83ehjFzOEFvshWcIwDBsKuO3T+aZqTOpHzeM6Bt1qF/Vc7RmPxVfxbF47pCOJQh7X2DyVoiLt2K+8Qb48lO2vvI+3DieqJv801zq+DZprOX9lU+x9ng/ZthiCe/M912UKMY/Nohd2bOZ7J3A7waYMYR4cH1eS9W+KgwTljOpH0Atm7Kepea/BhF9Szi99CpH967n9b8rRP2+Y08NQMEcE4Wycytv7BrI4wONeJ3vsOIPW3EF6MalxcPe5XNY0TCe6O71VKxfwwElmvlJ5g5ug5/GTHS/G9j01yqONsa2e61Ta6qoIZzxkR14pPTZWh589iNu/+91AZ5kCCHExbusyYHxFjO6g++zdvd6Tn6lohjCibp3EfOndOKDLzeOY/4zbp5dPpthr3lQepqJTZrB7GHPsuDDVtNqjNz3+HgofYGZK09Cr0iGzvsDjzd/jWDv0TxfEMaGVa+z6blN1HsUdD2NWGyxDL0twF2czz+k4u86Yh+6Uz5WI0QLCrFTFjDJtYLXZ09gxTfe875zYBy5iNWs4IWil5i5xYPSPZzIexbxh6nnv2YzGLrYJ1id35u1695i7YJNnESHMSKaQRNv6drjUzEzaeVqjKvW8HrhAtafaHpffzRxw/p1/MmB0YJZs5Uda3ew5oTvWzHmmPEsfmxqi0bnpY7vpWRIXEShbgMrXt3K4jn1eM74vtXQL2YoQ5oSHMIIjzSy94+bWFxcj6dBQdc7koRZq5ma1PEtMCTNZvEXL/DCcyMZkK0QdlMUAycuYHTxTNa3nlg3iKmPGti7cibrj0NYn0E8sXQGI3p1dBuaKEQlxqF7dz97j03F3ObXj1UOfLgf1fw7BnYkgfv6cw7tP0SPUx2YRwghOuAn33333XcXs4Avv7zKXt1z4FmSpu1n4JotzOh34cmDVbt6DGPeiWL16zOIDLL1cf310v9IfP9ddce4EJeI7yNoZhaXzyf2Uj4RbqxhxdgJvB//atvjJTy7mHPfAjzpW1h+T3AJkFxThBBXwpUbc/B95tnLhrdPEvvQ+KATAyGEED9SGjPjHxqE+6317GrjFd71215lr2E0kwZ39bMdIYRo6TK/reiHQf3CS3jKAgYOkZO4EEKIC9MlzuAZ1zu4jqtwS+u7Si6Oa+OYPW+c3HASQlx1Lrpbkcfj4cyZMxee8EcmJCQEnbzzVPwAyDEuRNeTa4oQ4kq56G5FoaGhhITIA4jmQkJCCA29Yl9eEuKykmNciK4l1xQhxJV00U8OhBBCCCGEED8MMiBZCCGEEEIIAUhyIIQQQgghhPCT5EAIIYQQQggBSHIghBBCCCGE8JPkQAghhBBCCAFIciCEEEIIIYTwk+RACCGEEEIIAUhyIIQQQgghhPCT5EAIIYQQQggBSHIghBBCCCGE8JPkQAghhBBCCAFIciCEEEIIIYTwk+RACCGEEEIIAUhyIIQQQgghhPAL+ec//9nVZRBCCCGEEEJcIT//+c/b/C0kLCzsChZFCCGEEEIIcbWSbkVCCCGEEEIIQJIDIYQQQgghhJ8kB0IIIYQQQghAkgMhhBBCCCGEnyQHQgghhBBCCECSAyGEEEIIIYSfJAdCCCGEEEIIQJIDIYQQQgghhJ8kB0IIIYQQQghAkgMhhBBCCCGEnyQHQgghhBBCCECSAyGEEEIIIYSfJAdCCCGEEEIIQJIDIYQQQgghhF/IxS7gu+++48yZM3z77beXojxCXJWuueYaQkJC+MlPftLVRRFCCPEj9mNqd8m1t2tc9JODH0sFFT9u3377LWfOnOnqYgghhPiR+zG1u+Ta2zUuOjn4sVRQIaSuCyGE6Go/tmvRj217rwYy5kAIIYQQQggBXK7koLGKFffZsNna+c8+hrXOy7L2HxCVd7Ls2B/ZhOtKr/qLt5iZMJIXDqidmr1+4wTsd8xhV+MlLtcl4+KtmQmMfP4AndtCIYQQ4vvp6r9Gi650eZIDTThDZi1m8WL/f1lDMGqg9z1PnPvbMzMY2OuyrP0HRdfDTHgP/RVeq8retWs5YBnP+CjlCq/7SjEwZMJQ2PISbxzt6rJc5Y6sYlS/vvTt2+q//jEMfiCNvK3VeLq6jN8XR1YxyhZPzkddXZDWVBzr0hh+p42+d2ZR3hDcXBXzY7ClrOJqus9TPtuGbVJx8DdULtM+cb2Zhq1/BuU/8LsPHY73ZeZcMxbbwBwqG4FGB3l32xi1vPrs756KZaTeFYPNNpicSqC+nLkp8dj62Rj1cnWbyxVXoQD7V1waF/22osB0hMcMJLzpn85a1mi0aH8Zy8CBxsuzyh8khdj/fpXYK73a42+x/t3TxC4YhOFKr/sKUvqN5r5bNrHptb08MDeWH2oadGloiZ6WT9ptzf70jYvqnQXkz0/lsGcjBeMjgl/csULGTq4jvSwbu+aSF/bq9Z8DSJtnwvDLri5IKw0VFK2uwDvoaTZOtBMRGmgilYon72JdvxIKRl+9ZwbziGyyv7GiC3aGLtsn3494XkiH430laUwkpmdj+7nJ/wcXpa8W4OieQt6LI7H2Buer+ZTWhpOWn8WwX4a3u7grxbM1jcSPRrE7L0GuS1eIxLyly5QcdJSLquK1rC0pp+pzDxjMxCZPY8aEKAxNDYfGvTw1eCY19y5gtLqD9e/up74hDHPiJGbPGYG5+d48vpcVS9bwzoEaTjYo6HoascSM5/E5Q2h+6HsObuCFl7dS8Zd6PEoY5qghPDx9KrGtnmh4SmeSsNDDjDUP43njJd76sIaTjTqMUQ/zfO5owoNq3NSzafJIXrh2NmVLR7RodNdvnMzIFQqzty1nhMG/rQmP8dZXvt+1MU9Q9vLogA31+r1rWbF+B/v92xA5YBxTHx9NZHfg8w1MGPUq4YvLmB8boLp/s4s5g2fjml7G6pHnll67cwdVmmie+XUbp/sg4wvgPvQWT720lvf/chJ6RjN65nymxp5bl+vABta+Wc7+Q0epd6koPcOJGjieqVOGEH6tf6LGXcyJm039yBlE/89bbP2/tXh04cQmTWXGo7EYm8ffU8Nbq9aw6YMD1LpUdL1jGfrQDKYmGgMc8EYGJph5ae0OPpwey8Cr8up29QgLt2K3t4yi/Td2dP9fEvOKtuAYm4k1yIa++peDOL8NuwylvMrpLCTcZ+nqUpzP+zVuVYv5ziSsN7dxaWys5WCNG/pd2aIFrRHQgMmejOmCEzfTVfvkao9na/74ttbheF9RBqxDk5v9+2vUBtBbBpDQ13czo87tgZ4DGGC3YOrsjYo2YtNZhz+rvrjurlfzNTqY9l4XuOiY/8BcBQOSPRx4bjKTl+yFQTNZnP8SiyZaqN8wjcdWVrXaWV5qt6xn/88nsXpzOVtyB8LOZ3hmY22zaWrZ8ORM1tcaGTf3JVavWcyCyUPp3VDPv5v3rfvrWqZNfYEDyiBmvrCal+aOxli7nplTn2VvoD4SjcfZtOgFqsMn8Id1W9iyZgGjb1HwBr2dRgYlRsKB99nb4vlrPbvKq1B+PZRBTcejJooZm3ZSWlbCE7HaNpfo2jmHKTPXUHPDfczxb4Ph0As8lrWB2kagVz8ie3qoOVwfeAE1Dj5Vw4ns2yJV4cCHNdAvmqhrA80UZHwBvPtZu7gC4z1PsPiZ2QzVV7F2wQvsahZf199rcd+YwMMzF/FS/moWPToIdi9g8vx3Wj2m9vLpmxuojXmC19/fQ1nOIDxvz+S/lzerI2oNa9Mn89S7HqIeWsRL+YuZFuNhR/YUnt0duOOL0RaNsWE/FVVyWugcA1azCVx1uJq9ba7uT8vISBlMTH8btvjhpM4vxuHfBc6XR3FbZjme+mIe7NeXUS87obGSnIE2xq5p2UGlevkobHfn4WgEGivJu8tG6roKijOHE9N/LIW1UDE7BltGCdXv5ZF2bzwx/W3EJKWR96dmNai+gmUzxjL4Tht9bTZi7h5L1ppKXO31t3VVUvhkKsPjY7D1sxFz1ygyllRQ18Y86kc5DLYNJu+TVj/UF5JqiyFtqytgF5a2Y6VSPjumVZcNF8WTbPSNadn1x/lyszgF4DlUTE7acOJjbNj6xzM8NYvCSv9SP8ohfsA8KrxeyjNvo2//DMpadytqLCfLPopVNV72Px1P3/5ZlDetSwOuPy0j7d54bLYAsW93G9txNv42bLYY4u9NJWeT41wXtiOrGNV/OMvKy5ibHIPtXt/2t+7m4jlUzNxxvnXH35tGXrmTskwbtowy37Ja7RPP1jRs8XMpP1RCTqo/ZvGjyFhT2az7nIpzRx4ZDwwmpn9ff0znUnwoyA527cTzQrG6VPW93TqBv1tU/FzK/rSMsQNtxMyrCLgpLeLt7+aRus5BxcsZjLorBlv/GAan5lBW2945tpPxdFWyasYo4v2xSltczvHmb71s3u1ELSej/z3kVXlxbX6Qvv3uJPleG2PX1+H9u6/r5PAlvu4p6pEy8qaOYnCMDVtMPKPS8ig7cq78bcam0UXluizGJvmPhdZxv2B8fMf3g5tceHdkcFs/f9enDrmKr9Edau91hIuK5RmMGhjjqztpeZQ3NXsueG25FDH/4en65MC5iRe21BM+8Xmef2QIUbYoYu9/gkWTIql9cz27vmo1/W2jmX1/JIbuOoyxD3NfFNQcOHCukqr/oPqvYB46idEDo4jsF0Vs0jhm5Ewi6mxWqrL3jdf5NHQIMxZNZUhMJFEDx7Ho6fEYP9/Kpp0Bek82nkSJn8/iBwcS2duI8ZZYRk8egbkDma4hfijR7GfHB82W//kuyg8rRCXGNnssq6DrYcDYy4g+YAMdUA+wfvk7nLxtBstzxjGw+TZUvcqG/6uCxoy1r0LtoU99F7XGeg68+w5VX/gWUV9Tw0mdmchfNF/uUWqOeDH27h34MXFQ8W3yU6IeXsSkpFii4kfw+LShGL/6lP0156Ywj5nPosfGMWRgLFG2SGLvnsSCh2Lx7N3B3lb7Xhs9ybfvr1UwRE1ixgPh1L69iQ/9JzJX2QrWfKZndM5yZoyMJcoWy4jpi5kZ72bHxrcImCL1Dqe3pp0ESlyAytFjJ+FnJnT+55Ceirk89HgR7tszKXh7J9tfnIjpL7mkPV5MHRDxYAEbHwxH23Mk+R9+wsYHg+2OpIAWjr+7jn03ZZD/6tMkGYFrwPtZIbkf9SHztd3s+3AnOZFHKZyf629A11E8P5OiL+1krt7Oe6WbyU+3Ul+YQfaWtnpKuyhbmEHex2Gk5G5k+zubKciy43oznVkbA/ewV25PJC7sC/bsdLT4e937u3Eodob/9vxnf+3HSsEebYfqgziaGuueSvZV98Ckr2LfZ+fK6qhyorfHYAl0PjpWTPrkXCqvTyF3w3Z2bllKWu9a8qdmsKoGsGfyx9JsorVa4nJ2s29PLsNadyvSJLDw3adJuFZL9Kxt7NuzkAT/urwnSsnfCqOeXsfm15aRaqpuFvsL14eA1GpWPZpG/pEIJr64mZ3vbiQ3JYzKZ9NI3+SfS1FQGt3sefWP6CcspejF1PO331NB7uM57FFGkle8nY2LhsPGWeR/5gUNBLz1olHAvZ+lK2uJeWozu/ftY/M0I46V88hvSvyqVjH9yRJc9kwK3niP7cW5pBj2k/t4LhXBjNdoI55BxepS1PcL1QlACQFOVVO09SQjc4ooeNQaxIYBIVD7Rh7b9WkUvLOPg+VLSXCXkJ1b2va4hE7F00XJwgyW/cVI2orN7CzKZax+O0u31gW+aackkPvBZtL7ajGMWMq+fbsoKt5D/lgT2v+ayLoPP2HzIxY4UUbWpGzKSSR7w3a2F+WSrCsne8pcylztxUbFsTyNtJW1WB5ayvZ3t1PwuJX6wjTSVje7K91ufAyMWbaZzGgt2sG57N63jcz+wYX9rKv4Gt3h9l6QTpYtZZ1nAJkrN1K0LI3wfxSRmV3Y9vmlhUsQ8x+gLk8OXPv3U0s4g+42t+j2YewfiVH9K1VHmk+txfhf5maNVh2G7gq4PbibMmLlF4TfDDVvvciKLXupOuoKkI3WU1Pzb7R9o4lq3gK+JZronl6qqmrOmwONkdh480VsKdAjlkFRULXr/bMnydpd5dSExjLszg72afnHfg4c1xKdOKjlI7tboonUNTV2FW7pZ4aaGmoagU838VT2Ap4trQVU/nqoBvpGEtk88F/XU9+gxRDWRh/YoOLrp72F6GYLV/7TyA2ak7i/ajaHp4a3np/JhPsSGDDAjv0OOwkLd+FtdOP5suXijH3MLbpWmfuYUTw1OI4CqBzYtx9vr4EMaTGIWkc/mxn+Us1fAxVUayDsei8nTxxvayuEn9qI7/G5/z/VU4dj01yWvuvGMjzJP3agjtJ1pXxhzWDhzAQsRgOm25LJfjKFbh8XUVwFKDoUrQIhClqdgtKBDp4KXr4IiSH9sQSsfSMwKPg6R6rhjPrvYUToAMVAwj1xGNzVHD4KNNbjPKZiih5GQl8TJmME1qGZLC3MJ2NAW8edgQFZG9n26kLG2CMwGSOwJKST0h8OVzoCD8BW7CQN6kFdxc5md/DrqPjAgRI3nAHdW89w4VjpomOwqlUcbDolfXaQmv9MYGTUaRyf+pOUBgeVnynY77AG7CtbvaUIR0giGXPHYL/ZhOEmK8NmZZJkOEzRG5WgUVD0WhRAUXToQgPvEEXXzf8/3VpO4zaSNDedhMgIIvrGMWX8gHOxD6Y+BKDuL6LoiInkJzJJvi0CQ88I7KPnkpEAjje2UH02vi48t6aSeY8dy82G87Zf/Wg7O09aSJk1hbibTZj6DiPzqST0JwKv96xGsI9NJ+EmBVCIGDYcq+YLDlf7mxs3p/DyG5vJn56AJdyE6WY7YyYOw3RyP/sCXD6Ci2eQsboE9f2CdQJ8SZL3JMbh2STfYcFiDO4apeDFbUoia6wFnQbobifpNxFQXY2zrSd1nYmnazelH6pET5jLGHsEBqOFuIfnknyTu52Ya33x89dzJVTnKyMKev+5qPqNAvacGUD6H/x1JtzOmHmZJDbupGhbXdux8ZRT8KaTiAkLyb7PiqmnCcvgTJ6e2Afn60XsbwgyPqHdUDS+dehCFd//d8RVe43uaHsvWF5c+kSyZyVjN0dguWMMc6fYwbGT8toLzw1cfMx/gLp8zIHrKw9ebw1rfmdnTYtfvHi9WsytrsKKptW9nhCgkWZ3CsKZlPcSyqo17Fg1k7VfeKF7bwaOmc3syVG+itvowe0Bpbe+1d1xHTodqN94UKHlhUZjwHDRY8YMDEqM5YVF7/P+8dGM7lXLrl016O6cQEdzA9weTuKl5rlh2J9r+ZPX68Xo9gXO2NeM0VNFzTG44UAV2qhIPAcOUD/BS3WNSvjQfi1j0PRI9pq2WmxBxPcsBSXgwMYm9WzKmsyztZFMmvoMs/vegPYa4M8rGPP8cdQW3z3RolNa7XtFhx43ngYA3z7l+AYm37Gp1Xq8eIn1/X7eZmnRasArvYouwN/lJLPVn3XhxE3II/tRf59ttYaD1RAxwdqiH7LSN4bI0CIOV9VB5MX0UNaiN1tp/axBa+yDuXlF/j969HhRVUDTh/hf96DklemkuZMZHmfHfrsFw83Wdgfc60JclKzKY17VUVxfnuY0oLq9YPWiQsAna9bEBEyv72FPTSbWvkB9BX/8TM+AZ+POnz6YWI21Yvv5F1Q66uA2E9UfOzh9awbJVicF7zlwPRyBoeYgVaqVybcHKpGLwzV1cHMK1ubHotIH2y1QcqSaOuwX1Wdce5MN6/XN/tAt7FzsO1kf6mqqcWss2Pq2TPTNv4qAD5zUNoCvxmkx/6rt8QJ1tbWooRb6NO9ofVMcA27O43B7G6XpheWXzdatKOivA1eD/0QRqsNTXcSy5/ZQXefB7T0NjSruRgX1dHsLbkcHYnVx9T24OtENQBOOzdLR4ZlaeoSHtzi2dN0UUN1tv9WsM/F0VnO8sQcJluZrMmC51YQ22EbheVwcPuQESzL25sm8zo79VsipqsLTtHdax+bIYWo8euKiW9bHiNut9Fi5h4NHIc4MnYpPh1yt1+iOt/eCZbJaiWjWoDf8sg+mxiKcx4Cfd26ZP3ZdnhwYuuvQaqOYVvAEd7buQhOioO9Mg7xHFOPmRjEOUI9X8U7hs7ywejZr+5XxRIwCGh16Hage38F47hzrweMB5VrdZRutrotNICpkAe/vrmd09C7er9ER9+CdHV+fXkeYRkfkrEKm2lr/qKBc7w/cLdGYlbdwHKqBgx5iJzyMd9FWDvwdao6HEfmrVsOTdHp0Gjj+jRvaajpdKL7BOr6L9z9RiX1yEVPvObcXXAcDPRT24nG3PHOoHhdu9OhCAXz7VHvLJF7KGcINrWcP0RP4YYhvn+u7y2jk9mmJnllAVtOAZNVBwX/nUvWbLPKmN2v4elXcqpfq1SnYVrdcgtfrJfx/L/7y99NAjxraPZPpiJu3kfw+BRSVFrNwYx4erYnokZPJnp4c+M08qoNlj6ZRQBLZWZnYI7rxU06ze+Fwck61s6rIRAYYi9i5q5r0vhbq/vRHHPoBLLsjQJmDiZXGgj26B0VVVXgAxyd1WO+xYog8TMSSSqrVZHp97OALSyL2gPX7NJ5TwM/OvxGihCpQp+K52Pech9D2YMxO1gePW4XrlLNd1Zp0u1YHjW7cZ7uaKL7taIOnwbeclk2Wbuj1bY/lalpue3XKtTWLtPkOLI/MJXeelbBQwFlAalrpBZbbjo7E6qLqe3B1wvdcQ0F7XSe2RdOxK1qn4vmNytdoz3vyqLvuYq7evth4q3JJtOW2/KnRC5En+Zo2YnPKzdeNLorTbJS0mNGLt9HAyf9t9qcOxqfDrspr9GVq76FFq2v1uvdrFfQaFbcqd/06q+uTg+hownmd6n+FMe4yvC5G6RXJiEkj2PH2C9R/4cV369iI2XwD3t37OeAZce4tNYf2s/+ElsjIzncfch18h72fqxhtI4i6McAE3WMZdqfC7A92scvzPrXd45jakYO1yS+iieq5nr21/8Y4Mqrt5EIxE2lW2bBvE95/RTPeFoWn37OUFUF1yC0Mbb2pob0w9vRy4J/HUQm/YNISOL5BUlVUFIzdml+oXRz4sAov57/ytv7AAWobI/1vh1L59MCneHT9sPYGUIiKiUZZUkO9MpWoYL+hccLXjap3uLxi90LCjBYsZ+/kWsh6bDdJT+eydHA02U1Jg1ZBr2ix3J/Pc/e1PtMrKD/r4BuKGi/RyV1jwD46E/voTPDUUfluIcuW5DBdE8H2WQH6Uh/aSdkRPcn52SSffUOTiwuOmNNYSUowUfSnnVQ/GobjAwc9fpNGdKAEJMhYWe2RKE/vw+GCfX+LwHa7DoxWLNeWsu+Qi3CHk4jo7Dbu/v8U3XXAKd+NkHNHpwe1QQW94u9WcZl0sj7o9AqcUvGcoUXi8fU3HtAY0Idy4X0Bvu5rp9RWfdC/xu0GOv35GBe739uD+/Yssh9JOBf3Y+C9mETrUh477dZ3U9fWifN0Mp7XKiiN/qclzXj+19OBF4W01g3ddaCNTqNgTsJ5T/uU63pggsB3+K/T001rIvHZlUy8udVvIQrduuhttVfPNfrytfe8Da0qwTcqbhTC27lxcMmuLT9QXZ4cEDGaGffvYNrCycz5x3iG/sqA0uCi/h/VVOyD+16aQWxHTlRfvcNTWRUYfhtHZO9e6DjOgTc3UKWJZJqtqTIqxD7wO/q9s4JFc4y4R0dj/KaGrSvXU9/rPmYkdv4oril9hqe2qAxcOIioGwNVfh13Jsaim/0qL/zTQ1j8DFp/Z0z1uPB4VFRU3N8Apz3UH6/3dXUKNfjGWShRjH9sEFkDeo8AACAASURBVLuyZzPZO4HfDTBjCPHg+ryWqn1VGCYsZ1I/AAOR/cJ59pUdnL77GfopCt6YW1iwcBdqnxn0a11EjZnofjew6a9VHG2MPX/AdVDxDdJNsUTfuIatm9+gKnIckde6OPD6U6xp/baXJp+/zpOLdEy9Oxzv4a28tOUkvceMPtslyzBsKuO3T+aZqTOpHzeM6Bt1qF/Vc7RmPxVfxbF47pDzTvZqTRU1hDM+8vv7nvGuYrgnk7RtY1m6aBlJxZm+LgqKGdutsOdfHnqE21s8lXMdw1d3mzR/qwgKihbcLe48eTh8pI3BhR3hcVL5kQvDb+xEKIDOhP3+bNIcpaQfqcZFgO5Fp9yc1oSh/1mz8h4rpfTPXvhV+6uzJCZieq2SPR+Fsc/Rg7iHA48FCDZWijUea0MBB7dBzfVWUo2Apg+2Picpqizl5F+6YR3fVtcaA33MJth6EEfDGBKakhT1MAerocdvLJf3NZQdqQ/NmPpa0Dc6OHgIEm47N0+VwwnhA3xdar4MOGvL5fzcCA21OP8JcU0PSev3s6/WS+c3/DQeFbhez7nmuoeK0vIgB0C2oZOxOk8Q9T2YOnHlPmzYyXiaIgjXlHC42gW3NR3BdTj+8sVFlEVHn74RUHYS1RiBtVnIPfV1YGjnGndzH8yhRdR91Y2I8GZnlAYXdQ06DKH4xmtdblfxNfqSt/cA8PLFXxzUca47nudvh6kjguSfw2W9tvyAdfmAZNAR9d+vsvrRSDzvr2BOxjSmLVjB+j/VY4yN69DbgAC4tjeRv1DZX7KCOTMmM3nGYnZ4opi2dBHjmt/Jv2USi5fOIE59nxeypjFt4SaO3jyeZ1Y8Tuxl7mGi/Hoocbp/U//vMGIT+53XcPh05e9IHJZE0rBknt3rxetYwcRhSSQNS2LYcx+evWFmSFxE4dIJhH++lcVzpjFtxiJWlOzHfeMgom46t7zevzJzAwqRsb4nDLroaMwaCOvbL0DurxCVGIfu6H72HgtQ+GDjGwyNmUl5C0g4s5XHBtuxD5vMmtpYZj8eG6A/txbzmJmMUHfwbMY0Zm+owTjmGZY/FnkufoqZSStXsyAe9hcuYNq0acx5fj3l/9ATfWe/AMtUOfDhflTzIAZ24Ptdwk8TwZhZqUTUF5HzStPbOEwk/T6JbuV5ZK+roLrehavWQdlzaSSNyaTE/1Io3XUKfFlNZWU1znoPaCLo00ehbk8pFSeARg/OrbmU/lMf+I0yHdFYQ8miNGYtKqHySB2uE3VUVxSy+YCK6dY2xh380opF42TnG+U4XS6clcXMffogpgEm+J/DOOo9bd+4NieS+PPD7FxeguM/E0jq31ajLrhY0T2SGIuTsjf2c/pXNv8beXREWi043y6himji23mRjOX+idjP7GTpH0pwHHPhOuagZFEeJW4rY35nDy6G4Hvsr3g5/ufdOI44cQV14y3IbWxFsaeQYqmj5Pkcyg7V4TrhpHLjQpZ9oDDg98nnjTlpi+6OuxgQ6qB4aSGVx1y4aspZtrAUz0XdCzBhNffA+/F2ij+pw3WimvLlmaxrjCZa48ZZU+1r7F7IefHsXKzOE0R9v2R14pLoZDyNcdxlV9j/6kIKP3JSV+ugfEkOpSf1F9UItzwwhgHflJCzoJjKWheueieVm+aSeu9YFn7QTsqkSyB1ZASOlZkse6+auhMu6g6Vsyw9meHphc0G0V+IglYB79/2UXHISV1H3+BzNV+jL3V7D+BbUE6UkvdyBc4TLuqqSsh9pRLl9iQSbiLIa8tFxvwH6Mo8OYiYRHHlpHYm0BF5/xMsv7+dSTSxzC8//+WzsXP30OKvipkRcxYzIohiGaLGMT9qHPMvMJ0uaTGVSUEs0F+eg3MvMNG1scwvP9jmeqNmlXNwVnDrM8SMY37MuHanUWLnU/7nZmvrMZrVH41ue/pfj+a+3hPY8W4Nkx5p1e8oyPgax75K5dhWf7xxHK9Wtiyr0nsIT7w8hCda/HU0e+4JsNDQfozOGULbJQeuNTNk+mKGTL9AAQE8H7Jjt5fo9BHnfRhGBEcxTyT7/lJSX82hMHEjU8yg+002r+StIm9dDqnL61A1BkzWRDJWZpDsz0ZNg1NIfHshBelp7BmTy+aZdoZNn8vB+cvIvNsG10dgvSeDjDF1pL6iXtzHaboPY+4yN7nLC8kal4OrAXS9+mAfmsfLj7Rxx71nEpnzHMx7KZtR26CHJZGJT+QwkiLqHs0n+yGFvC3ZxAXqLqSxMCwhglUvVRP+8MJ2PwwXTKzAhDU6grqXnMQ9dO4phCmyD2HPF3Lyt2kt7nCex5hM3mpY+mIhGSNzcKPHZB1A1qosxnSk4muiSf59NHteySHtswFkvrKUHkHMFtw2tl6XhSnL8lFezCd/8nCyGxT04VaSnlpH+j0daNkbhjE3z8nC5wpIu3cp+vABpEzPJnljCrkX0e/bOuVp0o/nkD95OEv1EdjvSWPhHCs1Zxxkr0wjPWQdeW29hvrsNp4fz+TOxKq1YOr7paoTl0gw8Tz/C+wmxjyVx8mncylIH8XS60zYh2aQPW4zqStbdyXrgJ7J5K79KcuWFDAvJZc6VcF0s5WEeetIT2jvzqGCdXo++fpc8penUnDMA9eHY70jlfyZE31JfVAJgo67fpfCluwiMidXkvRUEQvbXW/rYlzl1+hg2ntBU1HPaIkYk8nwUwVMf6CSulN6TPZU8uaN8T9J0AVxbbnImP8A/eTUqVPfXcwCVBnw8YPk2TmH+56HOZsXdf2Xg5u+vjhlC69OuHRjA+o3TmDM9miWvzq15etc26F05L2bQogup37lwnutAV3TodtYzbKRKZTdUcB7gcabCHGVu+raXZfpGt2cXHsvvdDQtl9VdRV0KxJXI13iDJ6ZaEE9fpWdhC4ZF8e1ccyeNynoxEAI8T3jKWfuvfGMylrl6y5Q66BsSS5F9REMS5LEQAghApEnB0J0gNy9EOL7xVNVTO7yIvY4anE16jBZ7AybnEn6by7rUGwhLpsfY7tLrr2XXntPDi46Ofh//+//8e233154QiG+56655hr+4z/+o6uLIYQQ4kfsx9bukmvv5XFZuxWFhIRwzTXSO0n8sF1zzTWEhHT9m3+FEEL8uP2Y2l1y7e0aFx3xn/zkJ5LRCSGEEEJcAdLuEpfbjyP1FEIIIYQQQlyQJAdCCCGEEEIIQJIDIcTFOlbIWFsMWX/q6oJcHM+2DGy2NErk65iBfZLHYNsoltV0dUEun6uxDrjeTMPWP4PyDrygpny2DdukYlyXsiCNDvLutjFqefWlXKoQ4iokyYEQ4kfJszWNmMzyi/v6smjfsULG3p1DZVBfhr3yvg91QHf7WLKfTMHcgRGC5hHZZP8+miv9/crvQzyFEBcmQ8CFEFenRkBz+RZ/+LNqacRcZupfDuL8Nqyri9Gmq74ONIISHkdyeMdmM9mT6YqvOFz18WzuMp9fhPg+kycHQoj2qU7Knktj1F0x2PrZsMUPJ3V+MQ5Py8mUhmpK5o9lcIwNW8xgxs4uprrh3O+eQyXkpI0iPsZGX1sM8femkbfNea4xcWQVo/oPZ1l5GXOTY7Ddm4fDf8e57k/LyEgZTEz/NtZfX8GyGWMZfKeNvjYbMXePJWtNJa6Ad6xdFE+y8eAmF94dGdzWbzA5lc1+/mcZeZOGE2OzYYsfRcaaSpqvSj1SRt7UUf7tjGdUWh5lR9pvEnkqC8lKHU58f9+2D34gg2Xldee23VVJ4ZOpDI/3xTjmrlFkLKmgrln5K2bHYMsowbE1h9S7Y7DZYhg8KY+KEx4c67MYe1cMtv7xDM9Y1TI2HgfFT6cyPN6Grf+5dbersY7yxWm+eWIGM2rGKipOnj9NxctZjE2Kx2bri+3OwYzNXEWlvy+L8+VR3JZZjqe+mAf79WXUy05fcS5UDwJSce7II+OBwcT07+vbztS5FB9qtqFB1lN/wK94HWixDTabL14zllF+7NwU5bNt2GaUULkujcH9baRt85zfraixjool5/bN2NnFOCpXMco2nGVVzZbT1K2otpCx/YezrKKSwtm+YyTQ8RlMHWxb2/G8UKw8W9Owxc+l/FAJOanDiY8JFHMP1W/mkHpvPDG2vv7l5FDSPOZny2/DZosh/t5UcjY5zi2jnfOLEKIlSQ6EEO2qXjeL7PcgcW4B23duZ3PuREx/ySVjUXmLBpOjMBdHn3SWFG2mYFY06ru55Gz0NQhpqCD38Xns1CSSU7id994uICcJSudPZ5W/QYOioDS62fPqH9FPWErRi6lYNOCpmMtDjxfhvj2Tgrd3sv1F3/rTHi/G18Sto3h+JkVf2slcvZ33SjeTn26lvjCD7C2Bel0bGLNsM5nRWrSDc9m9bxuZ/f0/NR6lePlu9L/PZeMbBeQNVahcPo/8T/y/nygja1I25SSSvWE724tySdaVkz1lLmVtdfD2lLMwaym1vdNY+sZ2dr9dQOZvVUqemE7hEQAXZQszyPs4jJTcjWx/ZzMFWXZcb6Yzqyl+ANeA97NCCv6ZSF7ZPva9nYn5SCHZk9MoOJXM0nf2se+NNIx/zifndf98jU4K09PI3R9GSu5mdr69kexElZLMR8j5qO3GrHPjLDJfq8c6vYDtb7/CwsFuNq4s5+tW06S/Uotl8lI2v/0em5enY6nNJ2NhGS4g4sECNj4YjrbnSPI//ISND0YEVw8CqVrF9CdLcNkzKXjjPbYX55Ji2E/u47lU+Bu4wdbTLqkDgOu9uTz4ZDlqYjYFpTvZvjoT+5dFZD6aQ6V/G5RrFHAWU1AdQ/YrRWT/9vyOQc5XZ5HetG9KVpJu2UfeolJOAgT6iGwI0HiSsuVFqCOWsu3Dg+x5ZSTaD5odn8HWwTa1Ec9gYqVRwL2fpStriXlqM7v37WPzNCOOledirlYuZfqiCsJSctlYupvthbkkhVaQ89gyKlVArWbVo2nkH4lg4oub2fnuRnJTwqh8No30Tf5EuI3zixDifNKtSAjRDpX6WieEJ5McZ8EA0NNE9rI+VDeEoT07nQduzyB7tNXXPgmfQvK2UnKra1CJQFGsZORvY0pYBCZ/e8f0YCoDXkuj8mMnREb4l+PCc2sqmfdY/f+uY8u6Ur6wZvHKzARfVwljMtlP1rL/oSKKq8aQeWs9zmMqpvuGkdDX15nCZMxk6c2JnNS30es6tBuKBtAo6EIVFMALwGksv5/LlN/45ot4LIXtb2ZzuLoObjNR/UYBe84MIOcPU4jrDmBizLxMDiZlUrStjmEPBujMUe+k1t0D6+BhWP3dQxIeyaP3HXUo/wlgYEDWRraFmIjo6W/dGdNJ2V5EdqUDz/gIX9/xEKDRyqjJdgwa4Ka7uMuaQ3m1hZQH/X8LTyTekktu9VFUIqCymIKPu5Gcv5Axdt+y4x7OIf3jRHI2lpJ2R7Jvn7bgpLz0MMpvc8i6z+pb9+BMMmorGfXyualM9zzH5tifYgo3+Pb5TSYm3ruZkpW7qW4cRpyiQ9EqEKKg1Sm+eDcGWw9auTmFl98YSbdwEzqNP+4Th1H0+zL21UDcbcHW0y6qA9RR+tpO3PZsch6O85XPmED6HCd7Hiig6E8Z2IfqIAS89QYSX5lInH/HtMg3Gp2Uv3sY5bd5Z/eNaXwuac57SDva3ggDD7q4NKbYfQtV+iZz1635547PYOtgewLEM+hYNYJ9bDoJN/nWHTFsONbn9pyNuecfTr5QIrlruJ2IUAADE3NewX4ETCGgflRE0RETya9kknybbxmG0XPJ+HMimW9soXpUOhZ/NFueX4QQgUhyIIRoh4I1bgD67KWkZZ4kOcFOtN1OhNFCy8urFovV0uzGZTf0eqDhNF5A0ehQPH+k4KUcKv92HE/DaU6j4v7SS8Qpb4vlmH9lOfdPtYaD1RAxwdqiD7XSN4bI0CIOV9VBZB/if92Dklemk+ZOZnicHfvtFgw3WwM0fC9AE06fW5s1gxQ9egVcDSrg4vAhJ1iSsXdvNo/Ojv1WyKmqwoPp/EZUbzsDwvMpmJsK9ycRf0c80X0NRESe205diIuSVXnMqzqK68vTnAZUtxesXlQ4u0yt0USvs1+816GEgvamCCLOBl5Bfx2gfo0X+OKQA7c2khhr81vKBqy394HXHDgbk31JRXPqUZy1YEo0t9gWy60WdJpzb6pRroWj7y0lr8LBUZeb02eABjfeMwNQzxC4P3fQ9aCVUB2e6iKWPbeH6joPbu9paFRxNyqop33bHVw9DcLlqANqDYeP+OpxizoZ3geLXsXxNycM9ZVUa+xDn+vbKNsZ376JuLv5vlGIjotEt7W2nY3SEm5pPnDBX0+ajk+Cr4PBCy5WAGh6Yfllszqq+MrnizkYbovHylIWTpmL85547HY71ptMWCJ9kztrqnFrLNj6Nq/nOsy/ioAPnNQ24E8OWp1fhBABSXIghGiX4Z5cNl5fTOHrpeQ/uYocr47wuBQyZqWTcFPTVAoogfo0+NUWkjZlKe64LLKfjyPC8FNodLB0TCYtX4yooIQ2W45Xxa16qV6dgm11y0V6vV7C/9cDmIibt5H8PgUUlRazcGMeHq2J6JGTyZ6e7L/TGCwFbeuz4tl/n8ZzCrxVuSTacltO0+iFyJN8TYBGlGIl/ZUijIUFlL6dR8mSedDTStJDmWSNtaJTHSx7NI0CksjOysQe0Y2fcprdC4eTc6rVsjRKwJ4jbfG4VbzflJF5585Wv3jxagy4GgIU2Ps17kbQhbZak1ZPt3NLpmLRQ2SUG5j45EIybzfRTQMnt2WSsrKdAgVdD1pybc0ibb4DyyNzyZ1nJSwUcBaQmlZ6dprg6mkwLkMd8H6NWwWdvvXe06G/FtwNzbp4Xaegbau7S9O+0f20ZYl1erq120XG9wSnTR2pg0ELLlbdzpavnUXdPJH8DSYKCzez86VMli0AQ99EUqZnMeUOAx63Ctcp6Foto9u1Omh04z47tqLV+UUIEZAkB0KIC1AwxU0kO24i2aoH5/5SVj2fS+YTCpuLptBGR5AWnO/v5DADyJk3BntTy6kB1IZ2ZwOtgl7RYrk/n+fua/0cQEH5mf9NOBoD9tGZ2EdngqeOyncLWbYkh+maCLbPulRdCLqhuw600WkUzEk4rwGoXNej7TfEdLeQPD2X5Omg1jsof3Mpuc9loPYsJfdnOyk7oic5P5tke1PDxcWleO2LTq9Hq0sge0M61taNx5BuZ7v2tKDthl4DtQ0tC6B+c/LcmAO1ku3vfUH42CVkDj13J/brRg+gb7M8nasHLna/twf37VlkP5JwLsbHwNtiQOnF19ML62Qd0HZDr0Ctu/VO9eD+BvShbcesBY2v647rm9Mt/qx63C3Gg3TYoctRB4OLVcDx4gEoNycw5Q8JTEHFdaiCktV55M/IxvB2Pla9AqdUPK2eWH39jQc0BvShXJLjSYgfCxmQLIRoh4fqP5VTWe//p6IjIm4Mcx+yw9+cHA3ygus95YbQMAzN7uK7yrdT2dBOVxIAxYztVqj7l4ce4RFEnP2vB91CumHqroDHSeV7lTibyqIzYb8/m7TfKNQdqb6EH4LS0advBNSdRDU2L0sEPRSFbobAHS/UegflFdVnG0GK0cqwxzJIuslN7ZEv4JSb05ow9D9rdkfzWCmlf/b6Xrd4EUx9LfRQ63E1tiyvSa/QzWAI/BQixIjp51BXXdOi4Vb9cTWepvJ4VdQzYPhZs21Wqyl714kXUJuX+8y5/+1cPTiNRwWu13PupageKkrLqWv270tRTy+sc3UAxYzNAs4qR8v6eOQg1W4Fy61BvqtUMRJhhLq/Hm3W1lVxfFR1bt90xmWpg52MVQCuQxWUVzVFTsHQN4EpM8fQRz1K9T989VzfWM3BQ83n8lDlcEJ4H8xX+oMPQnzPSXIghGjH1zheyybjiTzKPnFSd6KOukPlFGxzwK/6YA7yCb3pVgt6VwUlW6pxuepwbMsj8z09drOWur8fps7TVuvNRNLvk+hWnkf2ugqq6124ah2UPZdG0phMSuqBxhpKFqUxa1EJlUfqcJ2oo7qikM0HVEy3tjXuQEGrgPdv+6g45KQuyC/iWh4Yw4BvSshZUExlrQtXvZPKTXNJvXcsCz9o4x7oP0vJS5/OwvUVVB/zz7OliD31PbDeaoJfWrFonOx8oxyny4Wzspi5Tx/ENMAE/3MYR72n0zc9FfsYxljrKHg6h7JPzsUm6/fDSV1eGXi5GgvD7o5A/SCf3K0OnMecOLbmsPQjLzqNfw6dmT7h4Hh3CxXHXLiOVFCYncvJW+3oGus5/JkLtRF01ynwZTWVldU46z2drAcmrOYeeD/eTvEndbhOVFO+PJN1jdFEa9w4a6rxqJ2pp1ewDmAiaWwiPSpXs3B9Jc4TLuoOlZP3hyKc4SmkxAV5IGksJP7WhPu9pSx7rxrXiTocm+aS/xetf6B2J12SOnh+PDsXq/Od3LWUzMezWVXuwFnvoq7WQdlrpRwONWOLAMWeQoqljpLncyg7VIfrhJPKjQtZ9oHCgN8nt/3U6FAhaalp7b8pS4gfIelWJIRoh4kxzy7FvTif/MeLqPvSC9eHY70jlfzpE4P+0JIuIYucCZnkLEkhcXEP+sSNJP2pTAwfuKl6LoeHnv4pGx9rY97fZPNK3iry1uWQurwOVWPAZE0kY2UGyUaAYcxd5iZ3eSFZ43JwNYCuVx/sQ/N4+ZG2Bh/quOt3KWzJLiJzciVJTxWRFcyG9Ewmd+1PWbakgHkpudSpCqabrSTMW0d6QuDbk8odmax8SiHvtRxSX6zDg84/zxLS4xQgicx5Dua9lM2obdDDksjEJ3IYSRF1j+aT/ZBC3pbsYEp3Pk0EE1/MR3lxKfmPDyf7S1B69cE+LI+XJ9vbHL8QMf45ck7mkP98KqNUPRF3ppAxcyRL00v93TMimDg/C+dT+aTfW4D+JiuJD2WT/VsX+uoMimakoSzfTPrgFBLfXkhBehp7xuSyeWYQ9SBv2HkJnXXK06QfzyF/8nCW6iOw35PGwjlWas44yF6ZRnrIOgo6XE+vXB0A0CUsZOUflpH3ShZjX3SjhpqwDkglf/oUrB3oBm95ZAnZX85j9fwUijQ9sA6eTNZjYUxPr/S9LagzegZRB99MusBCzo/nwoTOxeq8bZ68hDzyKHg+jfzjHgg1YLp1AFkrsxhmALAwZVk+yov55E8eTnaDgj7cStJT60i/p53XEnxdR/XH1YR1elyFED9MPzl16tR3XV0IIYQQQgSh0YPrSy0Gw7mMwrMtgwFPq2SX55PcvZ15hRDCLzS07bd1SLciIYQQ4nvCuS6VxKSx5Gx14DxWR/VHxSxcvQf9gOHES2IghLgE5MmBEEII8X3RWEf58jzyd1Ti/JcK15uwDkoh6/ExWGTgrRAiSO09OZDkQAghhBBCiB8R6VYkhBBCCCGEuCBJDoQQQgghhBCAJAdCCCGEEEIIP0kOhBBCCCGEEIAkB0IIIYQQQgg/SQ6EEEIIIYQQgCQHQgghhBBCCD9JDoQQQgghhBCAJAdCCCGEEEIIP0kOhBBCCCGEEIAkB0IIIYQQQgg/SQ6EEEIIIYQQgCQHQgghhBBCCD9JDoQQQgghhBCAJAdCCCGEEEIIv5Bjx451dRmEEEIIIYQQV4jZbG7zt5989913313BsgghhBBCCCGuUtKtSAghhBBCCAFIciCEEEIIIYTwk+RACCGEEEIIAUhyIIQQQgghhPCT5EAIIYQQQggBSHIghBBCCCGE8JPkQAghhBBCCAFIciCEEEIIIYTwk+RACCGEEEIIAUhyIIQQQgghhPCT5EAIIYQQQggBSHIghBBCCCGE8JPkQAghhBBCCAFIciCEEEIIIYTwC7nYBTQ2NtLQ0MCZM2cuRXmEEM2EhIQQGhqKRqPp6qIIIS6SXC87T86FQlw5F/3kQE50Qlw+Z86coaGhoauLIYS4BOR62XlyLhTiyrno5EBOdEJcXnKMCfHDIMfyxZH4CXFlyJgDIYQQQgghBHBFkgMXB7asZcPu+su/qg6o3zgB+x1z2NXYBSs/uou1696iynNlVucpnYndPoENn3dgpi/eYmbCSF44oAb+/Qpvg7gKnPyEDTmPMCrRjvVWCxarnbvGTmfx1kO4u7psQlwN6t7jiWQ7lpstDF9+qHPLkHPrZXHy9Qex3PoI77VxSRMXy80bD1qwTNuGCvC3FQy32Jm/t6vLFYTGT1j0WwvDX+zkMfsDdPmTg0YXVW+sYc2eo5d9Vd8X6t/LWbNqK59+1dUlaYvK3rVrOWAZz/goJfAUV/02iEtJPbyBB+8dxaI/uvn/2bv/uKiqhPHjn+eBF7doZ8wN3L4hT4lUg2PiTOGIS4A/MfNXRpgRmkQkgUmyKc2myGojZoOkoCuQTzm5BrmJ+BNTo42NihXTGkMDXQPa1mErZzbz8sjO949BGZAfo6Kinffrxeul98c555577rnn3HPuHf8pKSx7fQ1ZaUmE967BNC+SSH0JlmudyPY0VWIYO4Gco9co/hP5RA5Po/xaPIQQrrrqzdlsqfEn6X83sfpx/0sKQ9Stwg3h9nCSFv+eSfde64S4wM2XsXPTSRrle61T0mNc9teKhBvQt0Ws33WGkEUj8brWaRGuPdlM9jwD5bdEseZPGYR7t6yKeCSKqLdiiVyyEOPIcDJGtt+ZvGYsZsx1MOwaRS8f2k91U59rFLtwtVlPWeH2cMKD1fiKj+oIv2RKNRGR6mudChd5o50Qda0T0aNcuZGDwzlMeUCD5oFp5BxpxPbebDQajeMvIoMK5ydp8jF2ZqUw7eFQdDodoyLjyXi3ivZGVcsWh6J7PIeKAwWkJ0xh1DAdulFTiM892Gq7hgMFZMyZxvjhOnSho5gSryennalNVnMR6fHjCR2mI/SR2eSUNVza8crH2Pna7PPHEBoxhRkpOZSdPLeBjZ0pOjQaDUPn7aSx8RCZE5vzQ6MjJDx5uwAAIABJREFUfqNT2r4tI3/xbGY8MorQ5uOb8VIO+2rbGQ+Vj7FvjZ4Zj4xyxPvwNGYv62pI2kbFqhmEDp9B5icXbnjs/R0cdBvCqGDFBfu5fAyAfHwfOfNmOM7BsFFMScig6Ih8QXi6hHz2vZtO/COh6IaFMj4+g51tp0B1mb9OefeSU5wz9Zgq2jmnTQfJeUTHKEMZVdsymf34KEJ1OkInziDzw5Y8aagwoY9vLmfDRjH+8XjS363ilzQyLZeZKDyiJOIFfauOgYOE/5NZbHhvE+nnOwYy1VsNJEwKY3BAAAH3hxGZZKTkRMtepSmDCUgoxLzDQOxYxzSlwaNjMextPf5g/cJE2vQx6AYGEHD/GKL1Jszn5zA5xTPQj4CBOsZEp2L6onmD8jTCHkyj/LQZ41g/AqabHKMbTRbKc5OJHK0jICCAwcMjSV5TjuVcndQ8xBydW0npqgQmhA4mYOBgwqLTKK5xOvNNtZSuOheOn+M45+RQ3nwI1asmEDCnBGudiei7/Ziwqrr5oCoxLYhmjC7AEe6kBIwlzgXeivmdNKLH6hgc4EfAYB0TYtMoPNpZqesiLzpgLc8nOdqRv34BLWk5H1NXeQVgKScnacL5cxSbUULlumgC7k+ltMmRtuKkAAJiC1tPPytLQxfQelSndq+RhEfDHNPWdI7zXem0k2vlxpEXseN1DD6X5tzyViNb8tFiDM9MIGxwQHP+GijuNH9xnO8VyUQOH+zIi9AJxC4ppvo0gAXT9AAi19UiH81hwt1+jFl+MVMUroO61dX79DWpWy+l/HdTPdVUS+nyWMf1PDiMyBQTleU5TAgYg/FAx7FbvygkLXYCusGOa083NhbD5upOj9/VerOz68iyKZaAwcmUOH34ybxiAn53h5FW7hRIeRphAZHk13SUfhPJjzrybvDoaNI2mVunvc20onNpr9yURvTwwQQEDCZsuoHS76xUrksmMnSw47wl5LS65rusL2vyiRw4BmNpOfkpkYTd33IezE7H2Gld1960Iks5+fOa4w0YjG5sNGkbKlvqMBfjvV5duc7BvdPJ3bGNbdtXEdPfA8XYNLZt38a27dt435TIoPNPVWzsW/w8+ve+RfWkgexsI0khsGdZPCkbj7UbdOMPe1n6Shlek9LILXiPjUunE9i7Zb2tLIP4WZmUEULcomxyjYt45rcSBz850rrwNn5GvvEjfCamYlz6EuOUB8lflMm+S5jreXDN71hUbCXwaQO5ebkY50/nwdsaqP/h3BYKRizYzrbt2/izPgQPDxVxudua82Q7hsk+LYH9s4pjqBj3rB7j67lkL5rOkH/v5KXEFZQ5p63pGAXJT5FSeBy/yXqy/5iLMWUqqn99xKG2Fft5DVS8Fk/KezA1M5u5Q9t2AOqp+GsVDBpC0M1t972IYzhewO+eSaHgn37ELMgmNzOFcZ5lLE3UU9QmbY0H3+Gtr4cwN287200vEfT9Zpa+WoRzk77r/AV+riDz+RTyqryYqm+OU3mI7DmzyTnUfpXbWJFJenEjI5Oz2bhpI6ueexDvc2WzoYil8zI5pBiH/vVccl9fROIkFfJ3DTR2lL03IHNFJZZbtDwUrmx/Azdv1Pf5cq5rYNkxn+h5Jchj09nw/l/Y/aae4B9MJMelUX6u0nQD+WA+hrKB6As/5fP9f2GZpoZ8/SstN626QpKfMlB5ewxZG7ey6fUYvMsNxM4vdDT0DmTz3LxCLMF6Nmz5kN3vZRHjVY4h0UDpaWCInq1/jMJbUpNY+Dmf58XgjUxlZiyxK2tQP7uG3R/sZsOLWuryY4ld7XRzc4fqjQaKlEls+OBzvvpoDRGnCpn/ypbzjczqt14gYW0N6ufWsHXXh2xdm4K6JpuEhcVYAP/4DWyK90e6PYp1+79iU7w/NFWTnxCL4RNvYrK28pddm0gfK1OY/DRpZY7Y5XIjz6WX4h2Txab3P2X3n7KY5FlK2rNGyjtqOXSVF+2xlrAw2UiNXxJrtuzm010b0I+SKUx5jvyjgEt5ZaFwYQLGQ31JytvKX7asYHqvItJM1cjuEhczjmQtTeXJJBPWID0bdv2F3Tlx+B4yEJtk4nxTwIVyYy2Zz9PzSpAmLmPDlk2sSfSnZmUCCbnNnbPvikmOmU8JY0kv3M3uP2cRpShh/lPzKe5wbpxM+ZKnSXjbQvCLG9j9wW42/WEs7J5P9IISLHgTk/cp62b4It0Tx4b9X7H1+Yt5atrD69ZLuU9fzbr1Esp/d9VT1W+8QMJbdWhf3MDubW+Qov4YQ/oWTgIdXgCnSzEkprLLbSzL/rSbD3dtYNkk2KJ/juxOOhQulf8uriPvoGGo5QPsP/881ULlgVp8+56h8m/V56Oq/rySk3cGE3xXO+mwlmJITKP8liiytuxm6x+T8C83kl/VSdemOe15x8eStedzPt+lZ8CRfOY/FUveT1NZ88HnfL4lib6fZZO2oTkdLtSXuANNJylesR45cg2793/Fp6YopL0G0t4690Cmq7quDdlMTlws2Uf8icvZyl8+2ERWjDflS2JJ2FDrerzXM/tl+v777zv/s3xsf3XM3faBLxS3v/7g6/YJd99tj3jtb07LT9g3zBxovzPkZXuJpfX2xS8MtN/pN8w+b8c/Oo3v7gmv2v9mabuu5d9frJpgv9tvmH1OcUs4/yiZZx/mN8w+r6SLY7rg76h9zdS77XdHr7MfdWH7fxTMst999wT76wcvIo4vX7dPuHugfc7mlvSeKJhlH+g3zD5r04lO9z2xfqYjvv1H7cXzI+wDtZH2V0s72OcfxfY5gXfawxd+cBnHcMK+6Tmt/U7tLPuGo07L64vt84Lvtoenf+x0nu+236mdYy+udzo3KybY71bNsm86v8y1/D2xfqZ9oF+4/eWSf7SKc07wnfaBz22y/6NVWfjAvjjsTvud2pn2Dcc6CLNknl179zD7y3svtjx0/9+1tGuuyt5v1Cv2/Wdd2fobe95jKrtqZoH9pPPiI9n28apA+6ziU3a73W7/4KVAez/tLPuWU07bfLzQPkQ12v7aIcd/v3x1tF0VPN/+wZmWTU7tec0+Z26e/eOf7Hb7Tyft3xz5xn7KOV2HXrOPVoXaX6lo/v9HC+1DVOPt2UfOBbDFPkurso/P/LJVqr9e/ahdNWS+/YOf7Hb72f3210b1s6ti1rc6hi8zx9tVQxbaP26O78z339i/rj5pd0qe/Zs3nrCrAufYPzjrtM+DTvt8tNA+xD/UvvAj571O2gtmquyqOEeenXzbEcaun5w2+ekb+5eVbY7VmSt50ZY52z5eFWpf+LHzwlP2ryu/tH9zysW8Ollgf0Ktsj/xpnNOfWNfH6Oy9ws+d9xn7FsSHWXC+XS3Pjff2Nc/obKrnlhv/8ZpkzMVr9hDVaPtr1Q6/t91ufnGnveEyh6YuMUprjP2/Wvn2OdkfmA/aW8+J9pZ9i3Ol9WpXfY5Q1T2R9c6x+7k+y32WYEq+6Orv261+OTbT9hVqifs62sd/9+/ONSuinjN/mUH58mVa70n1q0XdZ++wnVru1wo/yc3zrSr1LPsu840l5PuqKfOfm3PnqiyBz6/q1V5++ClUHs///H218ztJ9d+9pT9ZPXXjuvs/LKP7fOHqOyPrv26g51cK/9dXkdnv7S/FuFUlk9tsc/SPmHPXj3THng+Pxx1UuiiVpVDS3jb59gDVW2O79Qu+xxtP7sqcYujTjySbR+vGmJf+JFT2s/VG44d7Ftmqez9Hlxo//h8dXjSvj5GZVcl7rKfsbtWX9r/nmd/VNWvTT11LpzmtHRV153db38lvKWuO/PBfPsQ1Wj7KxVnWm2/6/lAu+rh5uvblXivY9f8U6Zy1Vccb/Ih6AE/p6UKgoaq8PjnQaq+bWen20IY2cGLsvzzIJ8dh8AxD+HXds5n2/973MuQwJZwpNt9uM3NgvXHix3YVKDq70Pj/vVk5hZRdrge22XNO2ng4MYMZs+YwqjhOnTDdOgeyeZQo0zDqZbnKlUVn2G7NYhxv2379L8dTTY+yown5Z1jqGamETeog31O1VN/2gMv78t426Cpis8q/oVi6ChGOAdzcxCBaqg/fLDVkysPPxX9nEYplLd5QVMDlp/OLXEtf6vMR7ApAhkyyKls3BzEg4MU2MxfUdXOS6Ee2lGE3NrBcdypIkCqZ8eaDArer+DYyV/SZKIWEhK4+nlx+TBfHgV/jZZWM5D6q1ErZWqqWp6oSH0HMsB5MOJXSnohI8sAFsxf1YJKi9rpdCpHppBljCPYE/BUYjUXsnDmBMYMD3NcJ3Emas+eQT7TQfqOfslhqxLt0NZPdf2DtPSxVrL//BC6RJ/+/q2OQdlLAvnU+WFlyRNqdhhJeHQMYaGO6zRyZSXyWRm5g/yq/aISq6RhmNa5/vJGG6SGQ5VUN4F30HC0lLDwqVRy3imh8oQVPH1Ra3xRdjSP/VLyon8w4f1PUjg/mrQ1hZR+YUFGib9Gja/SxbyqNlPX1Ae12jmnfFEP8L2oUQPkw+w3g/9QLc6vBEr3DUPjWYv5QMs0gk7LjXyYL83gqx5AyyYS2vgssl4IxxsL5i+qQT2MYKfRZpTBDBsE5gMH2v/yVs2XHJb7oB7c+iVj70FafDFjvloPCq9R3Xop9+mrWrdebPnvrnrqbA1f14B/m/IWHKahg3FWBzclkrUSkz6aCaPDCBumQ/dgAlu+l5F/6jwvuir/XV5HbmqGBffBXNk8RebQfg57awkeOQx/88dUngZOV/LxQQnNUG27aaitqUGW+jOwv9NC5QAG9u/8qpf6+tLX8/wOSJ4g3eWP//ndJHrdAsinkHGtvjy3X/8BztdmczinzzhGOLuq69oe31dmrG4DuP8+53iVDAj0h79XU3P++uki3uvYNX8hufFnG7KbAmWbtqpCoYAmG9Z2hgQ9eivosDlsa8DWBHfc5krjVkLy7HorV8IJnP0axlvyeWd3Nim5/6LR7TZUI54hVT+VQBfa7s6qcmcT/4ZMyLPPsHTovdx2M/DjPjJm5cFZGVAAMg0/2uBWL7xcOYtNx6k4FsJDQ63sXJ/JztFGHmrvPclzjZr/vowXS8/asNjAtuslQt9vm45GuNeGFVpednbrYPT1P+f+4Vr+yjYrKBQoWuWHhELhAadt7QxXe6C41avjstRnMobXZXLeLMK0eDMZtkYUvkFMTk5j7gifjva64Xjf3gcstdT9BNpO73g4Gs8yKJVtz6gSpSecOu1UZXZabs9g/Tdw200d3mQtm5KJfakS9fN/YMViLX08geo8omO3dBzsv62carJgig2gsHXCkc96Y/mX0yK3zq4BK6XpT5JQ4k3cogz0Qb70coOTm5OJXNnJXqdk5NPFJN9f0maNjOzm7Wi03RPHukJf8vML2LUiGaMevO+LYPqLvycx5IKXPi49LyQtKaZN+ObnseU9A4XLU+F2LZOe1aOfoUXpSl41yZxCQmqTVcpeF1l/yDJWWca8OpKA1W1Xyfj/y6nJ3lm5OVf+PDuK31Gu5AMGQgMMrVedlUFzklNwYZn7t5VTSCh/1Wa5500okZvL9VV4Gf8a1a0Xf5++unXrRZf/7qqn5FNYm0CpvKnVYknZi16d7VeTT+xMI9YwPemvh+PvfRM0VWKckkyXb6p0mh7XriPtUA3Swkoq5Si8Kyo5MygFdX8lWs9C9h+GCPZzoCmYxCHtl2nrTzJIN6FslZabLrw+2nK7yKmGrtSXAEjg3knIXdV17cTLLW2PD3p5KqHJyqnz5b2LeK9j17xz4HGzAqmpHmubef42mw3cPFC223jv5GQovFC4ge1fDcBVbMBJfoxIMDAiAbDVU7Eth6VZGaT/TyDvJahcD6epir27j6EYa8QQG9JypDX7sOF85BJetyrgxwYaznLhqEhbbirilr9G4h1/RZqewtLFBQzKmopP2/0UShRu8O3PrW4xF8ddgbfCA5+wpaycdtcFqyXJ++LPjAv5KymUYLNha5UfsqMseXrg0V64XeSbQjOVVM1UQKbh8F9Zn2XAtDiTAK2Rhzp6KnaD8Q/S4p27i6LdFiZGttc4raVkTQnShBjCvXuhlKDG2va5iRXr6ebK1SXNN5qfHE/qL4zVwgc7SrEO0ZM+O6LlKdkJOnxqDzieskm+jDW+QVzbT+y5S/Rqv+19Ibmcoh0n8Z+xGv2Elifrp5qstNO0PE/ZS4mkjCC9MAVt27Ln3uv8UyzpnggSX40gERnLF6UUrjaQnTQf713riLq9baiXmBcAvdVEvZhF1Isg11VSstHIK0sSOHP7+2Td5kJeHZSQzp4b7Wlh/Ze16ydnZ522kCSUkoT68XWseKztSZCQfu3iF5+kjsrfOb1Q/gqk4CQ2pEVccKakW/rQ7scMm5/OWv/dZvnpM1hR4t9hZ6SbXaO69ZLu01etbr2E8t9hObnIesq9F5IbWE63Hp6Qrac41clu1bt3YSacZYtjCD4X1Wk4c7kvsrp4HUlDhqGV89l/tJY+f6tF/YgWyU3i/kGnyKuspppKTqontR5dcw7pFgnkM1hb3WtPYT0FdMsDVweX6ssf2tuzHZ3VdaPaxivBT22PD06dtoKbN7084bofGujClZ9W5ObhaNHKje3mpaQKQOVWT8XfnF9qaqDikyoafxOI6o6LjO83gQzpBwd37+RYd35bvLaCouIidh5w4WtGCh+CoqYzrp8HDfUXbi95gEQjcrtvXsnIjXBTb0WrLlD9J59xrM32qqAhKH78iB1/deENajcPlAoJbh3BXP1UvD7LQf92O1+G8LwDn980Un/i207LfqfH4KZiSJACy5Fj8D9++PVr/edzx0UOpbTVQf6q1PeisFXwmfPLxz9X8NGhRhTqwagu69OCEl4DRpD42BA8TjfQ0F6FdHwnmYvTSd9w8IaqN6QHY5g+QKZ05UIKT7RdK2POTWV+poldR2SQBnC/GqoPVLb+3YMj+zFbJQYMcvXb796oA3zhyP5WX66QywxER6VSbDmDVQZ696Kl2WildEtJy8urzs41Eu4ZyADPk9T+0Av//v4tf/+vF5JnH7xdvbHJjqlD3r92akTIZrZsd3xtRHaue5waKL73qekj12E5698qfl+lRC9vbyTA8kUpJQfO5Z6E930RJKbGoJZrMLf7czEXmRfnkltXSUlpyw/YSX21TJybwqS7rNQcPelaXvn64+9+ErPZ+WxXU3nA+c1YR4PF8fS9Re3R6pYpPNIA7h8Etf+w0sc5rv596OXeC9/eLja+pQEMbKf8mdfEEjnHRDVK1Pf5Q+1J5L6tz0EfSaKXdweNwv4DGSCdxPx56/lDtZWV1Lqp0V7E858uD6EH1q3dfp9uxYW6tVOXUP67q56S+uLfF2qrapzqfJnKsgOOhmUH5H9bwbMP3re0LLOUFFHexZSirtPj4nXUO5hh99RSWVbCx1X+DNMoAQmt1p/qilJKK6rxDwluv6MM+N7VF0mu4UvnLxlZKvm4pnvvfK7Ul67osq5rJ15l02H2f+G81MqBympHXeDqM67r2FV458AHlb8C2yebMX1YxbHjx6ivbWi5kHwn8/hob6ryf0/6hn1UVJRR9Joe44cQNHUyQRfboHNTMTXpEXyq8ng+OZOifRVUVJSx860M4pftu+RGm+3gOyxNS2fptqp21h6jYF486bkF7PywgoMHyihanck71RJBQ9u5a/gF0I9j7PhTEQdrjnHseD0N59r3biqGBHljeb+AohobIFP/YQ7pf6pCapMXihFxJAY1snNxPOlv7aSsooKKfUXkvKTH1MHnxwAUQ18gbZoPVWvTyW/7FR83FUMG3YZ85CDHO+tcdXYMKBjx9DMMqc/j+aRMCt53nIN92wrIWTwbfQdft+iYa/mrGPk4k++yULBYT/6uCirKdpKTmkHRDyqmRv324gf9yzKJT8nEVLyPigMHqdhnIv2NveA7hKD/aWf7fx5kx5Yidnxy/Mb6mpGbmrjlesLPlpA6ZQLJK0wU7y2lZLMJQ8IEopeb8X8uA/1IJeDLpOkR9CnPYeG6cqq/s1D7RQmGRSaq+8cwPdz1s6COiiH4bAkGfT6lX5gxl5qYv8SEuZcWjbcv2oA+yBVFmP5Wi+U7MyUrkslrCibY3Ur1YbOjwXCLRK+ztewvq6S6xoKsjOCZx/ypXJmMcYeZ2ub0GWeNZ8ysfMyuPlBQDmBgf6jcXkjpCQuWo6XkzzNgGRSMsqmOLw9akJtAeYsEP5j5uNxMdZ0VKTiGGG0teQvSKP5bLZbvajGX5pMcNYbozHJk4OQeI8mJ88kpqaS6zkJtTSXFb27B7DmA+9tts7iYF239fQuGhOdYuK4U8wkLlrpqyt9dT2ldH7T3+YIredU3nLFBEuVvLCS/rJramkpKlhvY8n3ru2d/tRoO76Lwb47bs/VAPsYSi9M16cukGZPotdvA/NxSzHUWLDWVFC+JZfSUZArrXDwv+DIpOgLlR0bmryqh8rCZ8k1ppK0tB1Uw/oB6WgzhpwtJ05sor2k+7g2pRI+NZOGeDj592TuC6ZG+mN9Mw7i3GovFQnVpDmlrK+kzcTpjLxjNuQw9sG7t9vv0xdatnbqU8t9N9ZSbmrEjfbHuMGLcYcbyXS2VG+aTfUi6YEpKq9gHDUBpKaXgXTMWSy2Vmw0k7+hF8ACJ2qNmajsc+eo6L1y7jnwJDvbHXGii8tdatHc5lnprtfQ5ZMJ0qA/BQzvuIClDJhOuNFOYYaT0cC21X5SSs7CQum5uNLtSX7qkq7qunXinD6ilcGkaxV/UYvmumvK3FmLcKxH+VBSX9vOG15erMK1IIuTZRcQ15PDOSzPI+bkR+kwld0dqc4WiYMSClRi8VrB+/SJ2/CijuCOQB+evYu5jfl0F3i5FSCq5f+xH/roi8hcVYEGBT/8hjHzq3is0K9Qbv0AfynYXYNxYj+20hKJfIKPm55I4vp2pOb5RvPS7Yyw1ZRK/xUZjkwdB894jd5oPIBGS/BpzX1tK/sxRLEWBT+Aopi94BmlOdutw3PyYmvUm3uvyeavIyI7VNiQvPwJDp5LY6Si8RGBCGtMrZrD+DysY8r+pBCla1gWNfhDFrs8o+yYRVb8Oguj0GIB+U3ntf70xrX2HgmUF1NskFL/xIUATwjjtxQ58u5i/Nwcxd6UR5ao8ipYlkSdLeN8bQmLmXOIGXcKZ9wlA5baZHfk7yPunDdnTG9XQ6RhnJ7Y7CtFwsh5bkweqBwZ1PNf2OiXdE8O6LWpMa/PYUpzN/FwLSL74a4NJykskJrzlBVRlxDLeeNWIYW0ykcutyJ6+aMOfYd2LiWgv5jTcGUNWPhhWmJg/zYhV6oM2Qs+61Ch8Ad/EDFLq08h+agxGpT/BjySRkabl8NlK5q+MJcF9AxtmRBEzqgTjylie/jCJ1evj0L64jnW9XiF7RTT5f7fCr/3RhjzDOmMcajfApQ6CP3FL9Hz9cjYJY/NR3qll7LPppI+0oDQnYEqKRVq7lZRx04l4byH5s2IpfTKLranBxGWvQ1puJDtxDPO/B6mvmuCJWbzxXDASoH5uNVkYyMuIJbvOCrd44ztoOPp8PRM7mPakdSUvYlvf0qQQPW8YJAxvphG9vBYrSnzv0RKxeDUpzY2jLvMKX2JezeLkAgN5s8ZglHzRPqInZUoeCRtb4vJ9XI/enEZ+nI58tz74h0ShfyGKmlm7zo+sKEem83ZWNobcNKJX1CK7eeOrHUtKfgpRfV0vNt7jlrFBNmJ4YyHRq61I3mrCn13H7xOaj//2KLJMN2FcnkfqowZqZan5uDeQEtFR60Yi+KU3WNPLSPaSSPK/k5G81QQ/lsXbz4V3/vLpxeqJdWt336cvsm7tiivlP6vNqGB31VPq51eT/kMqOfpITG590I5LRP9CH55LKOemDlpYyojfs+zpZNKWRxKa0Qd1WBQpBj3ee09xYEkaTy64iU2vT2xnOmXXXL2O1EO19Fpt4tTE+5uvZeCe+9GSQ6FbFMMGdBJJ7wj+kKNn4eI8Eh7NR7pdy6TEdJI8Ipnf6Jhx0y1tLTf/LutLV3RZ17Wt893UJP5xHdLybLKfGsP80xLK/lomGTaQ8silnJXrz3/Z7Xb75QTwww8XPQYo9HRNVeREz2Bv2FsX977EL5rMvpdHk3JgJKs2pRFywW9EXJ7evTuY/CkIPVD1mkgmmNSs+yidYPFLweeJ++Xl63F1YZMVy/cS3t4tTVXr5gR0C2TSP1pHVA9LriC44pp/ylTogdxUTH96JNai9Zf0g3C/SE2H+OwABD0Z1+0dA0EQBKFnqs6NJnR0JGmbKqk+UYu5zMTC1aUowyczXHQMhOvUNf9akdAzKUbPZWnDThq+leHeG/NTXd3KLYjU7X+51qkQBEEQriL/+NVk/dtA9spYCv8hw6990Y7Rs+7FS5sWJAg9gZhWJAjXgR43lC4IwkUT98vLJ+pCQbjyLntakbu7GHwQhCtJXGOCcGMQ1/LlEfknCFfHZY8c/N///R8//fQTlxmMIAjtcHd3x9PTEze3nvVWZ1NTE6dPn+bs2a5+Zeva6In51tPzrCfriefzUogycOlulDIgCNeDy+4c2Gw2UdG1w93d3fHT8oJwA7oervuedg1eD3nWk/W08ykIgnCjuuxpReJm1z6RL8KN7Hoo3z0tjT0tPdcbkX+CIAhXh/iUqSAIgiAIgiAIwDXoHNRvjEc3LIV97f3u9ZEcpulGkfHJ1UmLXLuPnJRpjArVoRs1hXhDEVU/t7PdoUymDJ9NwbdXJ12CcMNpqiAjQse0NVXtrJTZOU+HLqGAhquesB7m+D7y1xVxUPy+iCAIgnCN9KyRAw8v7vD3w8uz600vm62CFc+/xPoT/ZixwIjxuSHI76eTlLbzggaKNGg60wcdxLS2DHHPFn6xvisheXgYCe/UdnvQij4q/PoouzlUGfOaSHSTDJRbuznoZiUpAQRMN2EBaKrEMDyACSvMlxx+RZHJAAAgAElEQVSeXL2HvLWbOfRjtyVRuMZalRGhUyKvBKFn6Fmdg35TMW7IJW7QlY+qYVcem2t9mL4wjZjRIYRMScXwXBC2fXkUHG67tRcPTRnJmffXU9T97SJBuA7UYtIv5IBWzx8e9+3msCVCfvcWG9Mfwqubw1XHryDptkJS00tEg0PofifyiRyeRnnTtU7IjWFAZDrpM4Lp7scEgiBcnCvbOWiqp2xVCtMidOiGjWfGyyYOtfPovf6tGeg0GjQaDZoH2p9WVJYWim6mnoyZo9CFTiFlYxlFi6cxalgoU1IKOHZRlbONik8O0nhHCCHqll//9QkbSaBbPWWfHLtgD2noSB70PMiOnReuE4QbnXWrkexKNXEvRLj0q5+2wwWkx48ndJiO0Edmk/n+MeS212hTGenDm697jabdaUW24tnoRs0m/WXHtT4trYiyjSlMGa4j9PF0dnY11c/Nl5jfPYOyxEB2eXtzGXsCGztTdGg0GobO20lj4yEyJ57LFx3xG+vbbF5F0WspTHs4FJ1Ox6jHU8h8vx7no6vfMAPdMD0FZSb0M8YTqnOch5yyC3KYqvcyiI8cRahOh274eKbE68mvaFNRy8fYmeUUZ2Q8Ge9WXTiS2nSQnEd0jDKUUbUtk9mPO8INnTiDzA9btm6oMKGPn8KoYTp0w0Yx/vF40t+toqeeoY7Ih/ZTLToG3cY3OIqokf5IXW8qCMIVdAU7BzIHV/+OlLePcMcTS8l+PZVHPPdgfPsgjW229Ikysn37Nratmkq/Tj5h3Pj3BryeXspLw2GfMYXNNz/D0vTJSGV5mCoctxX5Zxs2Wwd/P8uOBkpTPcfqG/G40w8fN0BuXn6bDz6KRuqPfXvhTUoKZEggHCv/K/Vt1wnCDa2aQlMJjJlOVF8XNj+5k0XPZ7D3/0KY+2o2xucCqV+bww5bmyvfLYi5Be+zbfufSQ3x6Di8H49jVc9laWIQlu3p6P8SwNxXX2KkvIO8P7f3DkMbA6KICT7JlvUlXNTsoqZaSlclEzlaR0CAHwH3hxE5J4fybh+CUDBiwXa2bd/Gn/UheHioiMvdxrbt29i2fTuGyT4tm8pV5D8fT/ouG0FPG8j+o5GkoTZ2vPwsGR+2aao3lmHaYGXcojfZvv0tEu8+Tv6iTPY5bSZ/mEmSYQ+EpGD8Yy65i+cyVSPR8E/nnLKxb/Hz6N/7FtWTBrKzjSSFwJ5l8aRsbP9hSWNFJunFjYxMzmbjpo2seu5BvM/V7Q1FLJ2XySHFOPSv55L7+iISJ6mQv2u44N7gCuumWAJ0qRT/zUTyo2EMHhjA4LGx5JRbsZTlkDDesUw3KRnT4XM1u0xxUgABsYWty0RZGrqACeQcbf5/XSnGpEjC7g/ALyCAwcMjSV5TjqUJqldNIGBOCdY6E9F3+zFhVXUnqZSp3mogdqyOgIAAdOMTyGlTkGr3GkloTn+AbgzRehOVXRRYa3k+ydFj0A0MwC9gMGGTEjCW1Lbcvyzl5M+LZoxuMAF3BzA4dAIJy0upPdehaZ4KF51bTklGLGN0AQQMDiNSX0y1tZrCBdGMuT+AgPvDiM4obTX6Jh8txvDMBMIGBxAwWMeEWAPFR7vo3nWSn9BmWpGlkNgAP/z82vw5n58mC+W5567RC8MTBOHSXLmfG/z5rxS8V4X3+FUYZoQgAUFB/bB9PYXMI222vdkLr5sBm6LTJwYeqpFMDgnCi0Ayd0k8+MgIgu66jaA7Cqg6bgP1Pn43Sk9Zh3cYDx4yfoohzIbNBvyPhOLHfeinplDml8rGLBUKT0cHoxHapEVBP38/Gjd+xZGfwefmS8wXQbjenChl1xcSwU8Hu/RE79i29ZTZgkh6JZXJdwAEMcijnodTitpsKaHoI6FAgfJm6PCFHo9BPDwliKDGBgJXltE4ejIhQV4wKJMdtceRUXWRLm+GjwwmLWMnpdaJTHRxzkL1Wy+QsFYmavEaMrTeYDmAadF8Ehb68v6aiS6NoLhKutULn1tBvlUBWFHe7oPPHRdu17A9h7wvlEzNXsXcoY6jDtIEIn37MIs2FBEXFkNLV8KLEQmJhPRz/HvqkyMo+HAfn1XBiCDHFsePVGHzHMLjCQ8R1JyJgSEjWkdaW8Rb71tQPbuStGl+jjiDApFqH0a/sYiKqLkEtXqo04jN1o/p/5vKQ7c6lvj4+hF4bvXxKg6e9mHck3GM0DTHGRTCQ5eWdeAmgbWcvI3+pOd/SJZkJueZSIzzI/k4KAb9nz5kDZUYZ0ZjeG0YY9dFuXjuajHpkzE1xbDszRUM6C1jOVCIYVEC83u/z7r4DWz6KZLoYi1rtqcT7NlxKZT/bsK4eSLPLN2A3r2OkhXzMSYtxHfXGiZ6g7U0lSeTdtF3xjI2vK5F+d0H5CxKIzYJtq6Pod2JfNYSFiYbqRmzjDV/0ODrbqWy2MjClOe4qd9WEu+xULwwAUNVOOlZmwj3Bau5kDR9Ai/ctpVNsf6OcNyhemM2H7+YwdZUX6wlqUQmLeQ5s5bw57PYuljJyc3zeVKfRl7Yh+iDge+KSY6Zz+FBSaQXTqS/Wx2lK1OZ/9RJ2JLFxHYzuIv8fLzNTt6TyPogmFPnvmAr15CfmEChezjBfQFkKjNjiX0LohatYUWIN9ZKE2kLYok9u4lNs9ViBEIQLtGV6xx8/RVVNg/uHRrkdIH6EDTEB9p2DlylUKIAuEWB0k2B4/dwFCg9wfazFTyDeOGPuUzv6HPY7h7c1q/NMjcPlJ4KlIquqxEvLwUecgP1PwCicyD8QsjmL6lGzSS1K7daG0fMx2jsN52g37QslYYMIdCjiEv64JenhMIdcJeQ3ABPxw9hSZ5K+F7GRtuO/IW81Wp85WK+PAoTH3AtWt9HVrA17CZ8+3s7wr/Tl7gpBRSu3Ie5aSLhV/2HWmUqPvmMxjum8lCQ8xErGKRRwaqvOCKDz7lVHv0IuNtps97eKLBg/VHmXI75+PdDcbqMPIMJ+aEgBqlV+LT5nTG56iuON/kw+QG/VnEGDVXhUXaQqm8hqE3r1UM7ipBbOziMO1UESAXsWJOBz2MjCQochF+fy2zGnZUIfjIObW8ANRNHqsleKjPs2RjUSgAtk8L9yd9oprqJllGMzjTVUf13Gd/HJhFxn+MAffvqWXPvWE4qlSBJSJLkKJfK5rLZke/7MsmQQsTtAP74//4ZPhhvpOhDKxMjT7ElbwsntXreTo1wdAT6RpG+qJryGBOmAzHoNe2EWVdNjbUP2nET0fZ3LIqYnUX/kFqk2wG8Cf/9Jna7++J/e3P+9k1hepGJ+eWVWGP9UQISMlb/SaSM80UCvEeNJfjXhey6aypJIx1l33fcQ2gWlGA+ZoFgb8wb8yg9G86yVxMJ7w3gS8xiPftHJ7N+cy0T49vpznSVnxeQUN7u2/z+gUzliucorFOTtDEJrSdgLSHvnWr8n95EeqTascs4PRknKpnwponypzMIvxofNxGEG9CV6xyctmFFgXebRrdC6UUnEwgu3rkK+Szg5oWPv4R3R0OKbuDhCdDcsfhZxqZ4iNTNf3GsbyrDdhqkmxXtplFykwAr193EWEG4DCe/q0OW+tLHpcetMtbT4KH0QuHcWPJQoPT0uLTOgZtTHeJOSyPMDTjr4sV4uy99OUntP1oaxl2RPKHmbSOG0kpqLKc4cxY4bUU+G458lpa656qxYbUB35qIH1bQZl0jjYQ41p8/PAmpi8pWMeIlshfmkbe5gKVzMrE1eXDbfeNIejmVyf0dATX+bEN2U6Bs02lQKBTQZMN6um2oHihu9aLD3zLuMxnD6zI5bxZhWryZDFsjCt8gJienMXeET0d7dc69L/53tfz3Jk9H493/zpZl0i2SYwqpq2G6qRke0ofCtc8ReyqKyeHBBAep8b5He/GjRncNQ+u8011q/JUyldXVIFvYbwb/p7WtRgik+4ah8TRhPlALmnYa2/2DCe+fTf78aJg2ieEhwwm+zxt/jfr8Jkp3C4U5BlIP1GD5/gxnANkqg9Y5HyT63Onv9BKwEqWnhO9dfVuWuUvcdAvIP50BLJi/qAZ1FMG9ndKjDGbYIEg7cAArvhe+VHwZ+SmXG0nNrUX74iYS72su4Ee/5LBVSfhQdatt/YO09FlZyv4aCL+vi4AFQWjXlescKBUoacR6uvXNWJZt0PFt4/LYdro2rWiED34+HjR+fYz6JvA6d5P/Vz31Ng98/O5ot/lgtVkBZfOIhSD8MsiyDNJNKF2qLSSUnkCDrXUj7GwjcuOlzCjvJtJNSDQfi0udAyul6U+SUOJN3KIM9EG+9HKDk5uTiVx5hdPaIUcD3ePeOLKXPMRtbVe7K/G+6M89KVBNnItx4lxosnGsrIAVr+awdJmKoNyp+AAeNyuQmuodHQ8nNputeeS1nWC76DgpNFNJ1UwFZBoO/5X1WQZMizMJ0BrPT0W6WDddEKd0mXc4JeGLN7FOncf6LSYWvmXAKvkS/Fgi6S9G4X8RT6WlXkqUrdInofSUOPWTDLKMVZYxr44kYHXr/WRZxv9fHbx4IGlJMW3CNz+PLe8ZKFyeCrdrmfSsHv0MLUq5EmNcLPlMIv33eoL9e3ETZ/hg4RjSfmoTVHv55N7RdXIG679BPmAgNMDQetVZGTQnOQXtfHHoEvPTWophoYlTIem8McO/Zfm/rZxqsmCKDaCw1Q4y8llvLP/qIDxBELp05ToH/QJQ3SpTdeQ4jFA1L7RxyFxPI+1Mpu0OnkEkZucyvZNNbrsbHEPigXh8WMZecyKBgxyVYP2HeznY5MP0VsPnLb6tr6fRKxCf3u2uFoQbkiRJIJ/B6tLTcgX3qlXw5lccsYHfuY70kc+pOu3qM/srQD6DTPOxuLR9OUU7TuI/YzX6CS1PJk81OR4QXCmSB0g0Irfbj5IIGjoEKauKeimRoO6uRt0U+IXFMf2TIj77az0NTeDjBpIqAJXbXir+dgwGnasbG6j4pIrG30xGdVnpkPAaMILEx/ZQ8HI9DT8Al9g56BZtR6LcvAmO1hMcrQdrLeU78jEuT+M5N392v6x1Pdx/W9uMWDhG2HrdIoEkoZQk1I+vY8VjbZ+hS0i/7tNxuL3VRL2YRdSLINdVUrLRyCtLEjhz+/tk3baL4iNKov43najgc+Xe0g0j371Q/gqk4CQ2pEVccDVIt/Rp/x0JuIT8tFCSnkbhT+EsWxyFr3P98yslvSRfxhrfIO7eNru5S/TqzpeCBOEX5sp1Dm7+LVMf9SP+z5nkDzUQM0iifvtS1pfZ2jQwZBpONjiG6S2Op43WH+up/xZwl1De1mZ6QmfcvFAFufbozGvsMzzypyQK/pCO97Pj8PmxjLdWV6AIMzC13d9ZOMZBsw2FZjCDrvp0AkG4dvrc3hdJtnDSArjwtSK/iY8T8qdF5GXt5N7kh/D5uYL87CKON4HKaTvZ1oDNJiMjY/0ZOGOj/lvHJzklTy+8bu3GrsR3tdTRh3AvVzsHMvJZ8P61U9NHNrNlezUyfS/8LGt38QugH3vZ8acigp4YhOK/JZRePng1d7K8Hk5k+tZ4liamUB/zMEN8Fcg/1nO86jM++vFBjAseuqhx2YO5s8lvCGRkkAofLwn5+F7ydtXjPWIIqnP1nO9kHh9dQEr+70mXnmHcPR7Uf7ie7A8h6IXJbV5GdkFZJvGb4cGwwah8b4MfDrH5jb3gO52g/7nIsC6Zo0HOSWurp9y1R6tbvl5kraa8zIL3yGD8JUDpS/Dj6SRVbiHhqBkLzY3Zjt5xcyKf+JLDP4D/uQdLdWaqrdDX3x8kb+4fBKX/sNKnv/M3/q1YToB37/bLrFxXSWm1RHC42vHuQF8tE+em8OXuaMqPnoT7rJxx74Py1077n9jCls9kWt4OvxRK1Pf5Q/FJ5L7+jrw5l+K6WvDuoPPsan46sWxeyMIdMCnrD0y8vc3KewYywNNE7Q+98O/v1BM4baH2JyXe4n0DQbhkV/BTphKB8a9hfFTB3tSHCX3wEX6314up0wa1ns9/sgj9hPGMf3g842cXcLzxX+x8qfn/42ZT8PcrlDxFEC+sXMpUn+O8lZbCS6s/QxqdRvaiDn6IqfavfFStIGTEb8UXEIRfFEk9EH/M7De7+MjR6yEWrZxLYG0OT43SMXpmNg3Dp/PQba0nwB9a/TijHx7P+IcfJaOskcbPc3jqYce1//Cyv3brqz0Ws5latwEMPDcIcDifhKhocv7WwQ7KAQzsD5XbCyk9YcFytJT8eQYsg4JRNtXx5UHLlekg+Ebx0u/GoajIJH7qozw6ZQr6bU4fT5ZUxK3OZVEYfPbmIpKSktC/tp49f1cy5LeDLnrCps+9KhS1e8l/TU/SrCT0bxzEa5KBlb8LcarnFIxYsBJDlBdV6xeRlJRC9l/hwfmrMEa3P8raeaQBqNyq2JFvIGVWPEmLC6jvNx3jysSWDslV0F+thsO7KPyboztgPZCPscTSctxNhylIj+WF9ELKj9Zi+a4Wc2k+BZ/I+N7nmCevvEWCH8x8XG6muq6T745Kh1m/yER5jQXLiXLyM0xUKiOYPFIJ+DJpxiR67TYwP7cUc50FS00lxUtiGT0lmcK6DsL8+xYMCc+xcF0p5hMWLHXVlL+7ntK6Pmjv8wWVFrVbNSUbS6i2WKguN5G6YD++4b7wrZnKurajGa5TT4sh/HQhafrmY6qrpnxDKtFjI1m4p4N8cCE/W6krZP6SEgiPI0Z1htoTtY6/ulqsMqCM4JnH/KlcmYxxh5na7yzUflGCcdZ4xszKx9x8fda+k0x0tIEe+zMngtAD/ZfdbrdfTgA//PBDd6WlRzuWO41pO4PIfWcugS72Dnr3FvOPhBtBNflRE8i7aw1/eTUcievnundcgxYKnxmNwV3P+2uaP2NZnkbY9C0E//FzMka2v6/8hYn5L2dTctSK8k4tY59NRz/SgjEmAVOdL3FrtzJwYwDJFj1/WR+Dd1MlhlHRlE/cxNYX1BeEd73kWU/WXp1q3ZyATi+z7NN15z9Ta3knltAlSrIOZhHR3OGoXRfJmBx/1nyW4fjS1GkzpgVp5O81c9KtD/4hUegfA8OsXYwt3EriALAeMGFYYeKDQ7VYfgJlXzXB455B/3wEvhJQV0xy3EJK6iT8n8xia2pwm9TJlCQNJlnWs2FcNcbVW6isk1HeE8EzC/5A3APK89vVlmRjyC2m/HAtsps3vtqxxLyQQoymo2lsMtWbjRjeLKHyaC1WlPjeoyUiJoWUSDUSMtWb00hdsQvz99BnwFjiFuiJwkRsXDZmzyiyiiexf0o0JSM3sDu1+cn9uXI8ZStbZzfP8W8qJXVYAtVP72ZT85eI5KPFGJfnUVJRTa0sOeJ+Sk/KIx3/iFlX+VmS0nI9KXckMzipuJ0OjJKJeZ+TNZLm3zl4hez3Sqn8uxV+7Y82JIqk1DiCm3sb5hUTmPBGX7I+W8NEMZogCC4RnQNX2MpIf3wR1oR3MI53/Y0/0TkQbhTWrQmMXiCTsmsdUbdfP9d979694WgOkVMKUf9xN+kh55otMqULovl40ib0Ln7a9HJdL3nWk4k6VRAE4cq7gtOKbhzyyUb8nljE3Icu+lMggnBDUI7Tk6Q1k7O8hG7/geArqakWU0Yelgg9SSFOzzN/KKXosJrh4lOHgiAIgtCKGDm4gsRTLuGG8l0JydMMyM++jSHiV9c6NS6Q+fadFGJ3qcky6Qm+ch8ZcomoKy+fqFMFQRCuvMvuHNhsNs6edeFzDb8w7u7ujh8JEoQb0PVw3fe0a/B6yLOerKedT0EQhBvVZU8r8vT0xN39yn0R9Xrk7u6Op6d480m4cfX0674nXoM9Pc96sp54PgVBEG5Ulz1yIAiCIAiCIAjCjUG8kCwIgiAIgiAIAiA6B4IgCIIgCIIgNBOdA0EQBEEQBEEQANE5EARBEARBEAShmegcCIIgCIIgCIIAiM6BIAiCIAiCIAjNROdAEARBEARBEARAdA4EQRAEQRAEQWgmOgeCIAiCIAiCIACicyAIgiAIgiAIQjPRORAEQRAEQRAEARCdA0EQBEEQBEEQmonOgSAIgiAIgiAIgOgcCIIgCIIgCILQzP3EiRPXOg2CIAiCIAiCIFwld955Z4fr3L29va9iUgRBEARBEARB6KnEtCJBEARBEARBEADRORAEQRAEQRAEoZnoHAiCIAiCIAiCAIjOgSAIgiAIgiAIzUTnQBAEQRAEQRAEQHQOBEEQBEEQBEFoJjoHgiAIgiAIgiAAonMgCIIgCIIgCEIz0TkQBEEQBEEQBAEQnQNBEARBEARBEJqJzoEgCIIgCIIgCIDoHAiCIAiCIAiC0Ex0DgRBEARBEARBAETnQBAEQRAEQRCEZu6XG4Ddbufs2bP85z//6Y70CMIvwn//93/j7u7Of/3Xf13rpAjd7JdWJ4qyLAjC1XYl6llRl7W47JGDX9JNUBC6y3/+8x/Onj17rZMhXAG/tDpRlGVBEK62K1HPirqsxWV3Dn5JN0FB6E7i2rkx/RLP6y/xmAVBuHauVJ0j6jIH8c6BIAiCIAiCIAjAVekcNFDxXj6mD+uvfFQXoX7DDHTD9OxrutYp+SWQOZg1jdDZRXRYCpoqyIjQMW1N1dVMmEvqy0zkv1tBQyfbyIcymTJ8NgXfXrVkXV2na9i+ah4zJ4UxVKNGrRlK2Pho5iz7M1/ZrnXirlM9tsz3zDpbaLHnJQ2auI2OOunrtURqwljysev724rnoNHM4s8/XqkUtlaTF41mxBI+bQKaPmf5WA2Rq766OpF3oVVeXke6SvfVPsfOekKeNlQUkJk2mxmPjEKn0aCbU4S4VbnuyncOmho4WJhH3l+OX/GohB6qtoic92QmT38Inw438sDLz487vDyuYsJc8+1f3yLvT59R30lHUho0nemDDmJaW3YDVkB1bJwbzctbLQx4cgl/fHsTm97+IwtiAmjYsZCZz79JjehkX4IeWua7s87+5k2ixzY3CoVrROaj34cxs6CHNH/d+jL6+ZeZNaLvtU4JAKrJL/Pyk0NQXOuEXKS26bZtnsXQF/cgX9NU9Rz1nxSxwyzjpR2C6rZrnZrrz2V/rUgQOidT8ScTB30nkxokdbyZWyBxazZevWR1Oy8emjKS7JfWUxQXQozvtU5PNzq2nW2fwuiMlbwY0XILDVAPRnebzMzcw3x+Avr7XcM0Xo+u+zLfNfnLA9T8x7v7A24C3Lo/2BtS0zEOVFlh0LVOyDleDB736LVOxHl9dY/SM7opF6dtug9/8ZXoGDgJnL2RPbOBpipyDu6kp43P9nRXbuTgcA5THtCgeWAaOUcasb03G41G4/iLyKDC+UmSfIydWSlMezgUnU7HqMh4Mt6tavcJbNniUHSP51BxoID0hCmMGqZDN2oK8bkHW23XcKCAjDnTGD9chy50FFPi9eS0M0xuNReRHj+e0GE6Qh+ZTU7ZJT5dkY+x87XZ548hNGIKM1JyKDvZZrPafWTOdqQ7dOIMMt7bSebjOkIXl53fpt0pT7UmZuh06N9vffnXl+Wjj2/Oh+HjiU8r4GA7w4hdb2djZ4qu5Rw5/ekSCloPD9qqKHrN6Xw9nkLm+/XtV0w/V7DjfQuqkSNot+14KNNRTprjaneKRVMZ6aN0TFu1k6LXZjNllA7dsPHMSCuiyjnSigzG68aTvsGEfsZ4QnU6Rj0ST8a2Y63TdjiHKbrxZFQ4x3GQnEd0jFpW4RSnI03x7/yLxr/n89S5dD4wjZwjFyZTGjqSBz0PsmPnsfaO9Pr1s4y1g1WKUYvZVPgqj54/uTI1xUuYOXYoGs1QIp6Yx8bKPSwZoyF6XR0AdRtmohk6jz2t6oA9zHlAw6x3W0qa/PV2lidGEjFUg2ZoGJGzlrP969alrKttPl0WgVqtvuBP89KelkBsn7PxDzOZEKZB88BQIqLmsHJPnVMsNr56d8n5KVWOeJbw568v8VZ8Dcq8S3XKxdTZLqhZE4n2xT3Y6jcSO0hN5Joax4qGT3nz9835rRlK2KSZLCn4vNMRt4Z3Z6EJW8D20pVEj9AwdOFHjhVdnbtjbxL9wARWln7E2jmRhA3VoAmLZN6Gr7B9s4flsyYQNlTD0DHRLNlR1ypOm3kjS5rXax4IY8LMebz5qaN8yh8vIUITwfLKNgmtf5OZmqHM2ty8nQtl+MKDPZc/Q9EM0jB0TCRzsj6i7lJGX5r2ME8XydqqRj77QxjqB9pcdye2szxuAkM1jnyZk/dpq/NwqelfOzeSsAc0aMImMMu4h2+dPwDTZlqRbXPzua3cyLwnIhj6gIahk2ax9lMbDR+vZc6jjmVhUfPYWNU67rrSlcxp3kcTNoGZaRv53OkAPnppKJo5f+arkuXMmhTmCHv8LJaXttQzF0yB6ap8Nqd/5rrP+WjNHCLHDHWUvZlL2H6sJX22T99k3swJhD2gQa1pKZvt5V7D5lmOOvF0y7KvVkWiHhTBkk+dNvx0CRGaaN485pzuBjbGaYgtaKBxxxy0bffp4hw75SYb4zRoZv25zXQgmY/SwtCMX87nTVx8+axaSeQF14ojzRdXDwtX05XrHNw7ndwd29i2fRUx/T1QjE1j2/ZtbNu+jfdNiQw6/9THxr7Fz6N/71tUTxrIzjaSFAJ7lsWTsrH9RlbjD3tZ+koZXpPSyC14j41LpxPYu2W9rSyD+FmZlBFC3KJsco2LeOa3Egc/OdL6wmz8jHzjR/+fvXuPi7pKHP//2h2+8zbaGXUbqI8DtQKtjJhcahhxEW/g3TQ1TU0tU9TwlqympCJpaBreKRXyRmiYF1S8G3mhTGdFqBAswd0F/JZMW858st7zc777+2NAhpsOKGp6no/HPJSZM+/3eZ9z3ud9znmf8x60z88kYeEseqlzSZ63lMwGzAvJ/eDvzNtjxv+1eNYlrSPhzZF0eMxE6U8OgX41smzyLNLK/Bm7cDUJ0b2QdySQ9m9r/XcImI7EMOCGbJIAACAASURBVC46iYLHXiBm6TpWzxmCJm8pk2akUGSrbzgVXWbtZMfOHZWvVWNoq1Ki9faqvOUqF5A8OZK4gxb0r8Wzek0CE9tZ2D97HIuO15JwuVmctLjhH1jHsLLfWHs52RNPz8duNr3CStHOzZx5agzrth9l5+IucGQhC1OrlRFbKekbTuI1cSNHju1j9TAVWfMn1x63m1HombblCBn7Mojv/RhKzyEk7LGX34z9qxjpU8t3JH+C/aHo1Od1r634PfIJI0xrYV/8ZBaknaTQVHfjQM5dy9TYDKydF7AlI4MP/26g8P0VnCwD5U1uHNXwwz5mjJnNUSKYnbKXvVsWM1B1lNnj5rDP5HwYw+upHD98iEPlr+0xHdAoNISFBNgD2ArZOHk8i8+4MWzxdo7sTmV2hMyO6RNY8IX9OOXTK5gafxK3YYtJzTjO3o2L6eN6kgWTVnK6If2D+7XMO11nO8d79AZSR3uhfHwAaz7PJnW0N8j5rH19PGu+8+aVZds5cjCVxcPcOL1oPJPT6m4ISC7AL/ls2VXGgAVb2PB6gFN5hwtgK2Pfh4fRTEzl+OcnWPM8HHlvKq/GH6f1jO0c//wISzqZ2fHOysrG2b+3MjlyMaebD2Nxyl6O7FzB+JZFrImawtoCkJ6NoIPbFU4cyakSz5JPj5MjGejbWeNcGa7BxL75U1hy1o1hi1PZe2A7G2YYMH0ymTdTC+uXAQCKcOYffJvwR5QEv7mHL0/MJ7wiH22X2LrqOOqXF5O6bQNLekmcXjWXNRWNuAbGf8f8Kaz8Rsv4xO0c2bKY4eq9rNhVQp1XOYUE5jNs+ERm2PuH+PLEFl7982lWzhnG9L1qxm88xJefbWCgyxEWL8+40XC1nJzDa29swfzsdDbsPsLeZa/g8c1ixr+xlRsl6Y9g/Xoji79ozfSPjvPl50dY4H+JjbGLqzTEb3C2fLpA0bYl7FWPZ8OBLzl3dAXh5h3MXlweP8tR5s9YQVHL8azYtpfjuzcwvbPMjplT2fhdzd1qnm1HazmXc19XpmNObgkeLX4jJ7sy3wu/yuHKkwYMT1X5NkNXbmd6sBJl98Uc/3IP058r/+hWeVyFBxERAfCPIxx3zF85h8MnzXh070OA4g6XzwrOnMvCXdV4nQOFCo27Fu3jGtQugKsGbQst2hZaNO4qbrQTitPZdKQM31feIXZoKHp9KP2nJhDdEYxb02sfrfrRSvDf3yOqhz9enlq89P2JetHf/pmtgLTVuyj1HcvKpVH076jHXx9Kz1GxrPt7F6q2T5qgHxvPmD6h6Dv2542JvdD+/BVn6n3/yUTBhVLwf4ExA0Lxb+uPvkt/xsTEMqRVZSjLpx+zv1jLkJhYhnTUo+84hNi5L+DVkL6BbGTzqgOUBU1j1YIRdGnnj77LCOLfHok2dxMpp+T6hQMkjRavll72VwsrmR+mccl7LPGT9DfSzbQvkaSv1QxZsIppA0LRB1bkl5n9qTUXHBddyMdCS7xqa0xDZTlpoUF9q8ZH0BBmveiPppkKbehYXtBDgbH6QmElvsNmMkavQXpEg++LsxgRVMb+j/fXc3GUhMrdXmY1Kns8Hysvv1p3Dapa46qipY8X1sJ8Lvxar53d36QAJq9czFCvy+x4ezzPd7SPpk2JX8u+bFOVDnfOvn0UufVh8tRwdFoNHkEDmT7aYJ8GUg/52zZw4noYk98ZR4enPfDwMjB07nQibEfYsqfE6TCoNGi0HnhoPfBwyWXNhydp0nsOc57XACCf3sqGs00ZGDOfoQZvNFpvOoxdwGRDCTtS7Rd6yz8LuSL5062vAW+tBg9fA68s+JAt7w6ldUMmZt6vZd7ZOttZkgpJKYGLhFIlIUkgn9nClu88GDhzOgODvNE87o1hyBymhEPOtp3k11VOFBJYy9D2nc3A9jp0WpVTeWcno+n8CgOflkChwtAjDA/bFVSdp9DbSwKFhg5dDbhfK+L8v+3fyN+5hRyXCKbMGYrhaQ80TwbQ+83p9NGcZ8u20yAZ6NPVnZKTR+yjqQCUcPKzHKQOfQlr5mT5rEFD2IxU9myyH5OH1htd+GSGPQfnT9/87krd2dC0/D9NUbk65uJv6F6ew7hOOryfDiB80jAMyiucz6/H+VWd6TgZn8sEj5pTnic6Ooydw8An67r3WM6mxPDSKwQ0A1x19O7cGuX3Eu1GD0WnAlQB9O7gDd/ml69vKiFjfQZXAqYwP7qyrpn91jCant3C1oqJBC6A7MWgv/fGWwVIGsKf74DGnM/5WpbUOFs+JayYPfowY7jOfi1oZqBPJ2/IL49faSFFZncCuvcmwMsDzZM6wicsYf2H8+n9RC3HrzVgePIKOV+VN7Atp/kyX8eAgTpKcnPKy7KJnLOFuBsM6KrXG65NkRSAQkLlKtn/70QeV6fp2gcDpzlysrKkyWePcOInb/r00NEY5ROcq4eFu+ueP8pULsjnkk2L/jnHkWUV+na+KH/IpaC2p788FkrXuuav/5DLmUvg360nXtVPoOp/K1sR7F+5HekJLY8pyjD/XN+eqgpfby3Ws5tZui6drPOlWGrZREHeBSwqf4L9HN70Ccb/8XruDuCfZzBeVhIc0RWt43G1CsZfZaHgfGn9wlVhIWtxDEmX9Ux7Zwy+N5JIxvjlGawtutCzSvqraBvoC9/kc6Hacf/4/Y9YVRo0rg04xiqUaH18HRaNqdA0k8BswVylQaHCv7VjWdLg21qLtaCAgruwKFKjUaGUq90xegBIXr2ZveEQJw6sZ8Xc8UT8FYoOrWHGiAien7aj/IJtoqjoCkovHd4OxUN6JhDfeo06mzifVwi6dhiaObytMmBoA+dzc7E4FcaBrYQdby/mhHIAs98MR1P+dkleDmalP+0CHMuzhoBnW8M3ORTaQBPUkQCOMH/cHNZ+cpScf1vA1QOdv0cdncQ75fdR5uujpCAfs0JHoF/V+sP3GW/4VyFFtY3mVlB4Eair/J4zeWcnofXyrgyilJAUarw9NZXv/UmNEhlZBjBxvqAEng4kwLHekloT2ArM3+VTAgREhONReoITFYNJpSc5/LWasO4dUNW3fDoGcTFxcu0Uhg/sTvcuHenYpRvzP7eCbL2zc8oVXrRu47AMV1KjlsB6Tca5c7AWhflctrnTWueQtmjQtfHgpsvuFVq8HEbDmzyiAqUW7ycdoveoBLJsvwMhF3AuH7yDA6rMu5f82uHvWsL53MrGr1LbGl/H1cZ/UqPGWp7XVTlfPpW4e3nheJSqphLIZnu6tDQQ5nWFHXNeZUHSDk7mmZBR4e2vw6O2lc8KHQaDO+dzyhvYX5+jQBOIoVM7vPNPk3MNuJbD6a8l/IMD6kzGmtu9WR7XQtORCAPkHDtRnr8yOUdPYtZFEP50+XE2Qvl0/lwW7pZ7viDZ+qsFWaFCXe2EUalUYLNgruVioWyuqvvJAhYTFhu0eExTVwgHEtJtN1rt2/Gf9B4Jjybz8eHVRK/7EaviMXy7jGVmzBD8yyMrW8ygqh53FSpVA55WYrZQhpWCd3tjeLfqR1arFa3ZUr9wDkp3xjAvA15ImEf/Fo6fWDBbgMspRLZPq/YtK1ZC7Z87nt/W30Ah1X/UsRaSolo6uQA2qt6uVjSpMX1F9aiEUjZjsQKP3IGI3DSOEmDmQV0ZpnrSQPiTBsKHjAObidPrpjPjgyUs2dORNS/8Zr/gqptULeNVRrKc8RuWX8Cau5iIwMVVP7JZwb+Mq06F4UY8ClPnsOQLNcPWzKaDQ2PHYpax/rqP6X87Ui0OVqwKDaZrwNOvsCbFg40bt3Nk9XRWzgONXwTDps5gXHtn6pmG+z2U+fqwmGV4VEJV7crT9BEV2Mz2+r7Oyl1C+WjVbd0y7yq+WaP8NbnJgmZ72eLP6hp1teQqQYmMxQb4RxCm3cKRzHwm++koOXaYHHUYK9tLQFm9yucNcg4rXx/PBvowe8Z0DN5NacJvHJ/flwW/1BXfhpJQVm8B3Pi7fufXDb/KXEWJVEt5vJUmNfJDqruFYpUxy1by1w0jcF21j6xWvP7jcF2rRyvHqfJZ0WZQ3OSYpAAmf7gF7cYNZOxewo7lc+HxAPq8Np0ZwwNqLeIBwf5I83PIkQeiOZvDb22moPNSEfDIDs4VQDjnyLUZiHyuPlfTm+VxbTR0DDew5N3DnPi5N70fyeFI1hVav9wbb2i08unUufx7e5zU79w97xwoH1Eh2Uqp3ka1WCygUKKutfF+k5NDZZ/yYfnRBDd5cOYdJ3nRZUI8XSYAllKMGYksXL6IuCf92TnB1x5EpQaLpdqIiwWLpdq8oj+WH991Ki9g16u1NtUq3BQq/N/cSFRgjcggNdfUL1w5+atEYt7LxWvcOt4IrX422jtxylZjWL2gJzWeDuaixq1aW0nZTA2/mrE4HktjspntFbxDGbH8x4JVUnOrPph8B0YnzBYzoEb1IFVkNgsl34OHttpBKTQYIkcT9vF4znxbAnjYGwXXfqNKH9FytcpIdxOwl21HVsfy3RTVo6AMHs+GmPAa1wTpUXc8wKkwAHLBWuauzMFj9AYmG6rWHSq1GqUqnNkpkwmoXj5dmt4Y5ZOeDmfcO+GMQ8aUd5Id65awZtpsNLvXMLAhd/7uJGfKvDN1yl2gUkvwi1yjPrj6qwUUmjrq+7q25UTeNegOXhNUjwK/mKuWYyzI12RQS+V3jALoE+7BlmNHyH/djZzPcnDvNJ5gV3C2DNeQd4R936kZuGY2A2+UVdM9GGxoYPwfkZBsNUflLf+x1L3moCGUEmpJie7FNbz7QvUOuoT054Y9IetOlk+a6Rg4dTEDp4JcmsPRT1aw+N0pyI9nsDi85gVCes5AgLyRcxdLcMsuQfd8AJJCSeAzZjbkFFJIDld0fareyWkEms59Mbw7n8NfWAh/7Agn/xPAK13Lc/uOlc/fqlxvna2Hhbun8acVKZT22rWOW06Srw5fRSnGfzgusjNh/LIA6+P++Lao5Us387g/wS0h9/CBKotyb1uxkfQ96Rw458TsN5UW/eCR9GqpxFRaGd7XrxUqSy5n8hzCXjxD7g9Vv65WqcBmouxq5XuWi0Vccqxd/xKM/nGZS0U/oq1YJ3DjpUXbTKpfOABTFotmb6Y0dBaxo31r6YJJ6NsFIxUXUCpV35YXXp6aGhcRr6e0KOVSSq/U2FgjsWA0flVZ1mxFGM+VofT1rZza0kyNBnPV6WM/FlBgqv3ypVQ0AatzF7fLpaVYNS3RNr912N8HmdPv9KH7sNm1L0L8voSSX5Ro/kcDaPB6Uo21KJ9Ch6SVc3KqzCWXXCWwyciOdwWLzlN0I4FVtPbzhpIyZK033l6VL3dJoqlG5WQY4FoOa+euoVA3nvmRATXKtIefDne5FJOt6jY81BJNNRokwJR3kqO5FQcvofELZ1z0UFrLl8j/Z0PT9U66dZl3qk6pcIs6u94cOoIefjrUtnzOOdaBWMjNKQSvatM/bsGZvGsYDa19PeC7c/bpHBXk85zLB/endTcaxrqICDz+dZoTXxzhcI47HbpXlDEny2d1v5j5TeGG+s8Osf93Bhn/sNZ73c7taWD8PbzxUlzhfL5jZVFCzjd3+AIg+RLYBkq+t+Du5Rg/d5q6NMWjWcNy/06VT7k0h6Mn828MBEraAHpPmkKfJ80UfVdHWjQz0O7pEs59cZQvv/Wmnb8KkAgI8KLw7ElOni3Eu31w4z92tVkY3drD6ZMnOPPpSa4EdCOiYpy1IeVTKSFxFfMvDrXJtUsUVlb4jXguCw11F9YcaPH1UWH5chcpxwsoulREabHDIkbP/rwU4UZB8lvEpWZiNGaR/l4MCcdBP6Q/+vqONit8GTLxBbQFSUyeupT0TCNGYxYHNi0i8t3MBl/sLLkfszA2joUZta1WLiJtRiRx69I4cNxI7rks0t9fyscXJfTtfG+EUnV9iV6epaS9HUNKphFjZhpxb++itNqItiooGH9FLumbsyi1yJguHGDpR1lV4y7pGTmpK9ZPZhEZn8KBLCPGLzM58Ekyi6InkfxVPcNhIn3hPNLlUMYObYVcWERRxety5b0OTe8oRnrnsjAqmsSdmRiNRrKOpJOyKobI+QdqzENVBQbjyyVy8mqfYWsxmSi9XErpZRNmG8i/VP5tadCiXiVl+xYSt8leltLi32LzBTd6vdSrcn7o43r8W8pkfZKC8YoF+UouacvS6nwOspdvK6Qfsvh4m5GCS0UUFZfapxXUUERungVVYEC9n+xy/5IwvDKZDhxl9itTWJl2lNPZ+eTnnubkJyuZ8vpicjR9eLWX/ZIV0D0Cj+8zWLl8H/lFJRR+sZU5m3Jo4lDGVX9tjQen2bvL/lxu+YfTrNx0GqtDGN3goYT9uoMF87ZyusiEqbSQ02lzeLXfcOZ/ZnEyjMzpVXPYUOTNwMhwVD+UUPLv8tcP9m1IhqEMDShhw9sL2JddgumHEvJPbmTGy315ddVpZKAscwXT35jN2qM5FJaaKCnKYd9HGZx39SXQYSq7s+5FmXeqTrnhFnV2PageleCnfE6fzqew1IJkGMYwXQk73lvAvrwSTD8Ucjp1Pis/kwh7eSD1SU5n8q6hdC++guH6EVa8s4Ocf5sw/TuHHfFL2GEOYOhLhsqAvhFEPHWeI6t2kPNEOH0cpnw4U4Zr+GsAOkUhR7YdpdBkovD0Vua8fQ6PMA/4v+fJKbXU/7hcJNSSlcv/OE7Od4Xc5GFjVdOgIfHXdqCbQeLMpvls/KKQkqIcji5fQEaZ+g53bjzo83Ifmh5dwuz1J8kvNWEqymHfu+PpM3Q6Oxr4uLg7Vj7/lcGSyVOZv/kk+f8uT7udWzhR6k5Am7qa9x4Ygr3J37GVnOYBBJSvwdAEBOL2zVa2fuOGIbiuGEgoJbB++yUn8wopua1fRVYRFh4GX2xgxbGrGHpHVF47G1I+ta3xam7hzJ6jlMjAtRKOrkolx3FdWmOcy1dyyczMJDPTSNGvgKmATyv+vuXKaQtH41/l1bf3PbSLoe/CtCKJ0HHzGGNK5ONZo0j81QruQ1i3f2Z5w19FlzkridcsY/Pmeez/WUbVwp8Ob65i2osN+1UlVehM1q1pSfL6dJLnpVGGCq13MF1fadVIPVA3vPy1ZB1OI2FrKZZrEqqW/oS/uY6oPg63PB/R88bKhSgXr2bT7IlYm/vS9bVo+m+bR7rj5lr0Z+bMAuLWxjBgJ2j9ezFy1EiKZiVV2asmIp6NqhQSN+0iIaYUy3UVbk960bZdL3o+Wc9wtlKKvvsRrmSyaHRmlf0o281k3wdD7BWE5MuY99ehXZvExxvnsfkHGamZlpZtgunQu23NaYGeXQhvvZpNWUbkHtWeFmUrIG1itd8MSJ1En1QAJfqYfax7sZ5zuhVaXnhjJGQsJfr9MmjhT6+57/BGR4eYKXwZM3cape8kMbFvEirPYHqNGUv/gnnsr2WTqp5RzMpbRNKHExm62Gr/fupWolpVC1j8OScvqgh97W8P1kjHkwNZscWdrR+mcmTDfDb8YMKKCo3Wm4AOM9jw2lACyrNJMkxn+VsyCz6cz7BUGbVvBK9GvwJTFlBWsT2/V5n/eiELPhxGu5US7roIXvn7eDp8M53C/1ce5vGBLE5uwsrlG5g7bDElsoTH0wGEz13P5Ipb8rcKY8sn50wR1l9h4/jn2ehwSEr/yWzfMg5vhTevLFuDtGwFa97oy+yfQGrRGkPvJXwQaUACdJHLWcISNrw3njWXLeCqwaNNGDPen0Hv+i45uFdl3sk6xe5WdbbzPLoPI2L3fDZMHs+JoYvZHm1g3Mo1SMvWsCayL7OvSai9AugTt57Jz9f3uG+ddw2mHciSdbBi2UamDFiAGTUeAWHMWDuDoY6XJYWO3uHerF2dj9fY+VWnRDhThqt7vA/T5+Ywd/VsBu3Bfm7MXMAAtlDy+hpmvyaxZOfs+h2LIpiBLwdz4sMFjP86jOkfrqCbM99rSPzxYGjcEsreXsyGyYNY8agHhl5TmD1iO6++L9/RqUWqTrP5cMlalqxfwKurSpAVGjwCIpjy/hQGNnRGsUJ3R8qn1H4678dJLPloAa8uK8GCqjztljO5Q90lUxccQNOkrVztHVj5RCKfQAJYy07FABzGGqtR0e2lYeycvYXpkafpE7eFGU7HtpatdehG2DtT2CeHs7izw3E3pHxKHZgydxyzly2mb7v5qJ/UETFuBuNNp5l93T4jSWqEc1nO3sysWZmVZe5yGnHRaXVfv6t+m7KiHHJsHfmtAft+EPzhl19++e/tbECubcm/4DxbAcnDR7HZL4ETc0LvdWwaheVgNC+8C9G7EujZmPMljYvoM/EMXZJ2Mu0e/Bpo0bqhDD2gZ93H0/B3sjaTqq/cexDZjjLjb9Mpm7SXDcN/j79FWj93tU68x2Xe0UNRlgVBuC80Zj37sNRlrq51L6K5548yFR58qoixvNTCyMc7H7BfDnZkySJldxmhr410umMgCIIgCIJwv7nnTysSHgIKX0bMnYX01Y+YqPps6AeFfMWK17B5dOn5IB6dIAiCIAgPCzGtSBDuoYfl9uXD5GGtE0VZFgThbhHTim5fo04r+uMfxcwkQWgIce48mB7GfH0Yj1kQhHunseocUZfZ3XYquLi4iMQUhHr64x//iIuLmNX3IHrY6kRRlgVBuNsao54VdVml206FP/zhD/yf//N/7kRcBEEQfvdEnSgIgtC4RD3buB6e4S1BEARBEARBEG5KdA4EQRAEQRAEQQBE50AQBEEQBEEQhHKicyAIgiAIgiAIAiA6B4IgCIIgCIIglBOdA0EQBEEQBEEQANE5EARBEARBEAShnOgcCIIgCIIgCIIAiM6BIAiCIAiCIAjlROdAEARBEARBEARAdA4EQRAEQRAEQSgnOgeCIAiCIAiCIACicyAIgiAIgiAIQjnRORAEQRAEQRAEAQCXsrKyex0HQRAEQRAEQRDukqeeeqrOz/7w3//+9793MS6CIAiCIAiCINynxLQiQRAEQRAEQRAA0TkQBEEQBEEQBKGc6BwIgiAIgiAIggCIzoEgCIIgCIIgCOVE50AQBEEQBEEQBEB0DgRBEARBEARBKCc6B4IgCIIgCIIgAKJzIAiCIAiCIAhCOdE5EARBEARBEAQBEJ0DQRAEQRAEQRDKic6BIAiCIAiCIAiA6BwIgiAIgiAIglBOdA4EQRAEQRAEQQBE50AQBEEQBEEQhHIut7sBm83GtWvXuH79+p2IjyA8FFxcXHB1dUWhUNzrqAi1eJjqNVEWBeHOn/PivHLe/VzfPqz5eNt3Du7XDBWE+9n169e5du3avY6GUIeHqV4TZVEQ7vw5L84r593P9e3Dmo+33Tm4XzNUEO534ty5fz1sefOwHa8gVNcY54A4r5xzv6fT/R6/xiDWHAiCIAiCIAiCANyVzoEJ485kUo6XNv6u6qE0dRSG9jFk2u51TIR6u5JOdPgAlhrlOoOUbo3E0D6azLqDCM76NpG+T3vh5VXt1SaAjv1GE789D/O9juM9ct+Ws18LOLA+mQOFdzli3ybSV2cgNquOz/+VzCBdAFM/vauxquLiB4PQtY/llA2wZRPfWUffZXn3LkL1cChah25kCmX3OiLOuFVZuNtKDjFzoAHd0zr6rqpvflso2JNIXHQkA8INBAYaGLXpXrRpzGwbrUM3cQ91n9nOhHFOlXPlPnLTevdCIkMN4Sz68q5H64HS+J0Dm4ncbUkknbjU6LsSHgYyWcnJGHUjGamX6gwlNdfi9bQW5V2M2YNNIuSNVFJTHV4r3mZEqzK2zRrOhPUX67e5fyUzqPP9d9Gpr/u2nFly2bU2iaP51ru73yc6MXH+W/RrVf73/Z7PCk96TItjYrjnvY6JU1oPiiNuVAjqex2R36GLu1azu9CHiRu28/5LPvX8thljxi5y/yPh/zd/tA/X2tTbY8smvkdfEr+9S/tTamjh44XG9S7t7wF1208rEoS76nI6mw/+Rui8rmhuEkzTI5atPe5arB4Kbt5BhIRU7ZCFdA1BbYlgZso2skfFEOTkRVP+6iwXbe6NEMu7S5SzatR+dB/kd+PP+z+f3QjqO/heR8JpniGD+X10Y+4/5qtmeKITnUL88Kx3417LiHVHGQFwOY3Ig7m3PSr/0CjLI68E2t+t/bUcQkLqkLu1twdW4905OJ/IgOcCCXxuKIkXrFh2TiIwMND+6r4Io+NIklzEgeXRDO0dhsFgIHxQJIs+KcBSy2az5odheCkR47k04iYMILy9AUP4ACLX5VYJZzqXxqIpQ+nT2YAhLJwBkTEk1jK1yZyXTlxkH8LaGwh7YRKJWab6H6sti7hwA0PXFdUS12QKKo71fCIDDH1YtCeTxOihhIcZMIQPJXpTbo1jNRlTiIksP7724fR5KZK4TwqqVUgWclNjGNU7DEP7cIZGJ5O5NRqDYRQpxZVhDkQbMExIw/HILBnRGAyRpF2psldyty5i0qBwwgwGwnqPIma9EVP1UT9LAenvOeTXS9EsPVJaNW4V+R9Y7fVcHxYZq26uNCu58lg79yEyNo3cn2tP6qIj+8lVBBMeoqrlUwvpUwyV+6rrtqOT+VC0biiGztEkfxJH5PNhGNqH0efVONLOO4aqT/o+iNwIau0JZcWUOazZKv40gQkDOxLQRofO0I3hMSlkl889uriqL7ophzCXpDD8aS/6rroItlPEttcx6IOqdyDylvVF1zmebBtgO0V8mI7h646RMqUbAW0GkVwIx6ID0E3YRt7+eEb3MBDQRkdAxGjiP3WYfFFyjISJg+j4rA4vnY6AzoOY+sEpyho0ou1cOauYupiWlULMqD72c6pGHWMibYIBw6RE0t6bxIBwA4awPgydlYzRMZiTdUxp6igMFXWs1UrmnLAb8TTMOFC/Bk3FlBvHKRjmPUwI8Ko2taWMbSN1BMw4huwwlaTWfC7X5Foe22IG0TFAhy6gQmFAtgAAIABJREFUI4OiU8i72QNBbMUcWzWVQREGdDovdM92ZNCURE7dan5N2SkSJ/bFUF4ORy86RInj2sJq04rM20ejM8xkzz9SmFpefgN6jCbxlJmyrEQm9LG/Z+g3lZTzDqlpK+PUuor41V6+7kQ5rTGtyFbMsWVTGdQ5wL7fsL6MXrCHixVpWX58w9dlc2zVBPqGBaBrE0DH4bHsqWPKmZwVS0ddR+L/Ue2DkmSG6wIYvd2+d/PX24gd3RdDgA4vXQCGHqOJ33WxjjIms2eiDt3obVWnIGbFYtBVHVW+Wd1Rp7JTJM8YTjeDDp0uAEOP4cSmZpfvq4yUkToGrS+2l8+nvei25N5PI3Mm/cxfl5dDnY6AiOHEbs+rkb7OhMGcTcqc8vRpE0DHfhNIOFRcNcytzpVayVzcG8+Efh0JaOOFro2BbsNnkvJ1eYadiqVjh1hOXcsjoUf1esNJtlKyVkUztLsBQ/s+jJqdwle1NA5LN5XXfYGBBD5Xy7QiWy5LnzcwdNYiIp8PI6x3JMmZB1j6ajiG9n2IXCc6fI4ar3PQaiTr9meQsW8VI7yVqHrEkrEvg4x9GRxJiaLtjZ67hcz5k4nZeRnfl+NZvTqBiaFw9N1IorcW1bpp60+fsvCdLDT9YlmXtpOtC0fi37zyc0vWIiLHLyWLUMbMW826hHmM/ZtE7pcXqma+9QzJCSfRPj+ThIWz6KXOJXneUjJr65XcKbYy9ifvQ3rpPXbt2cnqYSqMq94i6ZxDzEzpLJyxlK9UvYhZsY51K+YR1c8X+XsTjpMESj+JYdKyM0g9ZrF6xUJG+uSy+oMsGjaRwILx3Ugil2dB12gS1qwm/hUdpSkTmfS+w0kjF5A8OZK4gxb0r8Wzek0CE9tZ2D97HIuOOySc90hW7drBjp0Vr63E9tCCqiW+WodDPRLDuOgkCh57gZil61g9ZwiavKVMmpFCUY2GWynGzwugbTD6R2o7BhU94/aRsS+DjRPa3nyqhzP5APBzJpszVIxM3MeJ/RuJ8spl6eR5pD/wjX5nyRT+8wr82RN1+X1I87GZvDwxBbM+htSDJzicOAbPr+IZPTGFYsAnMpXtkT5ITwxm/dl8tkc6e4tfAglK9iXxxV+iWb91Ef08AAXIucnEZ7UhZttpcs6e4N3AQpJj3uHQNYBiUmKmkvJTCDEbD3P8yF7WTwuiJHkCb37SkNnb9Shn1ixSUs30mreRffs2EfX0pVrrGOupzaT92ov3tp/gaOpM9Jc3Ez29tnPg5rQDEti3L4OMTVG0VSrR/33HjXp3X0wX6p6IVwuFH+31ai6ey6u8oH91lvNqT9zzzpJd0QC9ls0XeRIhIUFVtn+zfM5OjifbL5r3d+wldXYI8v54YjfVPTXt4qY3mLC2EL/XP2DvwePsXRuNX+FqJszdc5PGRhnb5k4g4SsPJibt5cSOZYxsmk7CJ8V1NwIUEphPkbRVZmTycXLObGfsY6dIeHMQU3epmbjlODlfpDLY5RDx7+0u37dM9tLRjF5ZiN+4Dzj82WFSpwdRkjya0e87NNTueDmVObXgNSZ8VEbI9FQOf3aY7W/3gMNvMnzOocp0cYGLW+NJV08k9bMc8k9+QPer23jznd21pp2k70EntyscO5hd5f3iw5+RLYXQv6sbXDtGfNRMDip68O6Wwxw/mMq7/WB3zOusPldnhtzSreqOWsl5JI4ZzeoLPoxJ3MuJz7azfIQbpxaMZkJqMeDGiKTTrB/lifTXMaSezWfvZL+6tnZ3OJN+5mPER8Vy6tHBLN99mL1rJuJzKoHkAofS60wY20WSJ4wm/ks3Rizfy4mD24nrIbNt6mvEZlWEa8C5AnBuNa/P2EZZSAypu49zeOdyRmhOER8Vz7FrQHAMe9cMxk3yI2pbDjlJI3CrV0LJ5L7/d6I/ukCLYQtZvWImL7geJeGj3BrtHO3g8rpv1RBa1nlnyErRZSUvzZlH/2a5JM5KwjJwIQkjWlDw0ebGbfv9zjTetCKFCo27CmwWe6PBVYO2hbZmuOJ0Nh0pw3fcSmKHegGg1/sjFfcmZms6xsHT0FfP6B+tBMe9R1S78kuRp5YofflntgLSVu+i1HcsW5eOwav8u/76UHrWuNA2QT82njGh9u20dS0ga0IWZwqgi7562Dun5cBpjNHb00I/fCRdU6IxGi9BoK89wKUCcq9p6fXyGLoEOsTfcSO2AtLTsuBvscRP6mmfYqP3hUu9iTnegEgVprF0Zyler2zivQm+9ot8oJ6W1iIGrN1M5ogEejYD075Ekr5WM2T1KqaVp78+0B/pcm/mpaYzpuMItACSCq1n5ei+6UgMyZnQc0Es/VuUvykb2bzqAGVBM9m5YEj5PE5/9E+YGfrqJlJODSY21KG5IV+i4Dsr2n4tqe2+AYDUTIO2GaC6dTPolvkAWBVahkyMItRTAlT0nDqRk5mzSEsvon+kl1NJ+6CQbYDDOST/Ukze3gQS9pvxi+xHiAKgmN1Ju7kSFMNHM7vbp0B4DCZu3kVOjUgh5dwIYgLVSJIELhKSWkJSVN3uzUjIXHFpz4dvdOdGU9MFkL0ZMvN5fNQAbnR/oRNue0/xTSF0b13CxX/KeL7Yj+7P2CdleHrE8EGrHlxRN2z2tvPlTEOXCVGEtrT/f8jLXUg7nlmzjlF1ZeLUnnipgGahRE3sRebENLZlj2BmfeqiRzRoHgFcVEiAqqkb2hZ1nS23IhHUIQhp3hdky4PpLkGeMRtCB9M9extnc6F7CHD+LOdkP8aEqKkyLCzVks8AmEEfTdzw8s6EdxSDd+0mPu88Mj61dmA8X1jG3o5N8PR2s3/+lCdjBqSxbWUmebbn6VRbY6DsM3aflAmZ/jYjQuxNkk4T3qb4VBixN1sic10i5OUxBDUH8OP5rn6sXijTftwI/NQAQfTr5EPy1jwu2sDtl0MkfXwRn9e2E1cxpapXDIv+lU3fjSmcem0RnVy58+X0p0Ns3lWM37j3ie5VfjY8EcW7474gbMFmDr7RnRH/Yz9nzJ79eGuUn32tQvMQ+nX1IeXj8vhXTzsphH7d3Nl2/CDZs4LKpwoWc+zTbKSOy+nUHLAFEb3hMFFuPniWR80zciydN47mlPEiBNZ3Tr99H7euO2p+Sz6VwuZvPRmcEsPg5+ylx23420SfCWPq1m3kvRSNn6RGrQCQUFcpi/eIdOv0k7PSOVjmx4g1UXT6K4AnI2LHcrbzBA6Vb8apMKdSSDrTlMEb3mVE+bTQThPeJdoYRuym3UwMHYxbQ8+VViP5cPdgmnp7lqevJyPGPE/K4D18cR46PSehluz7bKJWI9VrdAL49XPSdhbg1mcV8aNCkQC9viWW7waw9EK1sBV1n0V1k0EQJV5/608XvReP6bWk/RxKr5569JcLaJmyn6LLQKs6v/xQueePMpUL8rlk06J/zrGhpULfzhflD7kUXK7lS4+F0rWuxag/5HLmEvh363mjY3BD9b+VrQj2r9yO9ISWxxRlmH9uxJtLChW6Vg6dJBcVqmZg+cmhy/qULzqplP0fLCLtiJGiK7XE56cCCoqVtAzWO8y9V6HX+zZocaTpzBmK8KJrD98qJ5b2OX+08gVyvwOQMX55BmuLLvSskv4q2gb6wjf5XKglqnJhCjHxn6Ia+g6xEQ4rBf55BuNlJcERXasu8GoVjL/KQsH5atPArpZSek2Jxu1mqw2c5Ew+AChboWvjcKyqVuj+AkV5X9U67e3BJXNoig6vp71uvHQBHRm05Dweo5fzfsVInHyes3ng0y6oytxo6Zn2BLoWk3euzvE/J0moWwdRvekhebShtWP76U9qmiIjy4DCj86h7lxc+zqjFySzJyuPMhnc/hqE3xP1vVrVk7Iluqcd/m7uhoqadYzyaX9aObThJV9/WlFGfvVz4C5T69vjJ5/n7HmAMrLPFdNaP5j2bX8jO8fearhozOZKq/aEPOHsViVaB/k51DNNaaoGrv1W5yil5AqF+xOYMLAbHcMMGNobGLQyG/m6jFzX1IeLeZTY3PHzcxyrdMPvGc+b30Fx8cDnL5V/NnFVg+SBz1MO8XlUAlm2x/fbbzhvVhPUrupotI8+CHdzNmcLHb53J8tp4Tecl93xC6h6Nri1DcKTPPJuNOok3L19qozYqptKIF+t8yljQT2641lyjM/Ol79RcoyDuWo69epk72Ao1EjmbFJihtM3oiMd2xswdJjA7v/IyL808PrZwLqjOD8Ps6I1zz7jmEZqWvv7wD8vUvhLw6LTqJxIv+LCQmTJmzbeDt9Tt6aNd+VxOhXm62zMUiDtgxzTx40gvR98lc1FGw0/V1zVmPO2MffVvnTr3BFDewOGMSkUX/8N+bf6J0sN3+VTYFHSqp3eIR5a9MG1DDQ7SVU+oKNSS6CS7AONjyiRsCA/fL91Vqd7viDZ+qsFWaFCXW1wS6Wy33Uw15JZyuaqOkeOsZiw2KDFY840ICWku76ivUmNTooEVDmP3PsTv0ImcWM6KfN3schiReWpp//UWKZ1KT8pLBbMgPqRqiNKKpUKGjBzzvSzBau1gKSXDCRV+cSK1arE1wJgwWwBLqcQ2T6t2hasWAm1f+5Ym1iMJL61moI209g4yb9qRWO2UIaVgnd7Y3i32tasVrTmas3vikbAH+9Eg86JfACULhIqZdVQqj8Bv9rTv6Fjsr8/EiEzU4mpWJAsZ5M0OZ5zXWNYPr1T5dNTZBmzLJP3/iB071fdgizL+Px4+w89bVLb8NNNazI1neZvZ71fEpt3pzB3UzxmyZOQF6OImz4Yn0atAyQkZ3rrj0hVn0CjlJAUVizVz4G77YkQ2nvH89m5YvA+xxd5Pjw73w0/2Y+Ln2ZThjvZ2Xl46mNqdNjqJlG/IUQzx+JeZsIhN8bMW0SM3pOmCriyayqDVt7ka9dkriLV2JX6T7fed5MaI8tS3WXsf81ctZWRMlrHtiofyMjX3Sj70eGtO1lO/9fMVSTUf6r2vmsT1MhcveZwHVDUs84M7EEnjxQOHc0j+hk/ij89SLa6Mx90KN9OYTKjX03A3DGGuBWd8HFrArZsEgZMpcGz+RtYd5ivyvBokxvTGis0dVWDzczVa3DfPd7JifQz/yKDVP24mlTJb6fCXJWRr+1h6rOHqEpGVrhR9gsNPlfKtk9l9Kxs/Ca/zbL5Qbi7AheTGD56txOJ4IRrFsyocKt2h1al1tyBJ8QpqWysSEiA9eH7rbM63fPOgfIRFZKtlOrXQIvFAgol6lov3DcpsCoNKgVYfjQBDe9d1k9t8ZEb0ka/QRU4hJmBQwAZ0/nP2bw8npT5S9EF2af3oLLfOjNbqjZRLZbqjQllzTsmAP+v6ow9TTMVSqWeiRtm8rfq8/ldJNQaAHsnTtlqDKsX9OSx6tt0UVN1UN/Egfg40q71YmHskJp3ctQq3BQq/N/cSFSN28USUvNqHTyVGpUCLv9qhps+q+jOscoWTBagWcU7ZkxmoJmq/HrjXPo+CNw8/PC7MTrnx1vTPiNiTjwJvUKIq+g0SPbbyH4vrWfZi9Vnl0pIf67nk2uu36G7eAo3QobHEDI8BszFnNqfTMKSWF5X+HB4dtCd2cft+LlaZ/NXMxabEtWNUZM7X8c4x4cQvTtJ2eco++tZzv85iLEe4Bb0LJ7Lssn7yZ3sr9wJGdWIc7jlU6Tvv4LPqPeJ6Vu5n6s2Mzdt9blKSNfLR+UdmH8039lk+5OappInPRI+ZEz1KQkuEk3rM8m6PuW0/K6D+X+rbePab5hR4+N6G4MoiiD6dfMk5dOD5E12J/vTbNy7TiSk/Hp88fBB8ujEu/NHEFKRBdfgt/qOvDqe3w2sO9RNJfjlN8zXqVIXX71mBoUbTe/DR1o6k372u1PVj+sq5quAq/Nh1E3VSOruxG2Lrvk0OZem9mlNDTpXyvhs/zHMwTHETepeebfnX9R9N6++1CrUWDFfk3GsA2XZwsM0NHcvNP60IoXSnqeytdZCJvnq8FWUYvyH4+JjE8YvC7A+7o9vi1q+dDOP+xPcEnIPH6j3Yr6bKjaSviedA+dqe5qRCk0zsPzkMERkK6XgkqWBi4MdSWhadyHqxWCU10yYfip/u7kv/p5WLmUbHZ6SY8FoLKi2T8l+N+EnC+Yb6SFTkH+pSjhNcDBeFJH/vRteLb2qvjy19rl8SOjbBSMVF1AqedUSTuNwusoUbIph4XEVIxfMpEttbfm/BKN/XOZS0Y9oq2+rpRZts2oXN9cWaB+3Uvqvy3fvqQK2fM5kO3S4rhg58x14+fmWH6tz6fsgcnshholBV9gWl1C5OFVqzbNtofj/mnH39sHnxsudpi5N8WzukKdVLiD2USvzVcfRQTN5395iQZwzzBc5tf8UFys2pPYk5KU4JnaVKP427774QSnrd2cwOixytxjPkG9zQ9e6YoCjnnWMsnwkzHr7Z4pfaAjSV2fZnZXNb4Ht8VMA3kEESdl8sesLsq9Xn7JQze02FGT71CG3Pzt0BOQ8du+zP9lFrque9/TBx+UKeXmOOVxM9ld3+GkCf21Da9crFP/U1KG8++DzP02RXN1xc7ZxWt9y6t2G1tIV8nKqTgovzs6mWOFHkG/1L9SPX4/ueP7zFMdOHuRgtjudelUuOJf/1wyu7rg9Whm+7FA6p+qcUlQ+9/x/zVx1jOu3FyunNtWn7nDg+Ywfatt5zn7t+K6Zc9kX7Wl0v901wLn08/yLB5JcyDcO09Ioy+aLwnqGecYPd7mEsus+Vcqnp1qiqVv5Gp4GnSu/YZaB5k2p7LaZObb7UO2LxxtSD7TU4dtMpuCC4+9kWfgqr/SBv77ea3dhzYEWXx8Vli93kXK8gKJLRZQWmyov+J79eSnCjYLkt4hLzcRozCL9vRgSjoN+SP+ai5FvReHLkIkvoC1IYvLUpaRnGjEasziwaRGR72Y2uKFhyf2YhbFxLMwoqGWfLQkOcqM082PSzpuQLaUYNy0jvaHTq7OWEhm9lJQ9mRjP5WLMTCHuw0/BMxj9k5XH2X9IKHy+mphVB8gyZnFgVQxJtfxqsL/eH+nSflIOFGH51ULR8USSMqtdaryHMO1FNZ/OjyRm/QGyjEaMxw+Qvmkp0ROWklV+Adb0jmKkdy4Lo6JJ3JmJ0Wgk60g6KatiiJx/4MY8fPmrZGLez0U7YCxdHy2lqLDI/rpUiqkiipKekZO6Yv1kFpHxKRzIMmL8MpMDnySzKHoSyV9VT2dfgts+hnwhl0u1NQhkC6bLpZReLsVkkcFmpazi7yuWBuW9EgtZq2JIzDBizEpn6ewkjFIwQ/pUXnmdSt8HkcKHEW+Nxackhdi1FU9l8aTfqH40PRzPm+uOkVdSRllhNnsWjCZiwFS2ldi/qn5Ugp/y+OJUHhdLzKDwoY2fRPGx3Rz7HrCZubg9nt3/VNfvCTu1sZ0nLW40b8Rt49S3xZR9X0zesWTSvpTxfCaonk/PoFHKGeSSPHsp6VlGjAeTiVl+AMszQxhcMVhc3zpG1RLfFlbO7N5M5ldF9nrX1LCYSUHtCfrlGCn7L+IXXL5WQOHHs35XOLT1EFeC2t8YUa6uRj43hLo1bbwhe982jv2rjLJvj5E8I56ytiGobSV8k1tWewfBoxM9QiROfTiX5KyLFBdmc2hJLLvL1E4vgHcuft0Z+6IP2SunkrA/j+Lvyyj++hAJ4/vQbXwyec7uq77ltHl3Rg7yJG9jLAmfXqSsrIyLxxKJXZuN+/Mj6eH0GpA6tO5B97/kcXDZNrL/pzv9givPRM+2rVGXHSPtkzzKyorJ3hXP1P1NCWlt78gUm2uWNW8/Pzh/kG3/sJcD87lkEg6VOZzfztUd1UkhIxjZuphtC2PZ83UxZd9f5NSmuSR8KtHplcH1mO52c5YLWWRmZpL5eQEmmxVLUfnfWbU/dv1mnEk/dWh/Oqnz2LYogWPniyn++hiJc7dR4tDZcSaMFDKCEUHFJM2JZc8/KsvV1MHdGL70lL2+atC54kmQzh3ZmE7KP4op+z6PQ8umkmQLIcTFzMXzefbOw6MSTa8XczYrm4uFZfWrHx/5G0MGelG6YynJ50zINgtFexayOat6isuYrtjr4NIyex1s/rn87yv2qeZ3hHyKhOHDmZpazx/9/B26C9OKJELHzWOMKZGPZ40i8VcruA9h3f6Z5Q1/FV3mrCRes4zNm+ex/2cZVQt/Ory5imkvNuxpMKrQmaxb05Lk9ekkz0ujDBVa72C6vtLq9hsatZLQvx5L1A8LSRzTm8TmXuj7RTGmcy4Lq6+od4ZWh69iF/uT95P0gwXZ1Q3fdiNJmBSFr0NnSftiPKusC1m6ZSHRW5VoQ15iYqSSWcur3t1QRUxj3jdxLE0YSvhiN3zDhjB2ZDC5Kx1PUxX6v29i3VOJJKcnEpNchiy5of1LK0LDX6rcr+TLmPfXoV2bxMcb57H5BxmpmZaWbYLp0LvtjTsH1n8WUGq1Yk2NZmiqw24UWoZ8kHHjCSyaiHg2qlJI3LSLhJhSLNdVuD3pRdt2vej5JNVI6CM6oDp4hqx/R+Hbsuqn8omF9J5xoMqIwqIBfez/aTGEdXtm1r+zqepK1Osast6PZvNlcGvdlZkrplU+ccnp9H0wSa3HEPfSboZ/GEty9+1EtQZ11zg+Wr6a+HWxDF9WjKxwwzOoB9HJ0Qz2sH/Ps9dIuu+cS/L40Rx7eTl7Z4bw/PS3ORuTwNTOOmjuQ9AL0US/XMzwtfLt3T1o/jxvr7lK/LJkpg6OpewXUHv4EdJ3OR824JGGjVHOlPqxTPPPIWneRIqsbni1i2L1jBEOU/HqWcco/BkZE0XR8nTmjU3BYgVlRDwnFvesfx2oDqG93xUOGf0YHFjRRFUTqPfhyqE8gobW/Yu9NfJ5aH13DuDDmAUxfDd7NRN6JKN+Koge4+KI61qGOm8CKRNHI63dS/RzNfbOiPjlXJkTT9L4viQ86klI32jiXklj+MrbLFNVSARNX8/6pu+wetlwkv9phj/7EBQ6lvUJY+x3WpxR73IqETLrQz5omsDqBYNI/l5GcvMj5MXlfPR6p9ufZq/wo193HxKX5eEzYVGVKSnq7m/x7mtTiV0yiLBF7vh1HEx0fAxun17l3IJYXp7ThO1RVTfn+VIMMXmxJI8xkKxwxyd0MDFvDKZw/MEbo8rO1B21xTNqzXqkJatZ/Uo33rwmofYOol98KtEv1LvrX6eCHfOI/sThzt2eRUTvoVp7xjlOpd+K53k7MYa585OYMDAZ6Ykg+kXFMVE5iDet9hmFUvPutw6j8GHM6vVISxJYHdWNN/8DkocfIc8v58PXQ8rrg4adK0FRi4gujWX1K91IUPsQ8sJEFsUGcf56Nm+uHM0El1RSRw1mRPghElaO5rXjE3l/cz3OCST8I98jgaUkzuxNkkWFVt+LIUPbstRxgc+VdGL6LsLoUClfmtWHAwAKX6LStjLmL87nT93MXMw9RWHAg39t/8N///vf/97OBn766adbBxLuGvlIDGGzS5m4fRMjHsSf0rQVkDh8FJ923MTOCbd53/wWitYNZehWXxKOxhLaSI++a968+a0DCXfd3avXTKRN6M1S5SyOruh/T2fRirIoPMwa65wX59Wt/R7akQ9bPt7zR5kKQr0ofBn5WlfM6eIHSwRBEARBEO400TkQfndUEdNY+IoO+fKDf2tPEARBEAThbrrtaUUWi4Xr18XDYQWhvlxcXMp/l0K43zxs9Zooi8LDrjHOeXFeOed+r28fxny87TsHrq6uuLjc859LEITfFRcXF1xd78MHcAvAw1WvibIoCHf+nBfnlfPu5/r2Yc3H275zYLPZuHbt2n3d67tfVRQ6haKRVrsKgiAIgiAIQj3c9p0D0TFouOvXr3PtWn1/UlIQBEEQBEEQGsdtdw5Ex+D2iPQTBEEQBEEQ7hfiaUWCIAiCIAiCIAB3pXNgwrgzmZTjpY2/q7rYjCzqbmDoBwW1fChzYIYBw4Q0TLV8Wh9Fm0YRNiqZgjv1U92CIAiCIAiCcBc1fufAZiJ3WxJJJy41+q4aSuXui5f7bf/YPF4DxtLVtJnEfbfbzRAEQRAEQRCEu09MK0Ii9O+b2BrXE83tbkoVSv8IDWc2p4m7B4IgCIIgCMLvTuM9WPZ8IgNGJnOpopF8YRKBO8v/7z6Edftnom+kJ3hazqexdHkKn35TBo8H039cKHL1xroti7jwSaT/bP9T2W4m+z4YUqWDYNkzifCV0KudiZOZpbhFTCPK9yRL12VherwXs5bG0rNF1c36dwlFu/UA6dlRzNQ3zvEJgiAIgiAIQmNovDsHrUaybn8GGftWMcJbiapHLBn7MsjYl8GRlCjaNtaj/a8cYN7kRXz6/4UybfFqEl73p3RtIvst1qrhFHqmpR0hY98OZoYq697ez5cw+01jYZSesn1xxJzQMW3xLLrK+0naUcsahlbB+KvKOPN57p09LkEQBEEQBEFoZI1350ChQuOuApsFtQvgqkHbQttou6tQlLGZLIueie/MpH8LAD1tlaX0jk6vFlJC5S6hQoX6EcBSxwaVbek9QI/easJ/ZRbWiP6E6jXQdin7iy8h44tUZbMt8fWC/RcKMOF/+1OVBEEQBEEQBOEuecDWHFi4kFeEtaU/+scr35WCg/G/yc2Bm3KVULnY/5UUoHRV2bfpqoZf5Vr6FBrcHgNrmQmTWHcgCIIgCIIg/I48YJ0DGfM1UKo1qBynLSlVqF0b2DtQONwXcAGpYrsK4Lpcyxck+2dWmdo+FQRBEARBEIT71QPWOZBQuwKypWrD/LoV2Wqt4zt3mgXZAkqVumoHRRAEQRAEQRDuc43fOVAoQQJk6y1H0k2ZicTFxpF8vKG/E6CilZ8vXMrnguN8nws5FFxr4Cbry1ZK0Q8gtfSi8VdYCIIgCIIgCMKdcxfuHGjx9VFh+XIXKccLKLpURGmxqdaOgulCFul79nOy0NzgvXk9/xKoSlr4AAAgAElEQVShyiySlh+gyALyFSOJq9MrH6laTraYMF0upfTy/9/e/cdFVeYP/3/lsHOK7hmtBv18ZbY+wrYL2CdmWmH4mkIZZiX2QywDK2UzpV9gGlSGmsGaQmZiGmqJZkKWqCVorWy7ittDZFuHNh1ab3DXBu9NZreauf1xZp26/5hRBhx+KYjm+/l4+HjIzJnrXOec61zXeZ/zPuc04jwOnHDR6Pvb8d05JAR9W0fdIYi+6caWNyoLIYQQQghxgeu5pxWdpjBs6ktMdizlvRcmsvS4u433HKg4GhtBE0q0+RzOuRvu5KVCJ6+9vpRJiS+BIYLbHnqEOxtW4v+O5i+WPciU9/7l98lSJo1eCoD2joXsfGXEWc3etbuKWmKZHi/PKRJCCCGEEBeXy3788ccfz6WAb7/9tntq4qnltfsmsfn6eWxc2A1vK+4VDtY/PpqV/Reyae4wdJ381VVXXdWjtRJCCCGEEKIzLpwbkv9eQ40jgvFTLtbAANQv1rN+XzQTJ3U+MBBCCCGEEOJCceFcOfgJaNy1lk+P38wDI8O6dL+BXDkQQgghhBAXgnMODlwuFydPnuyu+lxygoKC0OnkOoMQQgghhOh955xWFBwcTFDQebiv+ScoKCiI4ODg3q6GEEIIIYQQQDdcORBCCCGEEEL8NFw4NyQLIYQQQgghepUEB0IIIYQQQghAggMhhBBCCCGEjwQHQgghhBBCCECCAyGEEEIIIYSPBAdCCCGEEEIIQIIDIYQQQgghhI8EB0IIIYQQQghAggMhhBBCCCGEjwQHQgghhBBCCECCAyGEEEIIIYSPBAdCCCGEEEIIQIIDIYQQQgghhI8EB0IIIYQQQghAggMhhBBCCCGET1BdXV1v10EIIYQQQghxnkRERLT53WVHjx798TzWRQghhBBCCNGLgoOD2/xO0oqEEEIIIYQQgAQHQgghhBBCCB8JDoQQQgghhBCABAdCCCGEEEIIHwkOhBBCCCGEEIAEB0IIIYQQQggfCQ6EEEIIIYQQgAQHQgghhBBCCB8JDoQQQgghhBCABAdCCCGEEEIIHwkOhBBCCCGEEIAEB0IIIYQQQggfCQ6EEEIIIYQQgAQHQgghhBBCCJ+gcy3gxx9/5OTJk/zwww/dUR8hhJ8+ffoQFBTEZZdd1ttVEUJ0o0tp7JR+TIiLyzlfObhUOjchesMPP/zAyZMne7saQohudimNndKPCXFxOefg4FLp3IToLbKPCfHTc6nt15fa8gpxMZN7DoQQQgghhBDAeQkOHNRsfIu1Oxp7flZd0LhuIpahM/nU09s1ucAcr2PbqrfYVq92Y6Eqta+nEP/0ZtpsBZ4a5o+ykPJmXTfOt3s07lrLWx/U4OjtivSWA8sZd+NgBg9u9W9IHKMeSKdgkw1Xb9fxomJn9cNmEuZU0Z172blyVRWSdnscZvMo8qo795uqOXGYU5dT37NV65LKF8yYJ5d2fn89sJxx5gTyPuveejg+SMc8JJPKc9rIKtuyLVgeX3/B9T+91S92tH1dH2ViNqdT9l0XCvVYKbjDzLgltu6oYjtclKWbMU+v8O77PdT2ekqX9y1x0TrnG5I75HFQ+/5K3hkcwcMJoT0+O3GOXLVsWr4SXf/x3BmudE+ZX29m6UaVexfeSdstQIshLIyBBm33zLMbHf7TGlbuvo+YsTEYNL1dm96iJfapItJv8vvouAPb9mKK5qSx37WO4kfCO1/codVMmGInoyIHyyW3Ti/HdH8Os35popv2sG7goHxNMdZ+qRQsGotpUKBpVKpevJ1VN5ZRPN5wvivYaRH35pBz3ISusz/4r3jSZxsx/LIna3X2dP0jCLtC39vVOENv9Yutt69rUzojPxvHjoLEs9+fNEZGZuRgvs7o++A8tfULvO211uV9S1y0ej44EJc4lZqStdT+/F6ej2mn69ZEM/nN0vNXLdFlIWEmLJaW29ByiwXd/01idslGrBOyMHXyIEH9ci/1P4T0QC0vBgZMdyf3diVa+R71GOgj40kc3EaQ52lgb50Tbjy/Nes0D6ABoyUZY4cT+9FFknhfZA9V6lwpDHt2DcN6uxoXkNbbd/9fbd1wBc6A6S6/ffJ8tfULuu2dqcv7lrho9Vxa0f6ljB1ixjwkhaVfuXFtfBqz2ez9N2o+Nf7pPGoD216fQcroeCwWC4njpjD/g7qAqQq7cuOxPLiUmr3rmfv4WBKHWrAkjmXKitoW0zn2rmd+ZgpJt1qwxCcydspMlgZIbXLu28zcKUnED7UQf9/TLN11FhfMPJ8yc6iFia+uZ+mMFG+dRqUwY8kuGlunLbnq2Pyq37I+OIPXtjee2bl9vZaJFgszyhv49E3f9EPjSXpwLtsOg+ujp7EkPs3cnBQSh8aTMmczu0pnMPZWC/G+aXwzZNuMMy9Lu8pnYLFMYf0R79+N6yZiObVt3G4+nRV/entZsre1rF9nlwHgeA1btzcRcdsIwgJ9/8Vr3nbim1fAtCLPLuYmWkhZso3Nrz7N2EQLlqFJTJyzmTr/mdbMJ8mSxNx1a5k5MYl4i4XE+6Ywv7yhZd32L2WsJYn5Nf7zqGXpfRYSF9T4zdNbpynv/Qv3399i0ql6Dklh6VeBFuZSZMAUYQSHHYffw0jsfywkM3UUcUPMmBPGkDanFKtvh65/cxw3ZVXiaizlNzcOZtyb9eCpJm+EmQkrWyao2JaMw3xHAVYP4Kmm4HYzaauqKM0aQ9yQCaxugKoX4jBnlmH7pID0exKIG2ImLimdgj/6tfjGKgqnT2DUzWYGm83E3TGB7JXVONpLK3RUs/rFNMYkxGG+0Uzc7ePIfL0Kezu/sb0+BnNCHtWtprGvTz9dX8f6NMxDMqk45vvSZaNiYSbjbo/DPCSOUQ9kUvhHu/e7U+kO/uvluwoybx6MOb3Mb592UJoex6g2UpVc+0rJSx9DQpwZ85AExqRls7ra92u1kswhd1NQ68ax4TcMvjGBWa3THDyVZFvGsbzOzZ6XExg8JJvKU8uoAccfC0m/JwGzOcC6p/320KbT69+M2RxHwj1p5K23No8LB5YzbsgYCisrmJUch/kebztpnfrg2lfKrIe98064J52CynoqssyYMyu8ZbVK7XBtSsecMIvKfWXkpfnWWcI4MldW+41JKvVbC8h8YBRxQwb71uksSvd1U4KdZxdzb23uFwOnFZ3q29/i0w/mMuU+3xgxZT7bvvYvq5PjUy/0i45N6Zjjsqk81vyZbck4Bt/YKrWtOo9RZu/+07x9HZRONvOb9Q7cWzO5qfVv/lFBweQxxJkDbb9W/NOK2mrrZ9GHuPaVkp06ijizmbikNPI27cftP0Ebba/iL77fDTETd086y6tdOD5bTmayrx0/kE2p/+DncVC9KpsJSb59sHXdfMuXtspK1Zt+fU1aHhUNzeW4qleTnTaGhCFmBpt9fVGl/XSfckZaUUf7aMNqJgwZQ2FVNatf8K47c9woJrxQiu30Nndh+yCPtHsSiDMPxhyXwLj0PMoOXEhJl5eengsOfvUIK7aWU16xhIfDtejumEN5RTnlFeVsX/skN54+w+ji09wMZm48TMRD83jjjYU8NQwqF0xhRmlDwKLd3/6eV367C8M9c1ixfiOlrzxC9FXN37t2zWdK+mvsYhiTX3qDFQtf4rGbFWp3f9Vy4HTv4a2FVYTe/TwLX3mBu/S1vPXSa3x6Vv27my8+WEtD3PO89/udVOTdhuvDGTy7pLZ5nmodb2VMYe7HLmIenccbRQt5Ks7F1pypzN8RaKZuvlr9Imv+GcuTBavZuG4F08eEopza4b87iHPwdF55MoamirnM3BnJ9PwXuE3dysqyruXuh45dSEVFOeVrnuRGrZaYZ8tOb6+KmSOaL9d2dRlqd1HlCiHaHDA0gMGPedvJR/O485r2UorcNGx8hz3XTWbFhko25o+A7a/wyrpWbcTTyObiKsKeWs32P1bwRqqOXbkZbazfdmhimF6ynfKKcuaNvgbtz8ez8CPv+ijfuoRHftG14n66VA4eaoKrjeh81yFdVbN49JkSnL/OovjD7WxZNAnjl/mkP1OKHQj/TTHrfhOGdsBYiv70F9b9prPpSApo4fDHq9h9bSZFa14mKRToA+6/rib/syiy3t3B7j9tJy/6IKvn5PsOOuyUzsmi5FsLWSu28En5BooyTDSuziRnY1snAxxU5GZS8HkIqfnr2LJtA8XZFhwfZPDcurYz7I1hYeC0Y//W78Nj1awurqbv2AxSwqD+qwYIiyIiGDhmpfDRNHKr9SS/tI4tH64jZ7iTsmcfp7BWBY0O/dWgOpvbb/3GEqw6I8pRFydOfVhXRtmfjYx9aPiZqRWHSsmYkk/1Vankr93C9o2LSR/UQNGTmSyvA5RE8v+wgYzBWgz3Lmb37t+RY2lVhiaR3I9fJvEKLbHPfcTunbkk+vpw9zflFG2CcS+vYsO7haQZbX7rvuP2EJBqY/kT6RQdCGfSog1s/3gd+akhVM9PJ2O971eKguJxsnPN79BPXEzJojQiW1+5clWR/0weO5WxFJRuYd28MbDuOYr+6gYNBOxxNAo497B4WQNxczewY/duNjwVinXZbIr+4pumdjnTXizDYcmi+P1P2FKaT6phD/nP5FN1LFChXaSJYfr67ZRXlPH8sPZTLd2177HmQCzTV1ZQsfYFYv69iVfyN7cKJjoxPnW2Xt3YLxp+HUeUWsvev576xIG11o5x4Amsf2nez+q/sHLkWguW61r8mpTCDWTFatGOymfH7o/IGuL7ynOQ0iU70D+Uz7r3iym4S6F6id/2a3cZA7X1s+hDfG2vOngsBe9vYUNhOuF7Cln9N3fg6eF02yv+QCV12Sfs3llC2tXVFM5KJWuLnvTVn7D7D8UkB20n//Vy3zZWsS5JJ31ZA5GPLmbLx1sofsZE4+p00lf4XVUJgob3C9iiT6d42272Vi4m0VlGTr6vHFcludmLaRiUzuL3t7Djw2KyblUpe34aqw8EqGtn9tEgwNNExZIS1HsX89Gf9rLz7bFo/5BPnq8fVasXM21eFSGp+awr38GW1fkkBVeR93Qh1RIf9JqeSyvS6DD014HHhT4ICDYQOjBAxvnXm1mzvYmIqYXMSfEeQMbERKN8PZqZpZupeWA6Ma07/H+5iZ37Kk/G+YbBn4fyZIzvO08d69/YRGPEY5S+Npkw32+jY4Zx5xkR/uXEPDaPycO85dwYXMeux3expw5GxLSetmPa2Mm8cH80BoCYyUx/4PdMLF3Pnx6NZoQOHBVLWflXPePfWMJ0X91jzNEoh0fz0rrNTE54+Iyc/Kar72X53PGnPw8dFAGAay+gvZHRY2OIcTuILtyFe+S9DIsxwI2vsfXrg6hEdD4H8woDhiuAIB0KoOsbQujAMzMLu7oMDV/ZcDGIsLYGjdPt5DD6jlJSbhrPC/dHe/Mdhz3GfTHreaWmBsdvwmjOCtUSkfo8k2O8n0Tc/wIPfzqa197bypMJ4+l89qiCrr+CDjis89bzmoGhhF5y+fHNVA/e1I1Tfx+zY9tayOKPnUT+Jsl374Cd8lXlHDFl8/aMRO8l6NBkcl5sYM+jJZTWppAVrUPRKhCkoNUpKJqW5bZHwc2RoDiWPZ3I6ZAiCFDDGPfsaMJ1AAYS7x6OYWs1+w9CYkQj9YdUjPeNJnGw96K4MTSLxdePpEnfVvasgfjsdXwUZCR8gG8vCs0gdUsJOdVWXI+EB8y71V1nxMhOGhrhVGOzbyiizBVPzqMWFOzYDjhRwqMwAra38yhutJCzMZfkAd7pjU9kk1yZSkWFlYzoKAx6cB71jZKqlY0bnSQlx1L5sROXB9CoVL+/EfvNGSRff2adbBtLsAaNpGBWCpZgACOjn8ti72fplLxfzdTZFhSd1rseFR264MC9hqLr6/tP35bTOENJmpVBogEgnPBH4il50upd94M70x7OnJe6p4SSA0aS384i+SbvvAzjZ5H555Fkvb8R27gMvMkYDlw3pJF1tylgndXPtrC9KZK0pVMZfr132bPmNmG9xwZRAX/i5QHLhAwSr/XOO3z0GEwLdrLfZoebjHB9Km++P5a+YUZ0Gm+5KZNGU/JQBbvrYPhN7ZTdKaf6Hx36K6DdO/6Dh/PYM3cScQVguJPJY95j6/I9fHH8XkZc0TxZR+NT1+rVTf1iqAXLtYup/qIeLOHgqma3LZKxkxSKP7fiIBwDDqyf19PfkkWkhpYPtQju6+0/NAq6YAUFfGfmTxD50Cym3uJdsPCnU9nyQU7z9utoKVu3dU/X+5BTbS+1sLntpcxMY+8dmWxvb+YeLZYHJ2HqBxDJ6FujKHpVJe43KUTqAEyMHh5O8Qc26j1gOFZJ8Qf1hE8sIedUitKoLF4+ZGXcuyXsmZjLcMXbdzqNSWRPiPT2Xf0sJN0STskGXzmN9TQ4+2MaNRqT71xe4uMFDBpqR/mvAMvX6X3UhW54OlMt3g5RGZzM7TcUkW+rQyUc19/rOaJEc/sYC+HBAAYm5b2N5QAYJfG91/T6o0zVOhsHPaHEDPE/s6wjJi4C7Te11B0O8KNrhnFbW/nr39Sy5yBE337n6cDgtNZ/a39FbHRzOcp/hXKNpgnnd2cXroZGRbQ4+IyIikBx1WE9CKBSs3sP7oEjuLNF3XXcaI6AL218dcZstUTfOqztm3iDFe/Z2mDvAZY22NtJKcF6OK72wBNkur4M//rnv3DrDBiCz3XeWkJ/EeF3QKbD0E8BpwtniwNLHdFR/m3JQERUKO66OurkyVTnwE1l1k0MvnHw6X83xY1iwiIboRMLeP0J36Ck1rHXBuGxpha5qcrgOKKD7eyvbfNccSdp0UeYaH2tQRsaRYT/GP2/9Ohxo6qAJoqE/78/9W9PI33Baio+s+FQwXC9icgBbYfPuiAHVcszmZA8ilEjEkgYcTu5f3KD6m77bOt1YYRq7NgbfVO4qlj+rpXwh9K9B//qQeobIDxyEIqnmvItNvSJ40ga4FeGJoTQ/w+OfOtCRUvfqxTU49692fXHEsqvSmbsr/VoXU6cAI5ySj6B5NTEAMGvg/11drjejMl/H1SiMP8KnAdsbZ+97yTttWZMfldu6RvSvO7Psj3Y62w4NZGYB7fsZyL+Jxz+UU/D6bPzWiL+p+2cbXtDA2pwJC26hGuHEx8giGpBM5DIX/rNW1HQXwnuY77tGqzDZdtI7tRxjLljFAkjEkh4ogS75wTqicBF9hRtWASD/IIA/TUG8DhoOtpyuvbHp16iicRi6c9+qy8V5a97qTOYsdwSR7itGusx4JiV6r8qRMcGDgADlxtG1A1+HYKiR6/4bb8u17PrfYi9oQFVCSPK/+Z+XQRRYR08dEMTSpjfFZLLr9CBNpTwa/0W50oFVNUbCB3YT51Ljym25X4Q/msT/Z1W9p7evlr6h4W1aAO6vgqoTu+6H2QhPuwIZbPSyFtZRtU+Byo6wqMjMQaIf7qyj4ZF+u+A3n2JYydwA4abEjCxndyps1j+QSXWQy4INhIZfSrwFr2h1+My93EXqkZH6+Bbp/NedXAGuESrvUrX9t3yLgcuDwy8pjPniBWUcz5oPV0rdEqrnV7RoceJ6xiAC6cLOLyWKUPXt/qtGzfDvN+36md0V7WzHBq/iYPwnkEBbxB0sieux53FMrhPgEbplqeyKJpW6zcI8NAyh1NzOdrW6/BKBa3qxOUGrkCcFS2xM4rJPnVDsmql+Nl8am/JpmDa8Ob90a3iVN3YVqRiXtGyBLfbTdi/zz1kvVwJ0Jra7cl0DJ+9jqKoYkrKS8ldV4BLayR27BRypiX7zla1olopfCKdYpLIyc7CEt6XyznBjtwx5B0NMP3pWYUTbgBrox0Ip/69IspJovAh38B9aD+2Y3pMvzDCPyuxNoFjUwZxH7Uqx+NGP06HgoKhX1/Uwyou7JS/V43p/mzCdWUoR+txA/UfbaQ6LIUsS6C97ASuo8DV+lZ9pg4lWAG76rv60N7660BQO78/y/bgcqpwpXI6Ve2UvlfowOP0GxcU73K0wXXMW07LnqMven1HT0VT2m1Tjk3ZpM+xEvn4LPJnmwgJBuqLSUsv76DcHqA5Y9jwavHOsY7Gp95jio1GybViVZMxfG7lxA2ZRIbpMF1Rxt46SGQvtR4LU4Z0ZRRR0Lbefud0tNP1PsR1TAWldRu+HN2VHc/t8jP2p3ba41En33sclKabKWvxhRu3x0DTv/0+0rSzDhUTGW+XELq6mPIPCyh7fTYMMJH0aBbZE858QlFX9lGC2pnv9ZMoWmtk9eoNbH8ji8KXwDB4JKnTspk69MJ9KtpPXa8HB9ordCieRpytxgiXywUaLfqAB+/tNDSdAZ0GXP9yQDsPzux+blytFkJ1OXCiRxcM4A2AtL+azBt5d3JN658H6QkJsB8o5xw5awMP3D+0k/fYpq4vg7afHo47cZ3k3A5AOsvj9HZafm3E9W8XbkWProPjAVWuLLQrJDSSyNNniSLJfnoHSS/ns3hULDmnDky1CnpFS+T9RSy4r3WDVlCu7uITijzdFORqDFjGZ2EZnwUuO9Ufr6bw9TymacLZ8lyAM5L7tlNxQE9yUQ7Jpw+6HXSYoK0JJ+y/odx+GPW7gyx/tx7TEwsY7htZ1YZ67ISRHA5860TFyNj5y5gU0bogBeVq77l23dU6OODk+9pSSv7PSHISDfCtgs6j4vy2mt0b7cQ/3dZTRHwHI0e9Zwf99grUYyrolZ49O3eW7UGnV+Coeka/8f1xF2gM3nGhE01D0XrLadnbfY/TCZz100Ed7PhkJ85fZ5PzeGLzej8E7gu2D+lofGpbT/eLyhALJnU1e/+3nZC/2Im824Si0WL+HyfF1nrqsXIkMglLv56tR4e62Icowd6z+y3b8Pe4nEC3nZQErtTTV2tk5PxlTGp9RSxIoW9Xjq/7RZI8LZ/kaaA2Wqn8YDH5CzJRB5STn9jq9EI37aMAyvWJTP1tIlNRceyromxFAUXTczB8WHQ63VKcXz2fVqTRekekNi7FKxGRRGgaqfmz/42lDmp21+EeEE3EwC7Ob0A0sYOg9nfbaOjOTu3rGjZ/tJlte9t+mlFjTY3fPFW+qPkCly7C98xwhZi4WJSv62hUwggb1Orfzw099OxgxXsV5lv/9BuVOttBAoYHWl/epjvg1uryMoRdF4pWbaTxSDcuUrtc1NR80dzWPA3U7G1CGxFBxKkOrJ8eA86W6WP/qqPOEThg0mouB7cr8Pryd3Abr+XOZe66Lt7kd5Ey3J1FuqmJsnmF3sv/AEoE5hvA/k8X/cPCCT/9rz99g/pi7OcX2J/0L01B0YKzxQGMi/0H7B2v94646qn+pJrT7/XTGbHcn0P6LQr2A7bAL/Q56uSEJgT91X71PVRO+Z/dHdwfoSN8UH+c39jZU1rE9n6pZN7bfNje8Dcb6oAoIg3AVSHoNCegn9FvPYVjVNwQYsToOxjq288Ax5qofK8S5Z5k730DV+pQcGLfWka5kkxaYtv3TkRFGOHA3uZtBKDuZ68N+l8f2bOPJuxKe/BjHByJ3mNj7z7/T13UWuu9N3N3srM0XhcKxxqo/4ffh4172N1wLq3qBC4VuEpPc2jjoqq88pxTtHpS++MTPdcvdqSfhbjr7ez9rJLdfwsnLloHKJhMYdR/XkXV5/WED43t3UdonkUfYrwuFEVtYL9/2pbDeo5tL4Dro4gIPoL9u74t+pHw/+qLEhzS6ZRetdFKZVXzCy2VUBOjn84k6VonDQfOHMC7ax917KuisvbUGlQwDE5k6owUotSD2P7euTJE9zsP9xyEEvELHa7dm1i7o46Ggw00fu1oPnj6+b08ODKEurdeZO66T6mp2cXmV2eycAfEjL/3zJuRO6KJYPxT9xFat5KMaa+x+dMaamp2sW3NfKYs+PSsD9pcte/xypy5vFLezlOAvn6PF+etZ1dNDZ+umcsrG5sYdM94bvbtJIbRT/JIeC2vPDmDpRs/paamhl3bN7N2yUym5G7rsbfMRsdEoxzcytptDbiOu2jYsZSVnzYFnlg3iIiBbvZ8+A6fftHg3V6O5rXW1WXQmWOJ4CDWNh7x53I4aDzcSONhB04PqEeb/3YdP5ul1dJU8Qpz13jb0vp5L/LOVyHc9eBdzbmWA2KIHqSy64O11BxxoR6pZf2i9bS1ZcMifoXyzS7ee7+GuoMNNHzd6E3FaO2bWrZ+uJmtu9sIvH5qNOGkPJdGeGMJeW+feiqGkaSHkuhbWUDOqipsjQ4cDVYqFqSTlJJFme9uQt2VCnxro7raRn2jCzThREUp2HeWU/UN4HFRvymf8n/oAz9Rpis8dZTNS+e5eWVUH7Dj+MaOrWo1G2pUjDeYAt+k/ksTkZp6tr9fSb3DQX11KbNe3osx3gj/Zz/WRlebfYkxbBD8vYzF7zUx8ok0TKePf100/G87hIcRrgEGDCdpiMr2NwqpqLXj+KYe69ZCMtPSmP1B85NadFfpUf5ZQelng0ge60tPuqIvysnDlJfsJPLB1DOf0uMn8v5JWE5uZ/Fvy7AecuA4ZKVsXgFlThMpD7Z+LFE7ghT0ipvDf96B9UA9jk51pp1rD60pllRSI+2UvZpHxT7vuqlel0vhHxTiH0o+456TtuiG3k58sJXSxaupPuTAUVdJYW45rnPKVjBiiuiP+/MtlP7FjuMbG5VLsljliSVW46S+zuYNHs6B6nLgONxI4+FGnMeBEy5fv9iI4yzvietofOqxfrFDRiyx4djKSrFeZcLky7c3mMyEfFlK6ZchWGLb2uIKWgXcf9tN1b567F15K3J7Wrf1Y13vQ3RDxxCvt1H2aiFVdXbs+6pYnruRxu5+n50ukbSx4ViXZVH4iQ37Nw7s+yopzEhmTMZqbJ3dJv8opyBjGrnvVGE75MDRWE/1xhJ2NvbHdMOZoVl37aNNny4m65kclldaqW90YG+wUvFuOfuDI9OlShYAABirSURBVDB34b2aonudh7QihWFTX2KyYynvvTCRpcfd0H88K7Y+7zvw1zFiViHzDIt4552X2Pqdim5gNMOfW8L0+9t4/GUHdMOeZ0XRIN5atZm3XlpPEzpCw2O5bdKvevCNpFoiUmZwV+N7zM+soyk4lNiUV3j+6ejmeSoRTF62gtDlK3lv9Uu8842K0i+UQTfEMnz0jT321kHdyOm89OVcXluYQmJ+CBHx43nskVhqCwMMMppoHpn5JA2vb+alx9bicoN25Dx25t/pXY6uLsPPR5AY9QZrdtWg3jGi5fr31LH+qVbPxl73NEnrALTEzKxgxf1dHMU1odz3zCNQ/hozljXBwGjumv1bnknwq5kmgsmzp9P425U8NWYlup/Hctfkx7i37iW2Blp/dz7JC/vms/Ltp0jJd3t/v66UJ3/VcjrHkUZcHi0RQ3puW15olIhJ5NxfTtqaPFaPXMfUCNDdksPbBcspWJVH2hI7qsaA0TSSzGWZJPsy/YyjUhn5YS7FGensTMlnwwwLo6fNYu+cQrLuMMNV4ZjuziQzxU7a2+q5XYnpN5pZhU7yl6wm++E8HMdANzAKy10FvPl4GzezDkgia7aV2W/kMO4j6B85kknP5zGWEuxPFJHzqELBxhyGBzgrZ7jWSP/DVdT/OosFo/xagqee/V+B8Y4oX/swkjy/CNeCAgqfKMF+TMEQZmLkY8Vk3t88Kiq6EPo67JwYndV843KQgl6x0/DDWLJHd7CPhCZTsAIWL1pN5tg8nOgxmuLJXp5NSle6WE0syQ/FsvPtPNL/Gk/W24vp34mfdaY9nDmvSKYWFqEsKqJoyhhyjinow0wkzV1Fxt1d6BMMo5lVUE/ugmLS71mMPiye1Gk5JK9LJb+9/OsOmKa+TMbhPIqmjGGxPhzL3enkzjRRd9JKzrJ0MoJWUXAO9zd9sexBprz3L79PljJp9FIAtHcsZOcrI7o4lnVifOqhfrEzImNN9F1Zyvejzc2B7i/MmFjORs1Y4s5IuztdC25/MJWNOSVkTakmaW4J2V2f/ZkCtPUu9yH9Epm1KIvc+cVkpBSjDDCRNDWHdG0qOW7vvXLdczyiYJpWRJE+n6IlaRQfcsFVYZiGplE0Y5J3fXYiQFCGZrFsrkLBu3mkLbLjQofxehOJs18nY3iAmnbTPho55XUKKKD41XSKDrsg2IDxhniyl2XTUdcmes5lR48e/fFcClDVSyGBogOeT5k5/AUap25kzcTzeZ/DxcH18QzuWwAzNi3kzp7MG62ZT9JTexixciPTz/tbXFU+zRnJjL23sWTDHIZ1843PSqCbcIUQHVK/c+C+woDu1C7ksVE4NpWKocV8Euh+k/NVr/M1dl5A45P0Y0JcOIKD28456/VHmYqfPt3Ix3hwYA3vbQz8UrufBM8X7NkLMQ9N7vbAQAhxllyVzLongXHZy71pJw1WKl7Pp6QxnNFJvRcYCCHEhazXn1YkLgGaCB6e/QLKF//CQVgXXkR2EdHE8HzFzt6uhRDCny6RWYU55C8pIWdiIQ6PDmOkhdRXc8kY3NuVE0KIC9M5pxX95z//4Ycffuh4QiHEWenTpw8/+9nPersaQohudKmNndKPCXFh6dG0oqCgIPr0kewkIXpCnz59CAqSC3xC/NRcSmOn9GNCXFxkb+2CUx3cZZdd1ttVEUII0Y1+/PFHTp48eVGfzZcxSgjRHc75tMXF3pl2xQ8//MDJkyc7nlAIIcRF5acwlskYJYToDuccHFzsnWlXXWrLK4QQl4KfSt/+U1kOIUTvuTQSHoUQQgghhBAdOu/BQWPpFCxDZ/BpoPe/fLWUFEsi83efp8q4djF3dBIzt7vO0wyFEBelvxQwyjyOwroOpvPUU/ZkAmNerMRxXir2U+KiLN2MeXoF6sWwHtsbrzw1zB9lIeXNjhqMEEJceC6sKwdaAwN/EYah7acrdS/dMB5+4Bp+v3wltfKiZyF+YlSqXkwgbf35OrxUsa2YTYE9iZwXE3+a7/M4XzThJM+dRWRNLjkf2Nuf1mOl4J5xLD9wfqrWOVoMYWEMNGh7uyJCCNFlF1ZwMGg8C9etYPKN52+WYaPvI/bIZt6RqwdCnF+eni6/gb11zh6eiZ9DG8lfYyf+iXQsbZ3g6Mll7un1eb4ZEsl4NAzrG4VUftfOdA4b+xvPW606RxPN5DdLWXh/WG/XRAghuqxngwNPI7uWzCBllAXL0CQm5qzliwDH4I1rJmIxmzGbzZiHBL5Mu2tOPJa0mcxPS8QSP5YZpbvYnJtC4tB4xs5YT4P/wHh4F0uzJ5J0qwWLJZ7Eu1N4et42GgLV0XAbt8Wo7KrYeuFevhaiFznWp2G+eRYV1avJfiCBOLOZuNsnkL3ORovd2WWl9OU0xiSYMQ+JY9QDmRRW+p31PbCccUPGUFhZwazkOMz3FGB1Wym4w0zaqmoqF6Z7fxs3iglzKqh31VP2chpjbjZjvnkUaQurTu+j9nVpmOOyqfTf79VKMoeYSf/AAZ5Ksi3jWF7nZs/LCQwe0jyt/Y+FZKaOIm6IGXPCGNLmlGL1XxCPvUVdxk1fTlVTx+vJ+kEJVkMSqYm6059VvmDGPL2M6lXpjBpiJv0j74zUAxUUPDmOUXFmzHEJjEsvoOKA/+VLlfqtBWQ+MIq4IYMxD0lgTNosSvf5VTTg+qym4HYzaauqKM0aQ9yQCaxu6Fx5rk3pmBNmUbmvjLy0MSTEmTEnjCNzZbXfdlap/yiPtKQ47zZOy6Osroq8281MeKd5W3e8fODaV0p26ihve0pKI2/Tftyt1qlxzATi2U7xR21cPajOY9TIPPYct1F472DMk0u9bcRjp2pJNhPuiMNsNhN3+zjSF1RQf6zj7RiYSsPHr/H0uEQslniS0uaz+SuVMy44f/EaY4f4xjKzOWBaUY+NZUII0U16MDhQqV32LDPe/YqBqa/wxuLnuS+4koXv1p4xAIQ+sJCKinLKl4xnkKbtEt1/d2B49BVeuBU+XTiDTVc8xitz70XZtZK1Nae66QbWvjiDdxpCeXjWG6xYuZCXptzFoGON/CvgmTUdMTdFQ+0edrV3dkqIS1UfBVw7KSxuYsyi37H7zzspftRA9avTyK/yHTZ66lmdkU7+nhBS8zew/cN15IxUKct6nLzPfPumoqB4nOxc8zv0ExdTsiiNSA0QBA3vF7H7hhw27NjL9rxYHJtymfZoAQ3xBWz40262PBfN4XfzKK7uZJ01ieR+/DKJV2iJfe4jdu/MJVEDrqpZPPpMCc5fZ1H84Xa2LJqE8ct80p8p5dThZ/2658h6txHTtGK2fPg2uaOcrFtWyfftzc9jZecf7PQfPhKTXx+m9FGgvpRiWxw5b5eQc6sOvqkge3IOlYwkZ+0WtpTkk6yrJGfqLCpORT+1y5n2YhkOSxbF73/CltJ8Ug17yH8mn6pTB7gB16cCWjj88Sp2X5tJ0ZqXSQrtZHkaBZx7WLysgbi5G9ixezcbngrFumw2RX/xTqLWLmfanHLcw/Mo+XADyyaGsP3lfKr/DdpTy92Z5XNVkf9MHtXBYyl4fwsbCtMJ31PI6r+1Gh2Ch3P7UIX9f6giYHgwJIsNhWMxaCOZunY3u5emYEClesHjZLzXhOWZYrZ8vIV1s0bC73P4Te7Z3cPg2jWfjJz1OAY/xsI3FjI90ck7i9bT2HpMGfwYK7aWU/7RPO68pu2Uop4Zy4QQonv0XHBw/E+s31hHSNLzzJs4gpiYYdw7cx4TwwNMe4UBw8BQQkN0KO0UqY24jXuHxXDvyGh0mjCG3zeCmBG3ETPQReNB30GK+ndsX0HEXZMZPyKG6BtjGJb0MNPzJhPTRuARGh6Gzv0VdRdUzqoQF5bYCRkMD1VAoyNyXDrJYUfYvrUaFVCrSyn+vC/JM3NJsYRjCA1n+GN5ZFjslK0r9zsgc+C6IY2suy1EXm9AARTcOMOTyBxlRAEMt95O7FUumq4bR/otBhQUjKNuJ1pzhP1/7/yhnaLr6/tPX3TBCmCnfFU5R0yZ5M5IJDLUgPGmZHJeTKXv5yWU1gLUU1m+H+XWdLLvM2EcYCRyVBaZd+hwtXdA5rCxtxEi/iey5edB4G40MPK5SQyPjsTYD2zvF7PzZDwZv53K8OuNGMMspMzOYqRnOyWnzpBfn8qb72+gaFoikWFGjNdbSJk0GmPTHna3OBkdeH0eCYoj4+lETIPDMShdKM8DlgkZJF7rLSl89BhMmiPst3nrZa2owD4giYxpiUSGGgm/ZSp5D4bRdLy5iM4sn/rZFrY3RZL8rN80M9OIPuNUvEJEZCTY9lIX6L4wjYJOq/i2tw5FAb6rpOQjO1GTcsgYFYlxgJHw4VPJe9SE8+N1bO9yCpKD36/fSuN/P8Kc2eMZFhPDiAlzmHNP6BknutDoMPQPJXSgAX07J7p6aiwTQoju0HPBwQEbdS4tv4qL8TvgDyUmNvTsy9Tp0QFcqUOv0aHTAejQB4PruC+3WPlvwq6Hus2LWLpxF7UHHWde+m0txEAITTR9I/cdCBGQJoyoSKXF3+HXgfoPO02AfZ8VpzaaOJN/eG/A9Oso+NJK/ekDa+2ZB9Bo6X9tOM3JODr0V2gxXhva/FmQgnIluI+eOPtlUOvYa4PwWBNGv4+VwXFEB9vZX2sH9SD1DWCMjPCrD0TeEImuvQMyRxMO+mP8rzNPb2hDo4i66vSE7N9XD5FxWPr5TaSzYLkB9tfWelN4gnW4bBvJnTqOMXeMImFEAglPlGD3nEBtsQoCr099hIkW52E6W55mIJG/9FsGRUF/JbiPqYCDhoYjEB5JlN8khqHxRJ4+Sd655bM3NKAqYUQN8p8mgqiwM8+2hwwMAbWJps7GhQ37qVP7E3ljyzNRhhvMGLGxv6s5OZ46ar90c81NsUScbgMK0XGxXNPFok7rqbFMCCG6QVCPlXzMhRMdIbqWg6VOb6Bbn99wqrM+/VLIMCYXvIGyfCVbl8/grSNu6DeIESkv8MKUmMBPEOnjvSTulnfHCBGYRo++xU22CoqigOrE5QHVqeI+XkHWzdtb/dCNW2PAcczvd8EBDqAD9URB3fykF7eKU3VjW5GKeUWrr9xuwv7tAvf3OD34rjT4V1BP3/bKVlXcaL1nrlu7UmlOueEErqPgrs1npDm/5XQeN0Q38T2gbsomfY6VyMdnkT/bREgwUF9MWnp5q8IDr8/LW1XE0YXy2h4VTqCqwFV9W/bhur6EaKCpC8vnOqaCoqBrMa/L0V155lwVRfFeXerskfFRJ9+jRf+/Wn1+hYIeFecx1bucnXXShVMF/VW6lp/rde1eHeiy7hjLhBCiG/RccKDXocd9Rkesqi5A1+bPukX/GB6eFcPDgHq4lm2r5/Paihd468YKno8LMCi4nLg8CqH/Sx47J0RAHpUTx4DTAYIL9ZgKwXp0GtDq9Wh1ieSszWiRcw9AUF+MOuDb7qvO5eB3EOXj7uDoUaugV7RE3l/EgvtaH1opKFeHgLYRvQYajrUsSz3e1P49B4qCFrf34LldfdFdCdrYdIpnJp7REypX9seIg7JPduL8dTY5jyc2X+U4BO6zyjV3sKNbyrvcG/y4Vdz49eoub0Dl1ZnlA1ewAqqK6yTNB8V8j8uJXxvzUlUVFS36zh7PX6mnL26c/7fV58dVnOgJCxBMtSvIe0bffbTVxj3qOsvt0QVdHcuEEKIb9Fxa0aBIIvqp1H110O9DF1/sazwzT7MHKQOjuXfyvURoXDQeCTxn9XAjjZpQwq6TzlaIgDw2rF/6HRx56tlf70Z/bTghgHFwJP3VRhyecMLDmv8Z9Qp9DYaunKftFCVYAY+K6v/0mYb9NLTXuSgRmG8A+z9d9A/zr2d/+gb1xdhPgaBQjNeB3VbX4klMts9t7d9zMCAEA0ew/7Oj6EBH1OBwsDehhrZcV/0Vhb4GHXAClwpcpSfk9O9cVJVXBr4pt0PdVZ4BY6ge6vf7pYmB67OdWE+v984sHxivC0VRG9jvPzw4rOwOsAGbvmkCJYSQjk6Vn6pTWBQRyhFsX9S3+Npu3YtdE4npl11ZZkATQXSklqa/1eF/u0LjfhudeIhVt+nMWCaEEN2h54KDK25mfHIYjWWv8dZeB6rHRcNHr/DOrtZ5/SqOI400Hm6kscmFCji/8/19xNH+gBzId9uYO2UmS0u3sWt3LbW7t/HWgrXUaqKJNQe+YlH35VcwIIbo/z6L5RTiEmF9N4+yWjuOb+qpWraYskNGRo6O9d4Ea0khxWSn+OU8Kv5ix/GNHVvVarIfGkPakupuz5XW/TIKI9Vs2WTz3hD9TTWFa6px+1/8C1LQK24O/3kH1gP1OFQjSQ8l0beygJxVVdgaHTgarFQsSCcpJYuyRkATyeg7wlH/UET+Jiv1h+qxbspj8WdudJp2luKqSMyhUPdXW4d1j3wghfjjZeS9VEp1gwNHYz3V62eRds8Ecv/gAoyYIvrj/nwLpX+x4/jGRuWSLFZ5YonVOKmvs3kP9jut+8qLTYyn/6EyFi+rov4bB/WfLSdnUyMhfuu94+UD3dAxxOttlL1aSFWdHfu+KpbnbqRR33qOKnVf2iAyioi2IswrFfQeO3s/s1Lf4EDtl0jqfUb2v5tH4R/rcTgc1FctJ+9tK/1HT+D2AV1ZdwAGbht/HyG1a3ntgzpcqorji7XML/nijBNdLofDO3YdduD0gHq0+W/X8YCFt+0sxrIW9q0mPS2d5bVdnK8Q4pLXc2lFKERPeZWFvMbS50ez0qUjNOYuxqfcyGvv+012ZDMzx8ynxq+XPfhCEtsANBE8ub6UyYGecNSWKwYR/d+VbCpbyvrDTajoCL1hOE8tfpKHfx5gek8tu/7UREj8bfIECCHaojUx6bEorK8+SoHtCFwdxchZr5M11HfEpgln0qIilEWLKXpmDDnfgjIwCsvoAt6cYun2KwcMTiP3iXry3k4lrlChf+RIJj2bzvAvs6g/de+QJpbkh2LZ+XYe6X+NJ+vtxSTfksPbBcspWJVH2hI7qsaA0TSSzGWZJPuelRD+yALymvIoejWNcaqe8JtTyZwxlsUZ5bQZ5WhMxN9qpPgP27E+azoztcrfgGTy37qcwteLmZ2aj11VMF5vInH2KjJ870gwTX2ZjMN5FE0Zw2J9OJa708mdaaLupJWcZelkBK2i+JbOr67OlFfYr+NylOHZLHhWJW91BuPW6DEOSSJzZhq/S8mhKejyTi8f/RKZtSiL3PnFZKQUowwwkTQ1h3RtKjlumtOWju1hx2cqURMTW9xE3sINY0m9tZLFy9J5oiqd19+ahOXZNynUF1I0fwLF36goIVFY7ivg7SnDzyqpVTfsGQrnaln01lMkvupC94vbePCR8TQWVjZP5Klj/VMpLP3K74frniZpHYCWmJkVrLi/C3cKdHUsa+17O7bPbYQc7fwshRAC4LKjR4/+eC4FqB0n2V7Q1Jr5JGfaGL9uDQ8P6nh68N4gJ8SlwvFBOiMXKBT8aTGJ0vTbdqiUtAeKCMkrJz+xh++r6jUqLocbrcHvsdONq0lLKiJk0Q7yb+neBuL4IJ2kN/TkfZhPYieCl3NxsY9l/mSMEkJ0JDg4uM3vevYNyRc8B9ve2wp3Psa9nQwMhBAioGvHkj3RyM4lRVSf9Zt4L2xqdSHjRiaR/nol1gZfOtC8YqwDkkiO7eYDUkcl+SttmJ7K6PHAQAghRLNLOzg47kAZ/CRzHh/W089PEkL85ClETnmZTGM5eb89uzfxXugUSwbL5iahVOWSnjyKMY/msZ0k8pZkYWn7JFTXeeyUzSnAFjOLvPvbTCgSQgjRA845reg///kPP/xw6bwgoE+fPvzsZz/r7WoIIYToRj+VsUzGKCFEZ/RoWlFQUBB9+lwaFyD69OlDUFAP3sMthBCiV/wUxjIZo4QQ3eGce5HLLrtMzlIIIYS4qMlYJoQQXhf3aRIhhBBCCCFEt5HgQAghhBBCCAFIcCCEEEIIIYTwkeBACCGEEEIIAUhwIIQQQgghhPCR4EAIIYQQQggBSHAghBBCCCGE8JHgQAghhBBCCAFIcCCEEEIIIYTwkeBACCGEEEIIAUhwIIQQQgghhPCR4EAIIYQQQggBSHAghBBCCCGE8JHgQAghhBBCiEtEnz7tH/5LcCCEEEIIIcQloE+fPmi12nanuezHH3/88TzVRwghhBBCCHEBkysHQgghhBBCCECCAyGEEEIIIYSPBAdCCCGEEEIIQIIDIYQQQgghhI8EB0IIIYQQQghAggMhhBBCCCGEjwQHQgghhBBCCECCAyGEEEIIIYSPBAdCCCGEEEIIQIIDIYQQQgghhI8EB0IIIYQQQghAggMhhBBCCCGEjwQHQgghhBBCCECCAyGEEEIIIYSPBAdCCCGEEEIIQIIDIYQQQgghhI8EB0IIIYQQQghAggMhhBBCCCGEz/8Di+5AAqyb4lIAAAAASUVORK5CYII=)\n",
        "\n",
        "![image.png](data:image/png;base64,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)"
      ],
      "metadata": {
        "id": "Sdq_wMQRNLH2"
      }
    },
    {
      "cell_type": "code",
      "source": [
        "# Create a tensor\n",
        "import torch\n",
        "x = torch.arange(1., 8.)\n",
        "x, x.shape"
      ],
      "metadata": {
        "colab": {
          "base_uri": "https://localhost:8080/"
        },
        "id": "GU8c5SJ4Mjn_",
        "outputId": "036bdec8-ac77-44d4-ee9d-0e1f98c87f8e"
      },
      "execution_count": null,
      "outputs": [
        {
          "output_type": "execute_result",
          "data": {
            "text/plain": [
              "(tensor([1., 2., 3., 4., 5., 6., 7.]), torch.Size([7]))"
            ]
          },
          "metadata": {},
          "execution_count": 54
        }
      ]
    },
    {
      "cell_type": "code",
      "source": [
        "# Add an extra dimension\n",
        "x_reshaped = x.reshape(1, 7)\n",
        "x_reshaped, x_reshaped.shape"
      ],
      "metadata": {
        "colab": {
          "base_uri": "https://localhost:8080/"
        },
        "id": "Vp2w6srINtG_",
        "outputId": "7506b7e6-cbf9-43a0-b55a-68e196bd1b02"
      },
      "execution_count": null,
      "outputs": [
        {
          "output_type": "execute_result",
          "data": {
            "text/plain": [
              "(tensor([[1., 2., 3., 4., 5., 6., 7.]]), torch.Size([1, 7]))"
            ]
          },
          "metadata": {},
          "execution_count": 55
        }
      ]
    },
    {
      "cell_type": "markdown",
      "source": [
        "### **torch.view():**\n",
        "- See more: https://stackoverflow.com/a/54507446/7900723\n",
        "- We can also change the view with torch.view()\n",
        "- Remember though, changing the view of a tensor with torch.view() really only creates a new view of the same tensor."
      ],
      "metadata": {
        "id": "gSjPPeW0OrWY"
      }
    },
    {
      "cell_type": "code",
      "source": [
        "# Change view (keeps same data as original but changes view)\n",
        "\n",
        "z = x.view(1, 7)\n",
        "z, z.shape"
      ],
      "metadata": {
        "colab": {
          "base_uri": "https://localhost:8080/"
        },
        "id": "oj9cEYIDNvPG",
        "outputId": "c37711da-0764-41b8-cb5c-c528447c28fa"
      },
      "execution_count": null,
      "outputs": [
        {
          "output_type": "execute_result",
          "data": {
            "text/plain": [
              "(tensor([[1., 2., 3., 4., 5., 6., 7.]]), torch.Size([1, 7]))"
            ]
          },
          "metadata": {},
          "execution_count": 56
        }
      ]
    },
    {
      "cell_type": "markdown",
      "source": [
        "### **Stacking:**\n",
        "- If we wanted to stack our new tensor on top of itself five times, we could do so with torch.stack().\n"
      ],
      "metadata": {
        "id": "AKy29Ek7PVU7"
      }
    },
    {
      "cell_type": "code",
      "source": [
        "tensor_emp = torch.arange(10., 100., 10.)\n",
        "print(tensor_emp)"
      ],
      "metadata": {
        "colab": {
          "base_uri": "https://localhost:8080/"
        },
        "id": "pmLQsKRaPjoY",
        "outputId": "38a10d34-f121-4863-c297-283f2aa63312"
      },
      "execution_count": null,
      "outputs": [
        {
          "output_type": "stream",
          "name": "stdout",
          "text": [
            "tensor([10., 20., 30., 40., 50., 60., 70., 80., 90.])\n"
          ]
        }
      ]
    },
    {
      "cell_type": "code",
      "source": [
        "# Stack tensors on top of each other\n",
        "x_stacked = torch.stack([tensor_emp, tensor_emp, tensor_emp, tensor_emp], dim=0) # try changing dim to dim=1 and see what happens\n",
        "x_stacked"
      ],
      "metadata": {
        "colab": {
          "base_uri": "https://localhost:8080/"
        },
        "id": "d3bIUBfLOnq9",
        "outputId": "200ac3ba-8dcb-414d-9148-fb2587ebaf83"
      },
      "execution_count": null,
      "outputs": [
        {
          "output_type": "execute_result",
          "data": {
            "text/plain": [
              "tensor([[10., 20., 30., 40., 50., 60., 70., 80., 90.],\n",
              "        [10., 20., 30., 40., 50., 60., 70., 80., 90.],\n",
              "        [10., 20., 30., 40., 50., 60., 70., 80., 90.],\n",
              "        [10., 20., 30., 40., 50., 60., 70., 80., 90.]])"
            ]
          },
          "metadata": {},
          "execution_count": 63
        }
      ]
    },
    {
      "cell_type": "code",
      "source": [
        "# When dim = 1\n",
        "x_stacked = torch.stack([tensor_emp, tensor_emp, tensor_emp, tensor_emp], dim=1) # try changing dim to dim=1 and see what happens\n",
        "x_stacked"
      ],
      "metadata": {
        "colab": {
          "base_uri": "https://localhost:8080/"
        },
        "id": "wo4iczAKPcXK",
        "outputId": "e0d6ea18-3a92-4b9b-a566-0fc971187081"
      },
      "execution_count": null,
      "outputs": [
        {
          "output_type": "execute_result",
          "data": {
            "text/plain": [
              "tensor([[10., 10., 10., 10.],\n",
              "        [20., 20., 20., 20.],\n",
              "        [30., 30., 30., 30.],\n",
              "        [40., 40., 40., 40.],\n",
              "        [50., 50., 50., 50.],\n",
              "        [60., 60., 60., 60.],\n",
              "        [70., 70., 70., 70.],\n",
              "        [80., 80., 80., 80.],\n",
              "        [90., 90., 90., 90.]])"
            ]
          },
          "metadata": {},
          "execution_count": 65
        }
      ]
    },
    {
      "cell_type": "markdown",
      "source": [
        "---\n",
        "<br/>\n",
        "<br/>\n",
        "<br/>\n",
        "\n",
        "\n",
        "### **Squeeze:**\n"
      ],
      "metadata": {
        "id": "_FR2zQxBRSvA"
      }
    },
    {
      "cell_type": "code",
      "source": [
        "x_reshaped"
      ],
      "metadata": {
        "colab": {
          "base_uri": "https://localhost:8080/"
        },
        "id": "imkZC7ErP2A7",
        "outputId": "c07d8dd5-b36b-4e87-c699-131415619c3c"
      },
      "execution_count": null,
      "outputs": [
        {
          "output_type": "execute_result",
          "data": {
            "text/plain": [
              "tensor([[1., 2., 3., 4., 5., 6., 7.]])"
            ]
          },
          "metadata": {},
          "execution_count": 66
        }
      ]
    },
    {
      "cell_type": "code",
      "source": [
        "print(f\"Previous tensor: {x_reshaped}\")\n",
        "print(f\"Previous shape: {x_reshaped.shape}\")\n",
        "\n",
        "# Remove extra dimension from x_reshaped\n",
        "x_squeezed = x_reshaped.squeeze()\n",
        "print(f\"\\nNew tensor: {x_squeezed}\")\n",
        "print(f\"New shape: {x_squeezed.shape}\")"
      ],
      "metadata": {
        "colab": {
          "base_uri": "https://localhost:8080/"
        },
        "id": "pJBnbntnRIFC",
        "outputId": "0a2140b4-6999-4618-d121-e600d8fa0b39"
      },
      "execution_count": null,
      "outputs": [
        {
          "output_type": "stream",
          "name": "stdout",
          "text": [
            "Previous tensor: tensor([[1., 2., 3., 4., 5., 6., 7.]])\n",
            "Previous shape: torch.Size([1, 7])\n",
            "\n",
            "New tensor: tensor([1., 2., 3., 4., 5., 6., 7.])\n",
            "New shape: torch.Size([7])\n"
          ]
        }
      ]
    },
    {
      "cell_type": "code",
      "source": [
        "print(f\"Previous tensor: {x_squeezed}\")\n",
        "print(f\"Previous shape: {x_squeezed.shape}\")\n",
        "\n",
        "## Add an extra dimension with unsqueeze\n",
        "x_unsqueezed = x_squeezed.unsqueeze(dim=0)\n",
        "print(f\"\\nNew tensor: {x_unsqueezed}\")\n",
        "print(f\"New shape: {x_unsqueezed.shape}\")"
      ],
      "metadata": {
        "colab": {
          "base_uri": "https://localhost:8080/"
        },
        "id": "UtnrGxFERJqI",
        "outputId": "d596f114-b6e2-49cb-dd46-941bfad4896e"
      },
      "execution_count": null,
      "outputs": [
        {
          "output_type": "stream",
          "name": "stdout",
          "text": [
            "Previous tensor: tensor([1., 2., 3., 4., 5., 6., 7.])\n",
            "Previous shape: torch.Size([7])\n",
            "\n",
            "New tensor: tensor([[1., 2., 3., 4., 5., 6., 7.]])\n",
            "New shape: torch.Size([1, 7])\n"
          ]
        }
      ]
    },
    {
      "cell_type": "code",
      "source": [
        "# Create tensor with specific shape\n",
        "x_original = torch.rand(size=(224, 224, 3))\n",
        "\n",
        "# Permute the original tensor to rearrange the axis order\n",
        "x_permuted = x_original.permute(2, 0, 1) # shifts axis 0->1, 1->2, 2->0\n",
        "\n",
        "print(f\"Previous shape: {x_original.shape}\")\n",
        "print(f\"New shape: {x_permuted.shape}\")"
      ],
      "metadata": {
        "colab": {
          "base_uri": "https://localhost:8080/"
        },
        "id": "JQcyjjqSSQg5",
        "outputId": "3c26fc18-39bd-4a71-87c2-856f8da130e2"
      },
      "execution_count": null,
      "outputs": [
        {
          "output_type": "stream",
          "name": "stdout",
          "text": [
            "Previous shape: torch.Size([224, 224, 3])\n",
            "New shape: torch.Size([3, 224, 224])\n"
          ]
        }
      ]
    },
    {
      "cell_type": "markdown",
      "source": [
        "---\n",
        "</br>\n",
        "</br>\n",
        "\n",
        "## **Indexing (selecting data from tensors):**"
      ],
      "metadata": {
        "id": "Q3GgiCUZSuy2"
      }
    },
    {
      "cell_type": "code",
      "source": [
        "# Create a tensor\n",
        "import torch\n",
        "x = torch.arange(1, 10).reshape(1, 3, 3)\n",
        "x, x.shape"
      ],
      "metadata": {
        "colab": {
          "base_uri": "https://localhost:8080/"
        },
        "id": "d5w3jhRNSssS",
        "outputId": "9f8a369c-9bdd-46db-bcc0-a8b2a39a4035"
      },
      "execution_count": 11,
      "outputs": [
        {
          "output_type": "execute_result",
          "data": {
            "text/plain": [
              "(tensor([[[1, 2, 3],\n",
              "          [4, 5, 6],\n",
              "          [7, 8, 9]]]),\n",
              " torch.Size([1, 3, 3]))"
            ]
          },
          "metadata": {},
          "execution_count": 11
        }
      ]
    },
    {
      "cell_type": "code",
      "source": [
        "# Let's index bracket by bracket\n",
        "print(f\"First:\\n {x[0]}\")\n",
        "print(f\"Second: {x[0][0]}\")\n",
        "print(f\"Third: {x[0][0][0]}\")"
      ],
      "metadata": {
        "colab": {
          "base_uri": "https://localhost:8080/"
        },
        "id": "X4wZZ4lmT9jy",
        "outputId": "dbb1617e-6180-4ed2-b012-29753c359269"
      },
      "execution_count": 14,
      "outputs": [
        {
          "output_type": "stream",
          "name": "stdout",
          "text": [
            "First:\n",
            " tensor([[1, 2, 3],\n",
            "        [4, 5, 6],\n",
            "        [7, 8, 9]])\n",
            "Second: tensor([1, 2, 3])\n",
            "Third: 1\n"
          ]
        }
      ]
    },
    {
      "cell_type": "code",
      "source": [
        "x[:, 0]"
      ],
      "metadata": {
        "id": "7JRQHrGaUDAp",
        "colab": {
          "base_uri": "https://localhost:8080/"
        },
        "outputId": "802962fc-50da-471c-f3de-eb77dbe2357f"
      },
      "execution_count": 12,
      "outputs": [
        {
          "output_type": "execute_result",
          "data": {
            "text/plain": [
              "tensor([[1, 2, 3]])"
            ]
          },
          "metadata": {},
          "execution_count": 12
        }
      ]
    },
    {
      "cell_type": "code",
      "source": [
        "x[:, :, 1]"
      ],
      "metadata": {
        "colab": {
          "base_uri": "https://localhost:8080/"
        },
        "id": "j4nn-iOLMxHz",
        "outputId": "cfff97d8-cd77-47d9-8e13-0a62b18329ef"
      },
      "execution_count": 4,
      "outputs": [
        {
          "output_type": "execute_result",
          "data": {
            "text/plain": [
              "tensor([[2, 5, 8]])"
            ]
          },
          "metadata": {},
          "execution_count": 4
        }
      ]
    },
    {
      "cell_type": "code",
      "source": [
        "import torch\n",
        "\n",
        "# Create a 2x3x3 tensor\n",
        "x = torch.arange(1, 19).reshape(2, 3, 3)\n",
        "print(\"Original 3D Tensor:\\n\", x)\n",
        "\n",
        "# Select all elements from the first column of the second dimension\n",
        "first_column = x[:, :, 0]\n",
        "print(\"First Column of the Second Dimension:\\n\", first_column)\n"
      ],
      "metadata": {
        "colab": {
          "base_uri": "https://localhost:8080/"
        },
        "id": "wYc_KzHHMyV9",
        "outputId": "acd97fd0-8012-49bb-e5ee-3c256d2667dd"
      },
      "execution_count": 13,
      "outputs": [
        {
          "output_type": "stream",
          "name": "stdout",
          "text": [
            "Original 3D Tensor:\n",
            " tensor([[[ 1,  2,  3],\n",
            "         [ 4,  5,  6],\n",
            "         [ 7,  8,  9]],\n",
            "\n",
            "        [[10, 11, 12],\n",
            "         [13, 14, 15],\n",
            "         [16, 17, 18]]])\n",
            "First Column of the Second Dimension:\n",
            " tensor([[ 1,  4,  7],\n",
            "        [10, 13, 16]])\n"
          ]
        }
      ]
    },
    {
      "cell_type": "markdown",
      "source": [
        "## **Numpy:**"
      ],
      "metadata": {
        "id": "WsgnAsDnDo9r"
      }
    },
    {
      "cell_type": "code",
      "source": [
        "# NumPy array to tensor\n",
        "import torch\n",
        "import numpy as np\n",
        "array = np.arange(1.0, 8.0)\n",
        "tensor = torch.from_numpy(array)\n",
        "array, tensor"
      ],
      "metadata": {
        "colab": {
          "base_uri": "https://localhost:8080/"
        },
        "id": "HMXJV_v71fQz",
        "outputId": "3dcc9e50-db83-486e-9bc4-998547311644"
      },
      "execution_count": 15,
      "outputs": [
        {
          "output_type": "execute_result",
          "data": {
            "text/plain": [
              "(array([1., 2., 3., 4., 5., 6., 7.]),\n",
              " tensor([1., 2., 3., 4., 5., 6., 7.], dtype=torch.float64))"
            ]
          },
          "metadata": {},
          "execution_count": 15
        }
      ]
    },
    {
      "cell_type": "code",
      "source": [
        "# Change the array, keep the tensor\n",
        "array = array + 1\n",
        "array, tensor"
      ],
      "metadata": {
        "colab": {
          "base_uri": "https://localhost:8080/"
        },
        "id": "593hD3cYDr3_",
        "outputId": "e8cf3029-beb3-4754-eb91-bf2edd5c29d5"
      },
      "execution_count": 16,
      "outputs": [
        {
          "output_type": "execute_result",
          "data": {
            "text/plain": [
              "(array([2., 3., 4., 5., 6., 7., 8.]),\n",
              " tensor([1., 2., 3., 4., 5., 6., 7.], dtype=torch.float64))"
            ]
          },
          "metadata": {},
          "execution_count": 16
        }
      ]
    },
    {
      "cell_type": "code",
      "source": [
        "# Tensor to NumPy array\n",
        "tensor_exm = torch.ones(7) # create a tensor of ones with dtype=float32\n",
        "numpy_tensor = tensor_exm.numpy() # will be dtype=float32 unless changed\n",
        "tensor_exm, numpy_tensor"
      ],
      "metadata": {
        "colab": {
          "base_uri": "https://localhost:8080/"
        },
        "id": "nxfemsf8Dvxs",
        "outputId": "40a04cdc-28d0-45ac-c7cc-fe65566bedf8"
      },
      "execution_count": 18,
      "outputs": [
        {
          "output_type": "execute_result",
          "data": {
            "text/plain": [
              "(tensor([1., 1., 1., 1., 1., 1., 1.]),\n",
              " array([1., 1., 1., 1., 1., 1., 1.], dtype=float32))"
            ]
          },
          "metadata": {},
          "execution_count": 18
        }
      ]
    },
    {
      "cell_type": "code",
      "source": [
        "# Change the tensor_exm, keep the array the same\n",
        "tensor_exm = tensor_exm + 1\n",
        "tensor_exm, numpy_tensor"
      ],
      "metadata": {
        "colab": {
          "base_uri": "https://localhost:8080/"
        },
        "id": "N0i3HOVwD15J",
        "outputId": "52a2a97e-5963-4f68-f98d-a1f516d5de36"
      },
      "execution_count": 21,
      "outputs": [
        {
          "output_type": "execute_result",
          "data": {
            "text/plain": [
              "(tensor([2., 2., 2., 2., 2., 2., 2.]),\n",
              " array([1., 1., 1., 1., 1., 1., 1.], dtype=float32))"
            ]
          },
          "metadata": {},
          "execution_count": 21
        }
      ]
    },
    {
      "cell_type": "markdown",
      "source": [
        "\n",
        "\n",
        "---\n",
        "<br/>\n",
        "\n",
        "## **Reproducibility (trying to take the random out of random):**\n",
        "- Fixing Randomness (Fixed Random)"
      ],
      "metadata": {
        "id": "KPW77tGpHNq9"
      }
    },
    {
      "cell_type": "code",
      "source": [
        "import torch\n",
        "import random\n",
        "\n",
        "# # Set the random seed\n",
        "RANDOM_SEED=42 # try changing this to different values and see what happens to the numbers below\n",
        "torch.manual_seed(seed=RANDOM_SEED)\n",
        "random_tensor_C = torch.rand(3, 4)"
      ],
      "metadata": {
        "id": "T9xbj0MuD-BH"
      },
      "execution_count": 22,
      "outputs": []
    },
    {
      "cell_type": "markdown",
      "source": [
        "\n",
        "\n",
        "---\n",
        "<br/>\n",
        "\n",
        "## **GPUs:**"
      ],
      "metadata": {
        "id": "OTsycyGoIdkl"
      }
    },
    {
      "cell_type": "code",
      "source": [
        "!nvidia-smi"
      ],
      "metadata": {
        "colab": {
          "base_uri": "https://localhost:8080/"
        },
        "id": "UxRQXK2UIXL9",
        "outputId": "713fb559-b130-44b8-a31c-aa825a9be506"
      },
      "execution_count": 1,
      "outputs": [
        {
          "output_type": "stream",
          "name": "stdout",
          "text": [
            "Tue May 28 12:17:15 2024       \n",
            "+---------------------------------------------------------------------------------------+\n",
            "| NVIDIA-SMI 535.104.05             Driver Version: 535.104.05   CUDA Version: 12.2     |\n",
            "|-----------------------------------------+----------------------+----------------------+\n",
            "| GPU  Name                 Persistence-M | Bus-Id        Disp.A | Volatile Uncorr. ECC |\n",
            "| Fan  Temp   Perf          Pwr:Usage/Cap |         Memory-Usage | GPU-Util  Compute M. |\n",
            "|                                         |                      |               MIG M. |\n",
            "|=========================================+======================+======================|\n",
            "|   0  Tesla T4                       Off | 00000000:00:04.0 Off |                    0 |\n",
            "| N/A   49C    P8              10W /  70W |      0MiB / 15360MiB |      0%      Default |\n",
            "|                                         |                      |                  N/A |\n",
            "+-----------------------------------------+----------------------+----------------------+\n",
            "                                                                                         \n",
            "+---------------------------------------------------------------------------------------+\n",
            "| Processes:                                                                            |\n",
            "|  GPU   GI   CI        PID   Type   Process name                            GPU Memory |\n",
            "|        ID   ID                                                             Usage      |\n",
            "|=======================================================================================|\n",
            "|  No running processes found                                                           |\n",
            "+---------------------------------------------------------------------------------------+\n"
          ]
        }
      ]
    },
    {
      "cell_type": "code",
      "source": [
        "import torch\n",
        "torch.cuda.is_available()"
      ],
      "metadata": {
        "id": "mZk-9h1QIXo3"
      },
      "execution_count": null,
      "outputs": []
    },
    {
      "cell_type": "markdown",
      "source": [
        "---\n",
        "## **Writing device agnostic code:**"
      ],
      "metadata": {
        "id": "Zf-M-JtILG_n"
      }
    },
    {
      "cell_type": "code",
      "source": [
        "# Setting up device agnostic code: https://pytorch.org/docs/stable/notes/cuda.html\n",
        "device = 'cuda' if torch.cuda.is_available() else \"cpu\"\n",
        "device"
      ],
      "metadata": {
        "id": "x9TYLQs-JXtZ"
      },
      "execution_count": null,
      "outputs": []
    },
    {
      "cell_type": "code",
      "source": [
        "# Count numbers\n",
        "torch.cuda.device_count()"
      ],
      "metadata": {
        "id": "O3H-KA-PJiwy"
      },
      "execution_count": null,
      "outputs": []
    },
    {
      "cell_type": "code",
      "source": [
        "# Shifting a tensor to gpu, when available. You must have connected to GPU on Google colab."
      ],
      "metadata": {
        "id": "l2PmB2gcKn84"
      },
      "execution_count": 1,
      "outputs": []
    },
    {
      "cell_type": "code",
      "source": [
        "import torch\n",
        "device = 'cuda' if torch.cuda.is_available() else \"cpu\"\n",
        "device"
      ],
      "metadata": {
        "colab": {
          "base_uri": "https://localhost:8080/",
          "height": 35
        },
        "id": "smfKIzwUKruC",
        "outputId": "7462680e-df1f-4ca0-a78a-2bfbc2b5cbc7"
      },
      "execution_count": 3,
      "outputs": [
        {
          "output_type": "execute_result",
          "data": {
            "text/plain": [
              "'cuda'"
            ],
            "application/vnd.google.colaboratory.intrinsic+json": {
              "type": "string"
            }
          },
          "metadata": {},
          "execution_count": 3
        }
      ]
    },
    {
      "cell_type": "code",
      "source": [
        "tensor = torch.tensor([1, 2 ,3])\n",
        "print(tensor, tensor.device)"
      ],
      "metadata": {
        "colab": {
          "base_uri": "https://localhost:8080/"
        },
        "id": "hASErBoJKuAX",
        "outputId": "9a8291dd-3703-475f-b2a5-15ebb09e34da"
      },
      "execution_count": 4,
      "outputs": [
        {
          "output_type": "stream",
          "name": "stdout",
          "text": [
            "tensor([1, 2, 3]) cpu\n"
          ]
        }
      ]
    },
    {
      "cell_type": "code",
      "source": [
        "tensor_on_gpu = tensor.to(device)\n",
        "tensor_on_gpu"
      ],
      "metadata": {
        "id": "6F-GZ6FHK18e"
      },
      "execution_count": null,
      "outputs": []
    },
    {
      "cell_type": "code",
      "source": [
        "# Moving tensors back to the cpu.\n",
        "# If tensor is on GPU, can't transform it to NumPy.\n",
        "tensor_on_gpu.numpy() # Error, when the tensor is on GPU"
      ],
      "metadata": {
        "id": "bTe4ASemLQWJ"
      },
      "execution_count": null,
      "outputs": []
    },
    {
      "cell_type": "code",
      "source": [
        "tensor_back_on_cpu = tensor_on_gpu.cpu().numpy()"
      ],
      "metadata": {
        "id": "adOpkw4RLf31"
      },
      "execution_count": null,
      "outputs": []
    }
  ]
}